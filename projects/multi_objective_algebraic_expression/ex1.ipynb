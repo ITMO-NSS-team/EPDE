{
 "cells": [
  {
   "cell_type": "code",
   "execution_count": null,
   "metadata": {
    "collapsed": false,
    "pycharm": {
     "name": "#%%\n"
    }
   },
   "outputs": [],
   "source": [
    "import sys, os\r\n",
    "root_dir = '\\\\'.join(os.getcwd().split('\\\\')[:-1])\r\n",
    "sys.path.append(root_dir)\r\n",
    "\r\n",
    "from copy import deepcopy\r\n",
    "from functools import reduce\r\n",
    "\r\n",
    "from buildingBlocks.Synthesis import Chain\r\n",
    "from buildingBlocks.Synthesis.Synthesizer import Synthesizer\r\n",
    "from buildingBlocks.default.Tokens import Constant, Sin, Product, Imp, Power, ImpComplex\r\n",
    "from buildingBlocks.Globals.GlobalEntities import set_constants, get_full_constant\r\n",
    "from buildingBlocks.default.EvolutionEntities import Equation\r\n",
    "from buildingBlocks.default.EvolutionEntities import PopulationOfEquations\r\n",
    "\r\n",
    "from buildingBlocks.Globals.supplementary.FrequencyProcessor import FrequencyProcessor4TimeSeries as fp\r\n",
    "import buildingBlocks.Globals.GlobalEntities as Bg\r\n",
    "import buildingBlocks.Builder.OperatorsBuilder as Ob\r\n",
    "from load_data import get_data\r\n",
    "\r\n",
    "from moea_dd.src.moeadd import *\r\n",
    "from moea_dd.src.moeadd_supplementary import *\r\n",
    "from copy import deepcopy\r\n",
    "\r\n",
    "\r\n",
    "import moea_dd.forMoeadd.entities.EvolutionaryEntities as Ee\r\n",
    "import moea_dd.forMoeadd.entities.Objectives as Objs\r\n",
    "\r\n",
    "import numpy as np\r\n",
    "import matplotlib.pyplot as plt\r\n",
    "from time import perf_counter"
   ]
  },
  {
   "cell_type": "markdown",
   "metadata": {},
   "source": [
    "## Set tokens from which algorithm will be built model-expression\r\n",
    "Constant token is the target that will be approximated by other tokens\r\n",
    "ImpComplex is a set of splitted single pulses obtained from periodic impulse"
   ]
  },
  {
   "cell_type": "code",
   "execution_count": null,
   "metadata": {},
   "outputs": [],
   "source": [
    "token1 = Constant(val=None, name_='target', mandatory=1)\r\n",
    "token2 = Sin(optimize_id=1, name_='Sin')\r\n",
    "token3 = Imp(optimize_id=1, name_='Imp')\r\n",
    "token4 = Power(optimize_id=2, name_='Power')\r\n",
    "\r\n",
    "pattern = Imp(optimize_id=1)\r\n",
    "impComplex_token = ImpComplex(pattern=pattern, optimize_id=3)"
   ]
  },
  {
   "cell_type": "markdown",
   "metadata": {},
   "source": [
    "## Choose dataset\r\n",
    "There are 3 datasets of series with different structure. Good meta parameters (build_settings) of the algorithm are selected for each of them."
   ]
  },
  {
   "cell_type": "markdown",
   "metadata": {},
   "source": [
    "### Time series with strong seasonality"
   ]
  },
  {
   "cell_type": "code",
   "execution_count": null,
   "metadata": {},
   "outputs": [],
   "source": [
    "data = get_data(0)\r\n",
    "build_settings = {\r\n",
    "    'mutation': {\r\n",
    "        'simple': dict(intensive=1, increase_prob=1),\r\n",
    "        'complex': dict(prob=0., threshold=0.1, complex_token=impComplex_token)\r\n",
    "    },\r\n",
    "    'crossover': {\r\n",
    "        'simple': dict(intensive=1, increase_prob=0.3)\r\n",
    "    },\r\n",
    "    'tokens': [token1, token2, token3, token4],\r\n",
    "    'population': {\r\n",
    "        'size': 10\r\n",
    "    }\r\n",
    "}"
   ]
  },
  {
   "cell_type": "markdown",
   "metadata": {},
   "source": [
    "### Time series without seasonality"
   ]
  },
  {
   "cell_type": "code",
   "execution_count": null,
   "metadata": {},
   "outputs": [],
   "source": [
    "i = 2 #3\r\n",
    "data = get_data(i)\r\n",
    "build_settings = {\r\n",
    "    'mutation': {\r\n",
    "        'simple': dict(intensive=1, increase_prob=1),\r\n",
    "        'complex': dict(prob=0.5, threshold=0.5, complex_token=impComplex_token)\r\n",
    "    },\r\n",
    "    'crossover': {\r\n",
    "        'simple': dict(intensive=1, increase_prob=0.3)\r\n",
    "    },\r\n",
    "    'tokens': [token1, token3],\r\n",
    "    'population': {\r\n",
    "        'size': 10\r\n",
    "    }\r\n",
    "}\r\n"
   ]
  },
  {
   "cell_type": "markdown",
   "metadata": {},
   "source": [
    "## Get target and grid on which target will be approximated"
   ]
  },
  {
   "cell_type": "code",
   "execution_count": null,
   "metadata": {},
   "outputs": [],
   "source": [
    "grid = data['grid']\r\n",
    "target = data['target']\r\n",
    "target -= target.mean()\r\n",
    "\r\n",
    "set_constants(target=target)\r\n"
   ]
  },
  {
   "cell_type": "markdown",
   "metadata": {},
   "source": [
    "## Confirm build_settings and set info about individual into evolutionary operators\r\n",
    "max_tokens is reqularization parameter, without it model overfits"
   ]
  },
  {
   "cell_type": "code",
   "execution_count": null,
   "metadata": {},
   "outputs": [],
   "source": [
    "individ = Equation(max_tokens=10)\r\n",
    "Ob.set_operators(grid, individ, build_settings)"
   ]
  },
  {
   "cell_type": "markdown",
   "metadata": {},
   "source": [
    "# Choose type of algorithm\r\n",
    "Evaluate only one of the next two cells."
   ]
  },
  {
   "cell_type": "markdown",
   "metadata": {},
   "source": [
    "## Single-objective optimization\r\n",
    "optimizing only approximated quality of the model"
   ]
  },
  {
   "cell_type": "code",
   "execution_count": null,
   "metadata": {},
   "outputs": [],
   "source": [
    "population = PopulationOfEquations(iterations=2)\r\n",
    "time = perf_counter()\r\n",
    "population.evolutionary()\r\n",
    "time = perf_counter() - time\r\n",
    "\r\n",
    "inds = population.structure\r\n",
    "idxsort = np.argsort(list(map(lambda x: x.fitness, inds)))\r\n",
    "inds = [inds[i] for i in idxsort]\r\n",
    "time"
   ]
  },
  {
   "cell_type": "markdown",
   "metadata": {},
   "source": [
    "## Multi-objective optimization\r\n",
    "This is an add-on to the previous algorithm, additionaly optimizing model complexity (number of tokens in model). Has additional multi_build_settings."
   ]
  },
  {
   "cell_type": "code",
   "execution_count": null,
   "metadata": {},
   "outputs": [],
   "source": [
    "multi_build_settings = {\r\n",
    "    'weights_num': 5,\r\n",
    "    \"pop_size\": 20,\r\n",
    "    \"epochs\": 5\r\n",
    "}\r\n",
    "\r\n",
    "multi_individ = Ee.MoeaddIndividTS(x=individ, obj_funs=[Objs.objective1, Objs.objective2])\r\n",
    "pop_constr = Ee.PopulationConstructor(pattern=multi_individ)\r\n",
    "\r\n",
    "optimizer = moeadd_optimizer(pop_constructor=pop_constr,\r\n",
    "                             optimized_functionals=[Objs.objective1, Objs.objective2],\r\n",
    "                             solution_params=None,\r\n",
    "                             delta=1 / 50.,\r\n",
    "                             neighbors_number=5,\r\n",
    "                             weights_num=multi_build_settings['weights_num'],\r\n",
    "                             pop_size=multi_build_settings['pop_size'])\r\n",
    "\r\n",
    "\r\n",
    "operator = Ee.EvolutionaryOperator()\r\n",
    "optimizer.set_evolutionary(operator=operator)\r\n",
    "\r\n",
    "optimizer.pass_best_objectives(0, 0)\r\n",
    "\r\n",
    "def simple_selector(sorted_neighbors, number_of_neighbors=4):\r\n",
    "    return sorted_neighbors[:number_of_neighbors]\r\n",
    "\r\n",
    "\r\n",
    "optimizer.optimize(neighborhood_selector=simple_selector, delta=0.95,\r\n",
    "                   neighborhood_selector_params=(4,), epochs=multi_build_settings['epochs'], PBI_penalty=0.75)\r\n",
    "\r\n",
    "inds = list(map(lambda x: x.vals, optimizer.pareto_levels.levels[0]))\r\n",
    "idxsort = np.argsort(list(map(lambda x: x.fitness, inds)))\r\n",
    "inds = [inds[i] for i in idxsort]"
   ]
  },
  {
   "cell_type": "markdown",
   "metadata": {},
   "source": [
    "## Visualize Pareto-front (for multi-objective optimization)"
   ]
  },
  {
   "cell_type": "code",
   "execution_count": null,
   "metadata": {},
   "outputs": [],
   "source": [
    "prec = []\r\n",
    "length = []\r\n",
    "\r\n",
    "for idx, ind in enumerate(inds):\r\n",
    "    prec.append(ind.fitness)\r\n",
    "    length.append(len(ind.structure))\r\n",
    "plt.plot(length[1:], prec[1:], '-o', color='brown')\r\n",
    "plt.title('Pareto frontier')\r\n",
    "plt.ylabel('Model quality')\r\n",
    "plt.xlabel('Model complexity')"
   ]
  },
  {
   "cell_type": "markdown",
   "metadata": {},
   "source": [
    "## Choose one model from proposed individuals\r\n",
    "They are sorted by their quality (the first objective)"
   ]
  },
  {
   "cell_type": "code",
   "execution_count": null,
   "metadata": {},
   "outputs": [],
   "source": [
    "n = 0\r\n",
    "ind = deepcopy(inds[n])\r\n",
    "print(ind.formula(), ind.fitness)\r\n",
    "\r\n",
    "residuals = ind.value(grid)\r\n",
    "model = target + residuals\r\n",
    "\r\n",
    "model -= model.mean()\r\n",
    "residuals -= residuals.mean()"
   ]
  },
  {
   "cell_type": "markdown",
   "metadata": {},
   "source": [
    "# Generate synthetics based on the model\r\n",
    "Use parameters threshold_value and threshold_gaps (see sklearn.cluster.AgglomerativeClustering) to control stochasticity of synthetics (only for weakly seasonal time series), control amplitude noise of synthetic by adding custom residuals (np.array with realization of a random variable (any length, preferably more))"
   ]
  },
  {
   "cell_type": "code",
   "execution_count": null,
   "metadata": {},
   "outputs": [],
   "source": [
    "tmp_ind = deepcopy(ind)\r\n",
    "\r\n",
    "synth_settings = {\r\n",
    "    \"threshold_value\": 2,\r\n",
    "    \"threshold_gaps\": 0.5,\r\n",
    "    \"residuals\": residuals # or None\r\n",
    "}\r\n",
    "\r\n",
    "\r\n",
    "split_imps= {\r\n",
    "            'make': False,\r\n",
    "            'min_ampl': 0.05,\r\n",
    "            'max_freq': float('inf')\r\n",
    "}\r\n",
    "\r\n",
    "clusterer_value = Chain.ClustererPulses(\r\n",
    "    distance_threshold=synth_settings[\"threshold_value\"],\r\n",
    "    params=dict(grid=grid)\r\n",
    ")\r\n",
    "clusterer_gaps = Chain.ClustererGaps(distance_threshold=synth_settings[\"threshold_gaps\"])\r\n",
    "coder = Chain.Coder2(\r\n",
    "    clusterer_value=clusterer_value,\r\n",
    "    clusterer_gaps=clusterer_gaps,\r\n",
    "    individ=tmp_ind,\r\n",
    "    params=dict(grid=grid)\r\n",
    ")\r\n",
    "mc = Chain.BayesianChain()\r\n",
    "\r\n",
    "syc = Synthesizer(\r\n",
    "    individ=tmp_ind, \r\n",
    "    grid=grid, \r\n",
    "    coder=coder, \r\n",
    "    markov_chain=mc,\r\n",
    "    residuals=synth_settings['residuals'],\r\n",
    "    split_imps=split_imps\r\n",
    ")\r\n",
    "# print(tmp_ind.formula())\r\n",
    "\r\n",
    "syc.fit()\r\n",
    "\r\n"
   ]
  },
  {
   "cell_type": "markdown",
   "metadata": {},
   "source": [
    "# Having fitted generative model - start generate"
   ]
  },
  {
   "cell_type": "code",
   "execution_count": null,
   "metadata": {},
   "outputs": [],
   "source": [
    "target_spec = fp.fft(grid, target)\r\n",
    "model_spec = fp.fft(grid, model)\r\n",
    "\r\n",
    "dt = grid[1] - grid[0]\r\n",
    "new_grid = np.arange(grid.min(), 1.2 * grid.max(), dt)"
   ]
  },
  {
   "cell_type": "markdown",
   "metadata": {},
   "source": [
    "## Generate synthetic sample\r\n"
   ]
  },
  {
   "cell_type": "markdown",
   "metadata": {},
   "source": [
    "Every evaluation of this cell gives different results"
   ]
  },
  {
   "cell_type": "code",
   "execution_count": null,
   "metadata": {},
   "outputs": [],
   "source": [
    "synthetic = syc.predict(new_grid)[:len(grid)]\r\n",
    "synthetic -= synthetic.mean()\r\n",
    "synthetic_spec = fp.fft(grid, synthetic)\r\n",
    "synthetic_quality = (np.var((np.abs(target_spec[1]) - np.abs(synthetic_spec[1])))\r\n",
    "                 / np.var(np.abs(target_spec[1])))/(np.var(target - synthetic) / np.var(target))"
   ]
  },
  {
   "cell_type": "markdown",
   "metadata": {},
   "source": [
    "## See what you obtain"
   ]
  },
  {
   "cell_type": "markdown",
   "metadata": {},
   "source": [
    "### In the time domain"
   ]
  },
  {
   "cell_type": "code",
   "execution_count": null,
   "metadata": {},
   "outputs": [],
   "source": [
    "fig = plt.figure('orig and synthetic')\r\n",
    "axs = fig.subplots(3, 1, sharex=True, sharey=True)\r\n",
    "ts = [target, model]\r\n",
    "# ax = [None for _ in range(3)]\r\n",
    "labels = ['original', 'model', 'synthetic']\r\n",
    "colors = ['blue', 'orange', 'green']\r\n",
    "\r\n",
    "for i in range(3):\r\n",
    "    if i == 2:\r\n",
    "        axs[i].plot(grid, synthetic, color='red', linewidth=0.5, label='synthetic: quality {}'.format(round(synthetic_quality, 3)))\r\n",
    "    else:\r\n",
    "        axs[i].plot(grid, ts[i], label=labels[i], color=colors[i], linewidth=0.5)\r\n",
    "    axs[i].grid(True)\r\n",
    "    axs[i].set_xlabel('time')\r\n",
    "    axs[i].set_ylabel('amplitude')\r\n",
    "    axs[i].legend()\r\n",
    "\r\n",
    "fig.align_labels(axs)\r\n",
    "fig.tight_layout()"
   ]
  },
  {
   "cell_type": "markdown",
   "metadata": {},
   "source": [
    "### Spectra"
   ]
  },
  {
   "cell_type": "code",
   "execution_count": null,
   "metadata": {},
   "outputs": [],
   "source": [
    "fig_sp = plt.figure('spectra')\r\n",
    "axs = fig_sp.subplots(3, 1, sharex=True, sharey=True)\r\n",
    "\r\n",
    "specs = [target_spec, model_spec]\r\n",
    "\r\n",
    "for i in range(3):\r\n",
    "    if i == 2:\r\n",
    "        axs[i].plot(synthetic_spec[0], np.abs(synthetic_spec[1]), label=labels[i], color='red', linewidth=0.5)\r\n",
    "    else:\r\n",
    "        axs[i].plot(specs[i][0], np.abs(specs[i][1]), label=labels[i], color=colors[i], linewidth=0.5)\r\n",
    "    axs[i].grid(True)\r\n",
    "    axs[i].set_xlabel('frequency')\r\n",
    "    axs[i].set_ylabel('amplitude')\r\n",
    "    axs[i].legend()\r\n",
    "fig_sp.align_labels(axs)\r\n",
    "fig_sp.tight_layout()\r\n",
    "\r\n",
    "plt.show()"
   ]
  },
  {
   "cell_type": "code",
   "execution_count": null,
   "metadata": {},
   "outputs": [],
   "source": []
  }
 ],
 "metadata": {
  "kernelspec": {
   "display_name": "Python 3.8.3 64-bit ('base': conda)",
   "name": "pycharm-6784cf5"
  },
  "language_info": {
   "codemirror_mode": {
    "name": "ipython",
    "version": 3
   },
   "file_extension": ".py",
   "mimetype": "text/x-python",
   "name": "python",
   "nbconvert_exporter": "python",
   "pygments_lexer": "ipython3",
   "version": "3.8.3"
  }
 },
 "nbformat": 4,
 "nbformat_minor": 0
}