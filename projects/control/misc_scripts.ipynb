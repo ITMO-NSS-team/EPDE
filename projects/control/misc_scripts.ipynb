{
 "cells": [
  {
   "cell_type": "code",
   "execution_count": 6,
   "metadata": {},
   "outputs": [],
   "source": [
    "from typing import List, Dict, Tuple, Callable\n",
    "from functools import reduce\n",
    "\n",
    "import torch\n",
    "import copy\n",
    "import numpy as np"
   ]
  },
  {
   "cell_type": "code",
   "execution_count": 7,
   "metadata": {},
   "outputs": [],
   "source": [
    "eq1 = {\n",
    "    'd^3x/dt^3':{\n",
    "        'coeff': 1,\n",
    "        'term': [0, 0, 0],\n",
    "        'pow': 1,\n",
    "        'var': [0]\n",
    "    },\n",
    "    '-x*alpha':{\n",
    "        'coeff': -20,\n",
    "        'term': [None],\n",
    "        'pow': 1,\n",
    "        'var': [0]\n",
    "    },\n",
    "    '+beta*x*y':{\n",
    "        'coeff': 20,\n",
    "        'term': [[None], [None]],\n",
    "        'pow': [1, 1],\n",
    "        'var': [0, 1]\n",
    "    }\n",
    "}\n",
    "\n",
    "eq2 = {\n",
    "    'd^3y/dt^3':{\n",
    "        'coeff': 1,\n",
    "        'term': [0, 0, 0],\n",
    "        'pow': 1,\n",
    "        'var': [1]\n",
    "    },\n",
    "    '-y*alpha':{\n",
    "        'coeff': -20,\n",
    "        'term': [None],\n",
    "        'pow': 1,\n",
    "        'var': [1]\n",
    "    },\n",
    "    '+beta*x*y':{\n",
    "        'coeff': 20,\n",
    "        'term': [[None], [None]],\n",
    "        'pow': [1, 1],\n",
    "        'var': [0, 1]\n",
    "    }\n",
    "}"
   ]
  },
  {
   "cell_type": "code",
   "execution_count": 8,
   "metadata": {},
   "outputs": [
    {
     "name": "stdout",
     "output_type": "stream",
     "text": [
      "-3.0\n",
      "{0.0: (0,), 0.101: (1,), 0.202: (2,), 0.303: (3,), 0.404: (4,), 0.505: (5,), 0.606: (6,), 0.707: (7,), 0.808: (8,), 0.909: (9,), 1.01: (10,), 1.111: (11,), 1.212: (12,), 1.313: (13,), 1.414: (14,), 1.515: (15,), 1.616: (16,), 1.717: (17,), 1.818: (18,), 1.919: (19,), 2.02: (20,), 2.121: (21,), 2.222: (22,), 2.323: (23,), 2.424: (24,), 2.525: (25,), 2.626: (26,), 2.727: (27,), 2.828: (28,), 2.929: (29,), 3.03: (30,), 3.131: (31,), 3.232: (32,), 3.333: (33,), 3.434: (34,), 3.535: (35,), 3.636: (36,), 3.737: (37,), 3.838: (38,), 3.939: (39,), 4.04: (40,), 4.141: (41,), 4.242: (42,), 4.343: (43,), 4.444: (44,), 4.545: (45,), 4.646: (46,), 4.747: (47,), 4.848: (48,), 4.949: (49,), 5.051: (50,), 5.152: (51,), 5.253: (52,), 5.354: (53,), 5.455: (54,), 5.556: (55,), 5.657: (56,), 5.758: (57,), 5.859: (58,), 5.96: (59,), 6.061: (60,), 6.162: (61,), 6.263: (62,), 6.364: (63,), 6.465: (64,), 6.566: (65,), 6.667: (66,), 6.768: (67,), 6.869: (68,), 6.97: (69,), 7.071: (70,), 7.172: (71,), 7.273: (72,), 7.374: (73,), 7.475: (74,), 7.576: (75,), 7.677: (76,), 7.778: (77,), 7.879: (78,), 7.98: (79,), 8.081: (80,), 8.182: (81,), 8.283: (82,), 8.384: (83,), 8.485: (84,), 8.586: (85,), 8.687: (86,), 8.788: (87,), 8.889: (88,), 8.99: (89,), 9.091: (90,), 9.192: (91,), 9.293: (92,), 9.394: (93,), 9.495: (94,), 9.596: (95,), 9.697: (96,), 9.798: (97,), 9.899: (98,), 10.0: (99,)}\n"
     ]
    },
    {
     "data": {
      "text/plain": [
       "(0,)"
      ]
     },
     "execution_count": 8,
     "metadata": {},
     "output_type": "execute_result"
    }
   ],
   "source": [
    "grid = np.linspace(0, 10, 100)\n",
    "digits = np.floor(np.log10((grid[1] - grid[0])/2.)-1)\n",
    "print(digits)\n",
    "\n",
    "grid_rounded = {np.round(grid_val, -int(digits)): idx for idx, grid_val in np.ndenumerate(grid)}\n",
    "print(grid_rounded)\n",
    "grid_rounded[0.000]"
   ]
  },
  {
   "cell_type": "code",
   "execution_count": 9,
   "metadata": {},
   "outputs": [
    {
     "data": {
      "text/plain": [
       "array([ 0.        ,  0.1010101 ,  0.2020202 ,  0.3030303 ,  0.4040404 ,\n",
       "        0.50505051,  0.60606061,  0.70707071,  0.80808081,  0.90909091,\n",
       "        1.01010101,  1.11111111,  1.21212121,  1.31313131,  1.41414141,\n",
       "        1.51515152,  1.61616162,  1.71717172,  1.81818182,  1.91919192,\n",
       "        2.02020202,  2.12121212,  2.22222222,  2.32323232,  2.42424242,\n",
       "        2.52525253,  2.62626263,  2.72727273,  2.82828283,  2.92929293,\n",
       "        3.03030303,  3.13131313,  3.23232323,  3.33333333,  3.43434343,\n",
       "        3.53535354,  3.63636364,  3.73737374,  3.83838384,  3.93939394,\n",
       "        4.04040404,  4.14141414,  4.24242424,  4.34343434,  4.44444444,\n",
       "        4.54545455,  4.64646465,  4.74747475,  4.84848485,  4.94949495,\n",
       "        5.05050505,  5.15151515,  5.25252525,  5.35353535,  5.45454545,\n",
       "        5.55555556,  5.65656566,  5.75757576,  5.85858586,  5.95959596,\n",
       "        6.06060606,  6.16161616,  6.26262626,  6.36363636,  6.46464646,\n",
       "        6.56565657,  6.66666667,  6.76767677,  6.86868687,  6.96969697,\n",
       "        7.07070707,  7.17171717,  7.27272727,  7.37373737,  7.47474747,\n",
       "        7.57575758,  7.67676768,  7.77777778,  7.87878788,  7.97979798,\n",
       "        8.08080808,  8.18181818,  8.28282828,  8.38383838,  8.48484848,\n",
       "        8.58585859,  8.68686869,  8.78787879,  8.88888889,  8.98989899,\n",
       "        9.09090909,  9.19191919,  9.29292929,  9.39393939,  9.49494949,\n",
       "        9.5959596 ,  9.6969697 ,  9.7979798 ,  9.8989899 , 10.        ])"
      ]
     },
     "execution_count": 9,
     "metadata": {},
     "output_type": "execute_result"
    }
   ],
   "source": [
    "grid"
   ]
  },
  {
   "cell_type": "code",
   "execution_count": 10,
   "metadata": {},
   "outputs": [
    {
     "data": {
      "text/plain": [
       "array([ 0.   ,  0.101,  0.202,  0.303,  0.404,  0.505,  0.606,  0.707,\n",
       "        0.808,  0.909,  1.01 ,  1.111,  1.212,  1.313,  1.414,  1.515,\n",
       "        1.616,  1.717,  1.818,  1.919,  2.02 ,  2.121,  2.222,  2.323,\n",
       "        2.424,  2.525,  2.626,  2.727,  2.828,  2.929,  3.03 ,  3.131,\n",
       "        3.232,  3.333,  3.434,  3.535,  3.636,  3.737,  3.838,  3.939,\n",
       "        4.04 ,  4.141,  4.242,  4.343,  4.444,  4.545,  4.646,  4.747,\n",
       "        4.848,  4.949,  5.051,  5.152,  5.253,  5.354,  5.455,  5.556,\n",
       "        5.657,  5.758,  5.859,  5.96 ,  6.061,  6.162,  6.263,  6.364,\n",
       "        6.465,  6.566,  6.667,  6.768,  6.869,  6.97 ,  7.071,  7.172,\n",
       "        7.273,  7.374,  7.475,  7.576,  7.677,  7.778,  7.879,  7.98 ,\n",
       "        8.081,  8.182,  8.283,  8.384,  8.485,  8.586,  8.687,  8.788,\n",
       "        8.889,  8.99 ,  9.091,  9.192,  9.293,  9.394,  9.495,  9.596,\n",
       "        9.697,  9.798,  9.899, 10.   ])"
      ]
     },
     "execution_count": 10,
     "metadata": {},
     "output_type": "execute_result"
    }
   ],
   "source": [
    "np.round(grid, -int(digits))"
   ]
  },
  {
   "cell_type": "code",
   "execution_count": 11,
   "metadata": {},
   "outputs": [],
   "source": [
    "def get_terms_der_order(equation: Dict, variable_idx: int) -> np.ndarray:\n",
    "    '''\n",
    "    Get the highest orders of the ``variable_idx``-th variable derivative in the equation terms.\n",
    "    '''\n",
    "    term_max_ord = np.zeros(len(equation))\n",
    "    for term_idx, term_dict in enumerate(equation.values()):\n",
    "        # print(term_dict['term'])\n",
    "        if isinstance(term_dict['var'], list) and len(term_dict['var']) > 1:\n",
    "            max_ord = 0\n",
    "            for arg_idx, deriv_ord in enumerate(term_dict['term']):\n",
    "                if isinstance(term_dict['pow'][arg_idx], int) and term_dict['var'][arg_idx] == variable_idx:\n",
    "                    max_ord = max(max_ord, len([var for var in deriv_ord if var is not None]))\n",
    "            term_max_ord[term_idx] = max_ord\n",
    "        elif isinstance(term_dict['var'], int):\n",
    "            if isinstance(term_dict['pow'], int) and term_dict['var'] == variable_idx:\n",
    "                term_max_ord[term_idx] = max(0, len([var for var in term_dict['term'] if var is not None]))\n",
    "        elif isinstance(term_dict['var'], list) and len(term_dict['var']) == 1:\n",
    "            if isinstance(term_dict['pow'], int) and term_dict['var'][0] == variable_idx:\n",
    "                term_max_ord[term_idx] = max(0, len([var for var in term_dict['term'] if var is not None]))\n",
    "\n",
    "    return term_max_ord\n",
    "\n",
    "def get_higher_order_coeff(equation: Dict, orders: np.ndarray, var: int) -> Tuple[List]:\n",
    "    def transform_term(term: Dict, deriv_key: list, var: int) -> Dict:\n",
    "        term_filtered = copy.deepcopy(term)\n",
    "        if (isinstance(term['var'], int) and term['var'] == var) or (isinstance(term['var'], list) \n",
    "                                                                     and len(term['var']) == 1 and term['var'][0] == var):\n",
    "            term_filtered['term'] = [None,]\n",
    "            term_filtered['pow'] = 0\n",
    "        else:\n",
    "            term_idx = [der_var for idx, der_var in enumerate(term_filtered['term']) \n",
    "                        if der_var == deriv_key and term_filtered['pow'][idx] == var][0]\n",
    "            term_filtered['term'][term_idx] = [None,]\n",
    "            term_filtered['pow'][term_idx] = 0\n",
    "        return term_filtered            \n",
    "\n",
    "    denom_terms = []\n",
    "    numer_terms = []\n",
    "    for term_idx, term in enumerate(equation.values()):\n",
    "        if orders[term_idx] == np.max(orders):\n",
    "            denom_terms.append(transform_term(term, deriv_key=[0,]*int(np.max(orders)), var=var))\n",
    "        else:\n",
    "            numer_terms.append(term)\n",
    "    return [denom_terms, numer_terms]\n",
    "\n",
    "def get_eq_order(equation, variables: List[str]):\n",
    "    eq_var = 0; eq_orders = np.zeros(len(equation))\n",
    "    for var_idx in range(len(variables)):\n",
    "        orders = get_terms_der_order(equation=equation, variable_idx=var_idx)\n",
    "        if np.max(orders) > np.max(eq_orders):\n",
    "            eq_var = var_idx; eq_orders = orders\n",
    "    # print(f'Calling get_higher_order_coeff for var {eq_var} with orders {eq_orders}')\n",
    "    return eq_var, eq_orders\n",
    "\n",
    "def parse_right_part(equation, eq_var, eq_orders: np.ndarray):\n",
    "    denom_terms, numer_terms = get_higher_order_coeff(equation=equation, orders=eq_orders,\n",
    "                                                      var=eq_var)\n",
    "    return denom_terms, numer_terms\n",
    "\n",
    "def replace_operator(term: Dict, variables: List):\n",
    "    '''\n",
    "\n",
    "    Variables have to be in form of [(0, [None]), (0, [0,]), (0, [0, 0]), (0, [0, 0, 0]), (1, [None,]), ... ]\n",
    "    where the list elements are factors, taken as derivatives: (variable, differentiations), and the index in list\n",
    "    matches the index of dynamics operator output.\n",
    "\n",
    "    '''\n",
    "    term_ = copy.deepcopy(term)\n",
    "    if isinstance(term_['var'], list) and len(term_['var']) > 1:\n",
    "        for arg_idx, deriv_ord in enumerate(term_['term']):\n",
    "            term_['var'][arg_idx]  = variables.index((term_['var'][arg_idx], deriv_ord))\n",
    "            term_['term'][arg_idx] = [None,]\n",
    "    elif isinstance(term['var'], int) or (isinstance(term_['var'], list) and len(term_['var']) == 1):\n",
    "        if isinstance(term['var'], int):\n",
    "            term_var = term_['var']\n",
    "        else:\n",
    "            term_var = term_['var'][0]\n",
    "        if isinstance(term['pow'], int):\n",
    "            term_['var']  = variables.index((term_var, term_['term']))\n",
    "            term_['term'] = [None,]\n",
    "    return term_"
   ]
  },
  {
   "cell_type": "code",
   "execution_count": null,
   "metadata": {},
   "outputs": [],
   "source": [
    "class ImplicitEquation(object):\n",
    "    def __init__(self, system: List, grid: np.ndarray, variables: List[str]):\n",
    "        self.grid_dict = grid\n",
    "\n",
    "        self._dynamics_operators = []\n",
    "        var_order = []; vars_with_eqs = {}\n",
    "\n",
    "        for var, order in [get_eq_order(equation, variables) for equation in system]:\n",
    "            var_order.extend([(var, [None,])] + [(var, [0,]*(idx+1)) for idx in range(int(np.max(order))-1)])\n",
    "            if len(vars_with_eqs) == 0:\n",
    "                vars_with_eqs[int(np.max(order)) - 1] = (var, order)\n",
    "            else:\n",
    "                vars_with_eqs[list(vars_with_eqs.keys())[-1] + int(np.max(order))] = (var, order)\n",
    "\n",
    "        for var_idx, var in enumerate(var_order):\n",
    "            if var_idx in vars_with_eqs.keys():\n",
    "                operator = get_higher_order_coeff(equation = system[vars_with_eqs[var_idx][0]],\n",
    "                                                  orders = vars_with_eqs[var_idx][1], \n",
    "                                                  var = vars_with_eqs[var_idx][0])\n",
    "                operator[0] = [replace_operator(denom_term, var_order) for denom_term in operator[0]]\n",
    "                operator[1] = [replace_operator(numer_term, var_order) for numer_term in operator[1]]\n",
    "            else:\n",
    "                operator = [None, self.create_first_ord_eq(var_idx + 1)]\n",
    "            self._dynamics_operators.append(operator)\n",
    "\n",
    "    def __call__(self, t, y):\n",
    "        values = np.empty(len(self._dynamics_operators))\n",
    "        for idx, operator in enumerate(self._dynamics_operators):\n",
    "            if operator[0] is None:\n",
    "                denom = 1\n",
    "            else:\n",
    "                denom = [self.term_callable(term, t, y) for term in operator[0]]\n",
    "                if np.isclose(denom, 0):\n",
    "                    raise ZeroDivisionError('Denominator in the dynamics operator is close to zero.')\n",
    "            numerator = [self.term_callable(term, t, y) for term in operator[1]]\n",
    "            values[idx] = np.sum(numerator)/np.sum(denom)\n",
    "        return values\n",
    "\n",
    "    @property\n",
    "    def grid_dict(self):\n",
    "        return self._grid_rounded\n",
    "\n",
    "    @grid_dict.setter\n",
    "    def grid_dict(self, grid_points):\n",
    "        self._grid_step = grid_points[1] - grid_points[0]\n",
    "        digits = np.floor(np.log10(self._grid_step/2.)-1)\n",
    "        self._grid_rounded = {np.round(grid_val, -int(digits)): idx \n",
    "                              for idx, grid_val in np.ndenumerate(grid_points)}\n",
    "\n",
    "    def create_first_ord_eq(self, var: int) -> List[Tuple]:\n",
    "        '''\n",
    "        Example of order: np.array([3., 0., 0.]) for third ord eq. \n",
    "        '''\n",
    "        return [{'coeff' : 1., \n",
    "                 'term'  : [None,],\n",
    "                 'pow'   : 1,\n",
    "                 'var'   : var},] # TODO: validate\n",
    "\n",
    "    def merge_coeff(self, coeff: np.ndarray, t: float):\n",
    "        try:\n",
    "            return self.grid_dict[t]\n",
    "        except KeyError:\n",
    "            for grid_loc, grid_idx in self.grid_dict.items():\n",
    "                if grid_loc < t and grid_loc + self._grid_step > t:\n",
    "                    print('Search in ', grid_loc, grid_loc + self._grid_step)\n",
    "                    left_loc, right_loc = grid_loc, grid_loc + self._grid_step\n",
    "                    left_idx, right_idx = grid_idx[0], grid_idx[0] + 1\n",
    "                    break\n",
    "            val = coeff[left_idx] + (t - left_loc) / (right_loc - left_loc) * (coeff[right_idx] - coeff[left_idx])\n",
    "            return val\n",
    "\n",
    "    def term_callable(self, term: Dict, t, y):\n",
    "        if isinstance(term['coeff'], Callable):\n",
    "            k = term['coeff'](t)\n",
    "        elif isinstance(term['coeff'], torch.nn.Sequential):\n",
    "            k = term['coeff'](torch.from_numpy(t).reshape((1, 1).float()))\n",
    "        elif isinstance(term['coeff'], np.ndarray):\n",
    "            k = self.merge_coeff(term['coeff'], t)\n",
    "        else:\n",
    "            k = term['coeff']\n",
    "        if isinstance(term['var'], int):\n",
    "            if isinstance(term['pow'], int):\n",
    "                values = [y[term['var']]**term['pow'],]\n",
    "            elif isinstance(term['pow'], torch.nn.Sequential):\n",
    "                values = [term['power'](y[term['var']]).detach().numpy(),]\n",
    "            else:                \n",
    "                values = [term['pow'](y[term['var']]),]\n",
    "        elif isinstance(term['var'], list):\n",
    "            values = []\n",
    "            for var_idx, var in enumerate(term['var']):\n",
    "                if isinstance(term['pow'], int):\n",
    "                    values.append(y[var]**term['pow'][var_idx])\n",
    "                elif isinstance(term['pow'], torch.nn.Sequential):\n",
    "                    values.append(term['pow'][var_idx](y[var]).detach().numpy())\n",
    "                    # TODO: validate on LV eqs\n",
    "                else:                \n",
    "                    values.append(term['pow'][var_idx](y[var]))\n",
    "        return reduce(lambda x, z: x*z, values, k)"
   ]
  },
  {
   "cell_type": "code",
   "execution_count": 64,
   "metadata": {},
   "outputs": [],
   "source": [
    "eq1 = {\n",
    "    'd^3x/dt^3':{\n",
    "        'coeff': np.sin(grid),\n",
    "        'term': [0, 0],\n",
    "        'pow': 1,\n",
    "        'var': [0]\n",
    "    },\n",
    "    '-x*alpha':{\n",
    "        'coeff': -20,\n",
    "        'term': [None],\n",
    "        'pow': 1,\n",
    "        'var': [0]\n",
    "    },\n",
    "    '+beta*x*y':{\n",
    "        'coeff': 20,\n",
    "        'term': [[None], [None]],\n",
    "        'pow': [1, 1],\n",
    "        'var': [0, 1]\n",
    "    }\n",
    "}\n",
    "\n",
    "eq2 = {\n",
    "    'd^3y/dt^3':{\n",
    "        'coeff': np.cos(grid),\n",
    "        'term': [0, 0],\n",
    "        'pow': 1,\n",
    "        'var': [1]\n",
    "    },\n",
    "    '-y*alpha':{\n",
    "        'coeff': -20,\n",
    "        'term': [None],\n",
    "        'pow': 1,\n",
    "        'var': [1]\n",
    "    },\n",
    "    '+beta*x*y':{\n",
    "        'coeff': 20,\n",
    "        'term': [[None], [None]],\n",
    "        'pow': [1, 1],\n",
    "        'var': [0, 1]\n",
    "    }\n",
    "}"
   ]
  },
  {
   "cell_type": "code",
   "execution_count": 65,
   "metadata": {},
   "outputs": [
    {
     "name": "stdout",
     "output_type": "stream",
     "text": [
      "{'coeff': array([ 0.        ,  0.10083842,  0.20064886,  0.2984138 ,  0.39313661,\n",
      "        0.48385164,  0.56963411,  0.64960951,  0.72296256,  0.78894546,\n",
      "        0.84688556,  0.8961922 ,  0.93636273,  0.96698762,  0.98775469,\n",
      "        0.99845223,  0.99897117,  0.98930624,  0.96955595,  0.93992165,\n",
      "        0.90070545,  0.85230712,  0.79522006,  0.73002623,  0.65739025,\n",
      "        0.57805259,  0.49282204,  0.40256749,  0.30820902,  0.21070855,\n",
      "        0.11106004,  0.01027934, -0.09060615, -0.19056796, -0.28858706,\n",
      "       -0.38366419, -0.47483011, -0.56115544, -0.64176014, -0.7158225 ,\n",
      "       -0.7825875 , -0.84137452, -0.89158426, -0.93270486, -0.96431712,\n",
      "       -0.98609877, -0.99782778, -0.99938456, -0.99075324, -0.97202182,\n",
      "       -0.94338126, -0.90512352, -0.85763861, -0.80141062, -0.73701276,\n",
      "       -0.66510151, -0.58640998, -0.50174037, -0.41195583, -0.31797166,\n",
      "       -0.22074597, -0.12126992, -0.0205576 ,  0.0803643 ,  0.18046693,\n",
      "        0.27872982,  0.37415123,  0.46575841,  0.55261747,  0.63384295,\n",
      "        0.7086068 ,  0.77614685,  0.83577457,  0.8868821 ,  0.92894843,\n",
      "        0.96154471,  0.98433866,  0.99709789,  0.99969234,  0.99209556,\n",
      "        0.97438499,  0.94674118,  0.90944594,  0.86287948,  0.8075165 ,\n",
      "        0.74392141,  0.6727425 ,  0.59470541,  0.51060568,  0.42130064,\n",
      "        0.32770071,  0.23076008,  0.13146699,  0.03083368, -0.07011396,\n",
      "       -0.17034683, -0.26884313, -0.36459873, -0.45663749, -0.54402111]), 'term': [0, 0], 'pow': 1, 'var': [0]}\n"
     ]
    }
   ],
   "source": [
    "eq = ImplicitEquation(system = [eq1, eq2], grid = grid, variables=['x', 'y'])\n",
    "print(eq1['d^3x/dt^3'])"
   ]
  },
  {
   "cell_type": "code",
   "execution_count": 66,
   "metadata": {},
   "outputs": [
    {
     "data": {
      "text/plain": [
       "[[None, [{'coeff': 1.0, 'term': [None], 'pow': 1, 'var': 1}]],\n",
       " [[{'coeff': array([ 0.        ,  0.10083842,  0.20064886,  0.2984138 ,  0.39313661,\n",
       "            0.48385164,  0.56963411,  0.64960951,  0.72296256,  0.78894546,\n",
       "            0.84688556,  0.8961922 ,  0.93636273,  0.96698762,  0.98775469,\n",
       "            0.99845223,  0.99897117,  0.98930624,  0.96955595,  0.93992165,\n",
       "            0.90070545,  0.85230712,  0.79522006,  0.73002623,  0.65739025,\n",
       "            0.57805259,  0.49282204,  0.40256749,  0.30820902,  0.21070855,\n",
       "            0.11106004,  0.01027934, -0.09060615, -0.19056796, -0.28858706,\n",
       "           -0.38366419, -0.47483011, -0.56115544, -0.64176014, -0.7158225 ,\n",
       "           -0.7825875 , -0.84137452, -0.89158426, -0.93270486, -0.96431712,\n",
       "           -0.98609877, -0.99782778, -0.99938456, -0.99075324, -0.97202182,\n",
       "           -0.94338126, -0.90512352, -0.85763861, -0.80141062, -0.73701276,\n",
       "           -0.66510151, -0.58640998, -0.50174037, -0.41195583, -0.31797166,\n",
       "           -0.22074597, -0.12126992, -0.0205576 ,  0.0803643 ,  0.18046693,\n",
       "            0.27872982,  0.37415123,  0.46575841,  0.55261747,  0.63384295,\n",
       "            0.7086068 ,  0.77614685,  0.83577457,  0.8868821 ,  0.92894843,\n",
       "            0.96154471,  0.98433866,  0.99709789,  0.99969234,  0.99209556,\n",
       "            0.97438499,  0.94674118,  0.90944594,  0.86287948,  0.8075165 ,\n",
       "            0.74392141,  0.6727425 ,  0.59470541,  0.51060568,  0.42130064,\n",
       "            0.32770071,  0.23076008,  0.13146699,  0.03083368, -0.07011396,\n",
       "           -0.17034683, -0.26884313, -0.36459873, -0.45663749, -0.54402111]),\n",
       "    'term': [None],\n",
       "    'pow': 0,\n",
       "    'var': 0}],\n",
       "  [{'coeff': -20, 'term': [None], 'pow': 1, 'var': 0},\n",
       "   {'coeff': 20, 'term': [[None], [None]], 'pow': [1, 1], 'var': [0, 2]}]],\n",
       " [None, [{'coeff': 1.0, 'term': [None], 'pow': 1, 'var': 3}]],\n",
       " [[{'coeff': array([ 1.        ,  0.99490282,  0.97966323,  0.95443659,  0.91948007,\n",
       "            0.87515004,  0.8218984 ,  0.76026803,  0.69088721,  0.61446323,\n",
       "            0.53177518,  0.44366602,  0.35103397,  0.25482335,  0.15601496,\n",
       "            0.0556161 , -0.04534973, -0.14585325, -0.24486989, -0.34139023,\n",
       "           -0.43443032, -0.52304166, -0.60632092, -0.68341913, -0.75355031,\n",
       "           -0.81599952, -0.87013012, -0.91539031, -0.95131866, -0.97754893,\n",
       "           -0.9938137 , -0.99994717, -0.9958868 , -0.981674  , -0.95745366,\n",
       "           -0.92347268, -0.88007748, -0.82771044, -0.76690542, -0.69828229,\n",
       "           -0.6225406 , -0.54045251, -0.45285485, -0.36064061, -0.26474988,\n",
       "           -0.16616018, -0.06587659,  0.03507857,  0.13567613,  0.23489055,\n",
       "            0.33171042,  0.4251487 ,  0.51425287,  0.59811455,  0.67587883,\n",
       "            0.74675295,  0.8100144 ,  0.86501827,  0.91120382,  0.94810022,\n",
       "            0.97533134,  0.99261957,  0.99978867,  0.99676556,  0.98358105,\n",
       "            0.96036956,  0.9273677 ,  0.88491192,  0.83343502,  0.77346177,\n",
       "            0.70560358,  0.63055219,  0.54907273,  0.46199582,  0.37020915,\n",
       "            0.27464844,  0.17628785,  0.07613012, -0.0248037 , -0.12548467,\n",
       "           -0.2248864 , -0.32199555, -0.41582217, -0.50540974, -0.58984498,\n",
       "           -0.66826712, -0.7398767 , -0.8039437 , -0.859815  , -0.90692104,\n",
       "           -0.94478159, -0.97301068, -0.99132055, -0.99952453, -0.99753899,\n",
       "           -0.98538417, -0.96318398, -0.93116473, -0.88965286, -0.83907153]),\n",
       "    'term': [None],\n",
       "    'pow': 0,\n",
       "    'var': 2}],\n",
       "  [{'coeff': -20, 'term': [None], 'pow': 1, 'var': 2},\n",
       "   {'coeff': 20, 'term': [[None], [None]], 'pow': [1, 1], 'var': [0, 2]}]]]"
      ]
     },
     "execution_count": 66,
     "metadata": {},
     "output_type": "execute_result"
    }
   ],
   "source": [
    "eq._dynamics_operators"
   ]
  },
  {
   "cell_type": "code",
   "execution_count": 67,
   "metadata": {},
   "outputs": [
    {
     "data": {
      "text/plain": [
       "4"
      ]
     },
     "execution_count": 67,
     "metadata": {},
     "output_type": "execute_result"
    }
   ],
   "source": [
    "len(eq._dynamics_operators)"
   ]
  },
  {
   "cell_type": "code",
   "execution_count": 68,
   "metadata": {},
   "outputs": [
    {
     "name": "stdout",
     "output_type": "stream",
     "text": [
      "Search in  0.0 0.10101010101010101\n"
     ]
    },
    {
     "ename": "TypeError",
     "evalue": "'list' object is not callable",
     "output_type": "error",
     "traceback": [
      "\u001b[1;31m---------------------------------------------------------------------------\u001b[0m",
      "\u001b[1;31mTypeError\u001b[0m                                 Traceback (most recent call last)",
      "Cell \u001b[1;32mIn[68], line 1\u001b[0m\n\u001b[1;32m----> 1\u001b[0m \u001b[43meq\u001b[49m\u001b[43m(\u001b[49m\u001b[38;5;241;43m0.1\u001b[39;49m\u001b[43m,\u001b[49m\u001b[43m \u001b[49m\u001b[43mnp\u001b[49m\u001b[38;5;241;43m.\u001b[39;49m\u001b[43marray\u001b[49m\u001b[43m(\u001b[49m\u001b[43m[\u001b[49m\u001b[38;5;241;43m1\u001b[39;49m\u001b[43m,\u001b[49m\u001b[43m \u001b[49m\u001b[38;5;241;43m1\u001b[39;49m\u001b[43m,\u001b[49m\u001b[43m \u001b[49m\u001b[38;5;241;43m1\u001b[39;49m\u001b[43m,\u001b[49m\u001b[43m \u001b[49m\u001b[38;5;241;43m1\u001b[39;49m\u001b[43m]\u001b[49m\u001b[43m)\u001b[49m\u001b[43m)\u001b[49m\n",
      "Cell \u001b[1;32mIn[63], line 35\u001b[0m, in \u001b[0;36mImplicitEquation.__call__\u001b[1;34m(self, t, y)\u001b[0m\n\u001b[0;32m     33\u001b[0m         \u001b[38;5;28;01mif\u001b[39;00m np\u001b[38;5;241m.\u001b[39misclose(denom, \u001b[38;5;241m0\u001b[39m):\n\u001b[0;32m     34\u001b[0m             \u001b[38;5;28;01mraise\u001b[39;00m \u001b[38;5;167;01mZeroDivisionError\u001b[39;00m(\u001b[38;5;124m'\u001b[39m\u001b[38;5;124mDenominator in the dynamics operator is close to zero.\u001b[39m\u001b[38;5;124m'\u001b[39m)\n\u001b[1;32m---> 35\u001b[0m     numerator \u001b[38;5;241m=\u001b[39m [\u001b[38;5;28mself\u001b[39m\u001b[38;5;241m.\u001b[39mterm_callable(term, t, y) \u001b[38;5;28;01mfor\u001b[39;00m term \u001b[38;5;129;01min\u001b[39;00m operator[\u001b[38;5;241m1\u001b[39m]]\n\u001b[0;32m     36\u001b[0m     values[idx] \u001b[38;5;241m=\u001b[39m np\u001b[38;5;241m.\u001b[39msum(numerator)\u001b[38;5;241m/\u001b[39mnp\u001b[38;5;241m.\u001b[39msum(denom)\n\u001b[0;32m     37\u001b[0m \u001b[38;5;28;01mreturn\u001b[39;00m values\n",
      "Cell \u001b[1;32mIn[63], line 35\u001b[0m, in \u001b[0;36m<listcomp>\u001b[1;34m(.0)\u001b[0m\n\u001b[0;32m     33\u001b[0m         \u001b[38;5;28;01mif\u001b[39;00m np\u001b[38;5;241m.\u001b[39misclose(denom, \u001b[38;5;241m0\u001b[39m):\n\u001b[0;32m     34\u001b[0m             \u001b[38;5;28;01mraise\u001b[39;00m \u001b[38;5;167;01mZeroDivisionError\u001b[39;00m(\u001b[38;5;124m'\u001b[39m\u001b[38;5;124mDenominator in the dynamics operator is close to zero.\u001b[39m\u001b[38;5;124m'\u001b[39m)\n\u001b[1;32m---> 35\u001b[0m     numerator \u001b[38;5;241m=\u001b[39m [\u001b[38;5;28;43mself\u001b[39;49m\u001b[38;5;241;43m.\u001b[39;49m\u001b[43mterm_callable\u001b[49m\u001b[43m(\u001b[49m\u001b[43mterm\u001b[49m\u001b[43m,\u001b[49m\u001b[43m \u001b[49m\u001b[43mt\u001b[49m\u001b[43m,\u001b[49m\u001b[43m \u001b[49m\u001b[43my\u001b[49m\u001b[43m)\u001b[49m \u001b[38;5;28;01mfor\u001b[39;00m term \u001b[38;5;129;01min\u001b[39;00m operator[\u001b[38;5;241m1\u001b[39m]]\n\u001b[0;32m     36\u001b[0m     values[idx] \u001b[38;5;241m=\u001b[39m np\u001b[38;5;241m.\u001b[39msum(numerator)\u001b[38;5;241m/\u001b[39mnp\u001b[38;5;241m.\u001b[39msum(denom)\n\u001b[0;32m     37\u001b[0m \u001b[38;5;28;01mreturn\u001b[39;00m values\n",
      "Cell \u001b[1;32mIn[63], line 97\u001b[0m, in \u001b[0;36mImplicitEquation.term_callable\u001b[1;34m(self, term, t, y)\u001b[0m\n\u001b[0;32m     94\u001b[0m             values\u001b[38;5;241m.\u001b[39mappend(term[\u001b[38;5;124m'\u001b[39m\u001b[38;5;124mpow\u001b[39m\u001b[38;5;124m'\u001b[39m](y[var])\u001b[38;5;241m.\u001b[39mdetach()\u001b[38;5;241m.\u001b[39mnumpy())\n\u001b[0;32m     95\u001b[0m             \u001b[38;5;66;03m# TODO: validate on LV eqs\u001b[39;00m\n\u001b[0;32m     96\u001b[0m         \u001b[38;5;28;01melse\u001b[39;00m:                \n\u001b[1;32m---> 97\u001b[0m             values\u001b[38;5;241m.\u001b[39mappend(\u001b[43mterm\u001b[49m\u001b[43m[\u001b[49m\u001b[38;5;124;43m'\u001b[39;49m\u001b[38;5;124;43mpow\u001b[39;49m\u001b[38;5;124;43m'\u001b[39;49m\u001b[43m]\u001b[49m\u001b[43m(\u001b[49m\u001b[43my\u001b[49m\u001b[43m[\u001b[49m\u001b[43mvar\u001b[49m\u001b[43m]\u001b[49m\u001b[43m)\u001b[49m)\n\u001b[0;32m     98\u001b[0m \u001b[38;5;28;01mreturn\u001b[39;00m reduce(\u001b[38;5;28;01mlambda\u001b[39;00m x, z: x\u001b[38;5;241m*\u001b[39mz, values, k)\n",
      "\u001b[1;31mTypeError\u001b[0m: 'list' object is not callable"
     ]
    }
   ],
   "source": [
    "eq(0.1, np.array([1, 1, 1, 1]))"
   ]
  },
  {
   "cell_type": "code",
   "execution_count": null,
   "metadata": {},
   "outputs": [],
   "source": []
  },
  {
   "cell_type": "code",
   "execution_count": null,
   "metadata": {},
   "outputs": [],
   "source": []
  }
 ],
 "metadata": {
  "kernelspec": {
   "display_name": "Python 3",
   "language": "python",
   "name": "python3"
  },
  "language_info": {
   "codemirror_mode": {
    "name": "ipython",
    "version": 3
   },
   "file_extension": ".py",
   "mimetype": "text/x-python",
   "name": "python",
   "nbconvert_exporter": "python",
   "pygments_lexer": "ipython3",
   "version": "3.9.12"
  }
 },
 "nbformat": 4,
 "nbformat_minor": 2
}
