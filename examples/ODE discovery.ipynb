{
 "cells": [
  {
   "cell_type": "markdown",
   "id": "d0a67455",
   "metadata": {},
   "source": [
    "**Examples of ordinary differential equation discovery with EPDE framework**\n",
    "\n",
    "This notebook presents an overview of the evolutionary discovery of ODE on examples... "
   ]
  },
  {
   "cell_type": "code",
   "execution_count": 1,
   "id": "1b9842d8",
   "metadata": {},
   "outputs": [],
   "source": [
    "import numpy as np\n",
    "import os\n",
    "import sys\n",
    "\n",
    "import matplotlib.pyplot as plt\n",
    "import matplotlib\n",
    "\n",
    "SMALL_SIZE = 12\n",
    "matplotlib.rc('font', size=SMALL_SIZE)\n",
    "matplotlib.rc('axes', titlesize=SMALL_SIZE)"
   ]
  },
  {
   "cell_type": "markdown",
   "id": "141bc1de",
   "metadata": {},
   "source": [
    "ADD SOME WORDS ON EPDE PRINCIPLES"
   ]
  },
  {
   "cell_type": "code",
   "execution_count": 2,
   "id": "85b429c3",
   "metadata": {},
   "outputs": [],
   "source": [
    "import sys\n",
    "sys.path.append('..')\n",
    "import helpers"
   ]
  },
  {
   "cell_type": "code",
   "execution_count": 3,
   "id": "19ff1073",
   "metadata": {},
   "outputs": [],
   "source": [
    "import epde"
   ]
  },
  {
   "cell_type": "markdown",
   "id": "e2644fba",
   "metadata": {},
   "source": [
    "Principles of equation discovery can be illustrated by a simple example of reconstruction of first-order equation:\n",
    "\n",
    "\\begin{equation}\n",
    "\\label{eq:ODE1}\n",
    "x \\sin{t} + \\frac{d x}{d t} \\cos{t} = 1,\n",
    "\\end{equation}\n",
    "\n",
    "where the general solution for an arbitrary constant $C$ is:\n",
    "\n",
    "\\begin{equation}\n",
    "\\label{eq:ODE1_solution}\n",
    "x = \\sin{t} + C \\cos{t}.\n",
    "\\end{equation}\n",
    "\n",
    "To generate the data we will use an analytical particular solution, matching initial condition of $x(0) = 1.3$ (thus, $C = 1.3$) on the interval of $(0, 4 \\pi)$:\n",
    "\n",
    "\\begin{equation}\n",
    "\\label{eq:ODE1_part_solution}\n",
    "x = \\sin{t} + 1.3 \\cos{t}.\n",
    "\\end{equation}\n",
    "\n",
    "Furthermore, we will provide an example of using a priori known derivatvies, that can be easily calculated by differentiating the solution:\n",
    "\n",
    "\\begin{equation}\n",
    "\\label{eq:ODE1_deriv_solution}\n",
    "x' = \\cos{t} - 1.3 \\sin{t}.\n",
    "\\end{equation}"
   ]
  },
  {
   "cell_type": "code",
   "execution_count": 4,
   "id": "a517dd15",
   "metadata": {},
   "outputs": [
    {
     "data": {
      "text/plain": [
       "Text(0, 0.5, 'x')"
      ]
     },
     "execution_count": 4,
     "metadata": {},
     "output_type": "execute_result"
    },
    {
     "data": {
      "image/png": "[encoded data removed]",
      "text/plain": [
       "<Figure size 432x288 with 1 Axes>"
      ]
     },
     "metadata": {
      "needs_background": "light"
     },
     "output_type": "display_data"
    }
   ],
   "source": [
    "C = 1.3\n",
    "t = np.linspace(0, 4*np.pi, 200)\n",
    "x = np.sin(t) + C * np.cos(t)\n",
    "x_dot = np.cos(t) - C * np.sin(t)\n",
    "\n",
    "max_axis_idx = x.ndim - 1\n",
    "\n",
    "plt.plot(t, x, color = 'k', label = 'x(t)')\n",
    "plt.plot(t, x_dot, color = 'r', label = \"x'(t)\")\n",
    "plt.legend(loc = 'upper right')\n",
    "plt.xlabel('t')\n",
    "plt.ylabel('x')"
   ]
  },
  {
   "cell_type": "markdown",
   "id": "0cf7912d",
   "metadata": {},
   "source": [
    "Next, we shall initialize the equation search object. Here we are using multiobjective optimization (here, it i denoted explicitly, despite it being the default option). Non-defalut parameter is the size of the boundary: $s_{bnd} = 20$.\n",
    "\n",
    "Additional parameters will be as follows  population size number of optimziation epochs: $n\\_epochs = 30$.\n",
    "\n",
    "To be able to discovery the correct governing equation, the set of elementary functions (i.e. tokens) (in addition to the derivatives, that are always used) has to include the trigonometric functions. Furthermore, we will include grids to provide diversity of the tokens."
   ]
  },
  {
   "cell_type": "code",
   "execution_count": 5,
   "id": "a0250493",
   "metadata": {},
   "outputs": [
    {
     "name": "stdout",
     "output_type": "stream",
     "text": [
      "setting builder with <epde.optimizers.builder.StrategyBuilder object at 0x7f038c6336a0>\n",
      "setting builder with <epde.optimizers.builder.StrategyBuilder object at 0x7f038c6336a0>\n",
      "trig_token_params: VALUES = (0, 0)\n",
      "OrderedDict([('power', (1, 1)), ('dim', (0, 0))])\n"
     ]
    }
   ],
   "source": [
    "bnd = 20\n",
    "n_epochs = 55\n",
    "popsize = 8\n",
    "\n",
    "epde_search_obj = epde.EpdeSearch(multiobjective_mode = True, boundary = bnd, \n",
    "                                  dimensionality = max_axis_idx, coordinate_tensors = [t,])\n",
    "\n",
    "trig_tokens = epde.TrigonometricTokens(freq = (0.95, 1.05), dimensionality=max_axis_idx)\n",
    "grid_tokens = epde.GridTokens(['t',], dimensionality = max_axis_idx)\n",
    "\n",
    "epde_search_obj.set_moeadd_params(population_size = popsize, training_epochs=n_epochs)"
   ]
  },
  {
   "cell_type": "code",
   "execution_count": null,
   "id": "abbe8768",
   "metadata": {},
   "outputs": [
    {
     "name": "stdout",
     "output_type": "stream",
     "text": [
      "Deriv orders after definition [[None], [0]]\n",
      "initial_shape (200,) derivs_tensor.shape (200, 1)\n",
      "self.tokens is ['u', 'du/dx1']\n",
      "Here, derivs order is {'u': [None], 'du/dx1': [0]}\n",
      "The cardinality of defined token pool is [2 2 1]\n",
      "Among them, the pool contains [2 1]\n",
      "Creating new equation, sparsity value [0.00076255]\n",
      "New solution accepted, confirmed 1/8 solutions.\n",
      "Creating new equation, sparsity value [0.00183171]\n",
      "New solution accepted, confirmed 2/8 solutions.\n",
      "Creating new equation, sparsity value [5.24202345e-05]\n",
      "New solution accepted, confirmed 3/8 solutions.\n",
      "Creating new equation, sparsity value [2.4165782e-06]\n",
      "Creating new equation, sparsity value [8.11908815e-06]\n",
      "New solution accepted, confirmed 4/8 solutions.\n",
      "Creating new equation, sparsity value [0.00185935]\n",
      "New solution accepted, confirmed 5/8 solutions.\n",
      "Creating new equation, sparsity value [2.89777378e-05]\n",
      "New solution accepted, confirmed 6/8 solutions.\n",
      "Creating new equation, sparsity value [0.0019805]\n",
      "Creating new equation, sparsity value [5.13297856e-06]\n",
      "Creating new equation, sparsity value [6.32510657e-06]\n",
      "New solution accepted, confirmed 7/8 solutions.\n",
      "Creating new equation, sparsity value [9.70827107e-06]\n",
      "New solution accepted, confirmed 8/8 solutions.\n",
      "best_obj 2\n",
      "Multiobjective optimization : 0-th epoch.\n",
      "During MO : processing 0-th weight.\n",
      "During MO : processing 1-th weight.\n",
      "During MO : processing 2-th weight.\n",
      "During MO : processing 3-th weight.\n",
      "During MO : processing 4-th weight.\n",
      "During MO : processing 5-th weight.\n",
      "During MO : processing 6-th weight.\n",
      "During MO : processing 7-th weight.\n",
      "Multiobjective optimization : 1-th epoch.\n",
      "During MO : processing 0-th weight.\n",
      "During MO : processing 1-th weight.\n",
      "During MO : processing 2-th weight.\n",
      "During MO : processing 3-th weight.\n",
      "During MO : processing 4-th weight.\n",
      "During MO : processing 5-th weight.\n",
      "During MO : processing 6-th weight.\n",
      "During MO : processing 7-th weight.\n",
      "Multiobjective optimization : 2-th epoch.\n",
      "During MO : processing 0-th weight.\n",
      "During MO : processing 1-th weight.\n",
      "During MO : processing 2-th weight.\n",
      "During MO : processing 3-th weight.\n",
      "During MO : processing 4-th weight.\n",
      "During MO : processing 5-th weight.\n",
      "During MO : processing 6-th weight.\n",
      "During MO : processing 7-th weight.\n",
      "Multiobjective optimization : 3-th epoch.\n",
      "During MO : processing 0-th weight.\n",
      "During MO : processing 1-th weight.\n",
      "During MO : processing 2-th weight.\n",
      "During MO : processing 3-th weight.\n",
      "During MO : processing 4-th weight.\n",
      "During MO : processing 5-th weight.\n",
      "During MO : processing 6-th weight.\n",
      "During MO : processing 7-th weight.\n",
      "Multiobjective optimization : 4-th epoch.\n",
      "During MO : processing 0-th weight.\n",
      "During MO : processing 1-th weight.\n",
      "During MO : processing 2-th weight.\n",
      "During MO : processing 3-th weight.\n",
      "During MO : processing 4-th weight.\n",
      "During MO : processing 5-th weight.\n",
      "During MO : processing 6-th weight.\n",
      "During MO : processing 7-th weight.\n",
      "Multiobjective optimization : 5-th epoch.\n",
      "During MO : processing 0-th weight.\n",
      "During MO : processing 1-th weight.\n",
      "During MO : processing 2-th weight.\n",
      "During MO : processing 3-th weight.\n",
      "During MO : processing 4-th weight.\n",
      "During MO : processing 5-th weight.\n",
      "During MO : processing 6-th weight.\n",
      "During MO : processing 7-th weight.\n",
      "Multiobjective optimization : 6-th epoch.\n",
      "During MO : processing 0-th weight.\n",
      "During MO : processing 1-th weight.\n",
      "During MO : processing 2-th weight.\n",
      "During MO : processing 3-th weight.\n",
      "During MO : processing 4-th weight.\n",
      "During MO : processing 5-th weight.\n",
      "During MO : processing 6-th weight.\n",
      "During MO : processing 7-th weight.\n",
      "Multiobjective optimization : 7-th epoch.\n",
      "During MO : processing 0-th weight.\n",
      "During MO : processing 1-th weight.\n",
      "During MO : processing 2-th weight.\n",
      "During MO : processing 3-th weight.\n",
      "During MO : processing 4-th weight.\n",
      "During MO : processing 5-th weight.\n",
      "During MO : processing 6-th weight.\n",
      "During MO : processing 7-th weight.\n",
      "Multiobjective optimization : 8-th epoch.\n",
      "During MO : processing 0-th weight.\n",
      "During MO : processing 1-th weight.\n",
      "During MO : processing 2-th weight.\n",
      "During MO : processing 3-th weight.\n",
      "During MO : processing 4-th weight.\n",
      "During MO : processing 5-th weight.\n",
      "During MO : processing 6-th weight.\n",
      "During MO : processing 7-th weight.\n",
      "Multiobjective optimization : 9-th epoch.\n",
      "During MO : processing 0-th weight.\n",
      "During MO : processing 1-th weight.\n",
      "During MO : processing 2-th weight.\n",
      "During MO : processing 3-th weight.\n",
      "During MO : processing 4-th weight.\n",
      "During MO : processing 5-th weight.\n",
      "During MO : processing 6-th weight.\n",
      "During MO : processing 7-th weight.\n",
      "Multiobjective optimization : 10-th epoch.\n",
      "During MO : processing 0-th weight.\n",
      "During MO : processing 1-th weight.\n",
      "During MO : processing 2-th weight.\n",
      "During MO : processing 3-th weight.\n",
      "During MO : processing 4-th weight.\n",
      "During MO : processing 5-th weight.\n",
      "During MO : processing 6-th weight.\n",
      "During MO : processing 7-th weight.\n",
      "Multiobjective optimization : 11-th epoch.\n",
      "During MO : processing 0-th weight.\n",
      "During MO : processing 1-th weight.\n",
      "During MO : processing 2-th weight.\n",
      "During MO : processing 3-th weight.\n",
      "During MO : processing 4-th weight.\n",
      "During MO : processing 5-th weight.\n",
      "During MO : processing 6-th weight.\n",
      "During MO : processing 7-th weight.\n",
      "Multiobjective optimization : 12-th epoch.\n",
      "During MO : processing 0-th weight.\n",
      "During MO : processing 1-th weight.\n",
      "During MO : processing 2-th weight.\n",
      "During MO : processing 3-th weight.\n",
      "During MO : processing 4-th weight.\n",
      "During MO : processing 5-th weight.\n",
      "During MO : processing 6-th weight.\n",
      "During MO : processing 7-th weight.\n",
      "Multiobjective optimization : 13-th epoch.\n",
      "During MO : processing 0-th weight.\n",
      "During MO : processing 1-th weight.\n",
      "During MO : processing 2-th weight.\n",
      "During MO : processing 3-th weight.\n",
      "During MO : processing 4-th weight.\n",
      "During MO : processing 5-th weight.\n",
      "During MO : processing 6-th weight.\n",
      "During MO : processing 7-th weight.\n",
      "Multiobjective optimization : 14-th epoch.\n",
      "During MO : processing 0-th weight.\n",
      "During MO : processing 1-th weight.\n",
      "During MO : processing 2-th weight.\n",
      "During MO : processing 3-th weight.\n",
      "During MO : processing 4-th weight.\n",
      "During MO : processing 5-th weight.\n",
      "During MO : processing 6-th weight.\n",
      "During MO : processing 7-th weight.\n",
      "Multiobjective optimization : 15-th epoch.\n",
      "During MO : processing 0-th weight.\n",
      "During MO : processing 1-th weight.\n",
      "During MO : processing 2-th weight.\n",
      "During MO : processing 3-th weight.\n",
      "During MO : processing 4-th weight.\n",
      "During MO : processing 5-th weight.\n",
      "During MO : processing 6-th weight.\n",
      "During MO : processing 7-th weight.\n",
      "Multiobjective optimization : 16-th epoch.\n",
      "During MO : processing 0-th weight.\n",
      "During MO : processing 1-th weight.\n",
      "During MO : processing 2-th weight.\n",
      "During MO : processing 3-th weight.\n",
      "During MO : processing 4-th weight.\n",
      "During MO : processing 5-th weight.\n",
      "During MO : processing 6-th weight.\n",
      "During MO : processing 7-th weight.\n",
      "Multiobjective optimization : 17-th epoch.\n",
      "During MO : processing 0-th weight.\n",
      "During MO : processing 1-th weight.\n",
      "During MO : processing 2-th weight.\n",
      "During MO : processing 3-th weight.\n",
      "During MO : processing 4-th weight.\n",
      "During MO : processing 5-th weight.\n",
      "During MO : processing 6-th weight.\n",
      "During MO : processing 7-th weight.\n",
      "Multiobjective optimization : 18-th epoch.\n",
      "During MO : processing 0-th weight.\n",
      "During MO : processing 1-th weight.\n",
      "During MO : processing 2-th weight.\n",
      "During MO : processing 3-th weight.\n",
      "During MO : processing 4-th weight.\n",
      "During MO : processing 5-th weight.\n",
      "During MO : processing 6-th weight.\n",
      "During MO : processing 7-th weight.\n",
      "Multiobjective optimization : 19-th epoch.\n",
      "During MO : processing 0-th weight.\n",
      "During MO : processing 1-th weight.\n",
      "During MO : processing 2-th weight.\n",
      "During MO : processing 3-th weight.\n",
      "During MO : processing 4-th weight.\n",
      "During MO : processing 5-th weight.\n",
      "During MO : processing 6-th weight.\n",
      "During MO : processing 7-th weight.\n",
      "Multiobjective optimization : 20-th epoch.\n",
      "During MO : processing 0-th weight.\n",
      "During MO : processing 1-th weight.\n",
      "During MO : processing 2-th weight.\n",
      "During MO : processing 3-th weight.\n",
      "During MO : processing 4-th weight.\n",
      "During MO : processing 5-th weight.\n",
      "During MO : processing 6-th weight.\n",
      "During MO : processing 7-th weight.\n",
      "Multiobjective optimization : 21-th epoch.\n",
      "During MO : processing 0-th weight.\n"
     ]
    },
    {
     "name": "stdout",
     "output_type": "stream",
     "text": [
      "During MO : processing 1-th weight.\n",
      "During MO : processing 2-th weight.\n",
      "During MO : processing 3-th weight.\n",
      "During MO : processing 4-th weight.\n",
      "During MO : processing 5-th weight.\n",
      "During MO : processing 6-th weight.\n",
      "During MO : processing 7-th weight.\n",
      "Multiobjective optimization : 22-th epoch.\n",
      "During MO : processing 0-th weight.\n",
      "During MO : processing 1-th weight.\n",
      "During MO : processing 2-th weight.\n",
      "During MO : processing 3-th weight.\n",
      "During MO : processing 4-th weight.\n",
      "During MO : processing 5-th weight.\n",
      "During MO : processing 6-th weight.\n",
      "During MO : processing 7-th weight.\n",
      "Multiobjective optimization : 23-th epoch.\n",
      "During MO : processing 0-th weight.\n",
      "During MO : processing 1-th weight.\n",
      "During MO : processing 2-th weight.\n",
      "During MO : processing 3-th weight.\n",
      "During MO : processing 4-th weight.\n",
      "During MO : processing 5-th weight.\n",
      "During MO : processing 6-th weight.\n",
      "During MO : processing 7-th weight.\n",
      "Multiobjective optimization : 24-th epoch.\n",
      "During MO : processing 0-th weight.\n",
      "During MO : processing 1-th weight.\n",
      "During MO : processing 2-th weight.\n",
      "During MO : processing 3-th weight.\n",
      "During MO : processing 4-th weight.\n",
      "During MO : processing 5-th weight.\n",
      "During MO : processing 6-th weight.\n",
      "During MO : processing 7-th weight.\n",
      "Multiobjective optimization : 25-th epoch.\n",
      "During MO : processing 0-th weight.\n",
      "During MO : processing 1-th weight.\n",
      "During MO : processing 2-th weight.\n",
      "During MO : processing 3-th weight.\n",
      "During MO : processing 4-th weight.\n",
      "During MO : processing 5-th weight.\n",
      "During MO : processing 6-th weight.\n",
      "During MO : processing 7-th weight.\n",
      "Multiobjective optimization : 26-th epoch.\n",
      "During MO : processing 0-th weight.\n",
      "During MO : processing 1-th weight.\n",
      "During MO : processing 2-th weight.\n",
      "During MO : processing 3-th weight.\n",
      "During MO : processing 4-th weight.\n",
      "During MO : processing 5-th weight.\n",
      "During MO : processing 6-th weight.\n",
      "During MO : processing 7-th weight.\n",
      "Multiobjective optimization : 27-th epoch.\n",
      "During MO : processing 0-th weight.\n",
      "During MO : processing 1-th weight.\n",
      "During MO : processing 2-th weight.\n",
      "During MO : processing 3-th weight.\n",
      "During MO : processing 4-th weight.\n",
      "During MO : processing 5-th weight.\n",
      "During MO : processing 6-th weight.\n",
      "During MO : processing 7-th weight.\n",
      "Multiobjective optimization : 28-th epoch.\n",
      "During MO : processing 0-th weight.\n",
      "During MO : processing 1-th weight.\n",
      "During MO : processing 2-th weight.\n",
      "During MO : processing 3-th weight.\n",
      "During MO : processing 4-th weight.\n",
      "During MO : processing 5-th weight.\n",
      "During MO : processing 6-th weight.\n",
      "During MO : processing 7-th weight.\n",
      "Multiobjective optimization : 29-th epoch.\n",
      "During MO : processing 0-th weight.\n",
      "During MO : processing 1-th weight.\n",
      "During MO : processing 2-th weight.\n",
      "During MO : processing 3-th weight.\n",
      "During MO : processing 4-th weight.\n",
      "During MO : processing 5-th weight.\n",
      "During MO : processing 6-th weight.\n",
      "During MO : processing 7-th weight.\n",
      "Multiobjective optimization : 30-th epoch.\n",
      "During MO : processing 0-th weight.\n",
      "During MO : processing 1-th weight.\n",
      "During MO : processing 2-th weight.\n",
      "During MO : processing 3-th weight.\n",
      "During MO : processing 4-th weight.\n",
      "During MO : processing 5-th weight.\n",
      "During MO : processing 6-th weight.\n",
      "During MO : processing 7-th weight.\n",
      "Multiobjective optimization : 31-th epoch.\n",
      "During MO : processing 0-th weight.\n",
      "During MO : processing 1-th weight.\n",
      "During MO : processing 2-th weight.\n",
      "During MO : processing 3-th weight.\n",
      "During MO : processing 4-th weight.\n",
      "During MO : processing 5-th weight.\n",
      "During MO : processing 6-th weight.\n",
      "During MO : processing 7-th weight.\n",
      "Multiobjective optimization : 32-th epoch.\n",
      "During MO : processing 0-th weight.\n",
      "During MO : processing 1-th weight.\n",
      "During MO : processing 2-th weight.\n",
      "During MO : processing 3-th weight.\n",
      "During MO : processing 4-th weight.\n",
      "During MO : processing 5-th weight.\n",
      "During MO : processing 6-th weight.\n",
      "During MO : processing 7-th weight.\n",
      "Multiobjective optimization : 33-th epoch.\n",
      "During MO : processing 0-th weight.\n",
      "During MO : processing 1-th weight.\n",
      "During MO : processing 2-th weight.\n",
      "During MO : processing 3-th weight.\n",
      "During MO : processing 4-th weight.\n",
      "During MO : processing 5-th weight.\n",
      "During MO : processing 6-th weight.\n",
      "During MO : processing 7-th weight.\n",
      "Multiobjective optimization : 34-th epoch.\n",
      "During MO : processing 0-th weight.\n",
      "During MO : processing 1-th weight.\n",
      "During MO : processing 2-th weight.\n",
      "During MO : processing 3-th weight.\n",
      "During MO : processing 4-th weight.\n",
      "During MO : processing 5-th weight.\n",
      "During MO : processing 6-th weight.\n",
      "During MO : processing 7-th weight.\n",
      "Multiobjective optimization : 35-th epoch.\n",
      "During MO : processing 0-th weight.\n",
      "During MO : processing 1-th weight.\n",
      "During MO : processing 2-th weight.\n",
      "During MO : processing 3-th weight.\n",
      "During MO : processing 4-th weight.\n",
      "During MO : processing 5-th weight.\n",
      "During MO : processing 6-th weight.\n",
      "During MO : processing 7-th weight.\n",
      "Multiobjective optimization : 36-th epoch.\n",
      "During MO : processing 0-th weight.\n",
      "During MO : processing 1-th weight.\n",
      "During MO : processing 2-th weight.\n",
      "During MO : processing 3-th weight.\n",
      "During MO : processing 4-th weight.\n",
      "During MO : processing 5-th weight.\n",
      "During MO : processing 6-th weight.\n",
      "During MO : processing 7-th weight.\n",
      "Multiobjective optimization : 37-th epoch.\n",
      "During MO : processing 0-th weight.\n",
      "During MO : processing 1-th weight.\n",
      "During MO : processing 2-th weight.\n",
      "During MO : processing 3-th weight.\n",
      "During MO : processing 4-th weight.\n",
      "During MO : processing 5-th weight.\n",
      "During MO : processing 6-th weight.\n",
      "During MO : processing 7-th weight.\n",
      "Multiobjective optimization : 38-th epoch.\n",
      "During MO : processing 0-th weight.\n",
      "During MO : processing 1-th weight.\n",
      "During MO : processing 2-th weight.\n",
      "During MO : processing 3-th weight.\n",
      "During MO : processing 4-th weight.\n",
      "During MO : processing 5-th weight.\n",
      "During MO : processing 6-th weight.\n",
      "During MO : processing 7-th weight.\n",
      "Multiobjective optimization : 39-th epoch.\n",
      "During MO : processing 0-th weight.\n",
      "During MO : processing 1-th weight.\n",
      "During MO : processing 2-th weight.\n",
      "During MO : processing 3-th weight.\n",
      "During MO : processing 4-th weight.\n",
      "During MO : processing 5-th weight.\n",
      "During MO : processing 6-th weight.\n",
      "During MO : processing 7-th weight.\n",
      "Multiobjective optimization : 40-th epoch.\n",
      "During MO : processing 0-th weight.\n",
      "During MO : processing 1-th weight.\n",
      "During MO : processing 2-th weight.\n",
      "During MO : processing 3-th weight.\n",
      "During MO : processing 4-th weight.\n",
      "During MO : processing 5-th weight.\n",
      "During MO : processing 6-th weight.\n",
      "During MO : processing 7-th weight.\n",
      "Multiobjective optimization : 41-th epoch.\n",
      "During MO : processing 0-th weight.\n",
      "During MO : processing 1-th weight.\n",
      "During MO : processing 2-th weight.\n",
      "During MO : processing 3-th weight.\n",
      "During MO : processing 4-th weight.\n",
      "During MO : processing 5-th weight.\n",
      "During MO : processing 6-th weight.\n",
      "During MO : processing 7-th weight.\n",
      "Multiobjective optimization : 42-th epoch.\n",
      "During MO : processing 0-th weight.\n",
      "During MO : processing 1-th weight.\n",
      "During MO : processing 2-th weight.\n",
      "During MO : processing 3-th weight.\n",
      "During MO : processing 4-th weight.\n",
      "During MO : processing 5-th weight.\n",
      "During MO : processing 6-th weight.\n",
      "During MO : processing 7-th weight.\n",
      "Multiobjective optimization : 43-th epoch.\n",
      "During MO : processing 0-th weight.\n",
      "During MO : processing 1-th weight.\n",
      "During MO : processing 2-th weight.\n",
      "During MO : processing 3-th weight.\n",
      "During MO : processing 4-th weight.\n",
      "During MO : processing 5-th weight.\n",
      "During MO : processing 6-th weight.\n",
      "During MO : processing 7-th weight.\n",
      "Multiobjective optimization : 44-th epoch.\n",
      "During MO : processing 0-th weight.\n",
      "During MO : processing 1-th weight.\n",
      "During MO : processing 2-th weight.\n",
      "During MO : processing 3-th weight.\n",
      "During MO : processing 4-th weight.\n",
      "During MO : processing 5-th weight.\n",
      "During MO : processing 6-th weight.\n",
      "During MO : processing 7-th weight.\n",
      "Multiobjective optimization : 45-th epoch.\n",
      "During MO : processing 0-th weight.\n",
      "During MO : processing 1-th weight.\n",
      "During MO : processing 2-th weight.\n",
      "During MO : processing 3-th weight.\n",
      "During MO : processing 4-th weight.\n",
      "During MO : processing 5-th weight.\n",
      "During MO : processing 6-th weight.\n",
      "During MO : processing 7-th weight.\n"
     ]
    },
    {
     "name": "stdout",
     "output_type": "stream",
     "text": [
      "Multiobjective optimization : 46-th epoch.\n",
      "During MO : processing 0-th weight.\n",
      "During MO : processing 1-th weight.\n",
      "During MO : processing 2-th weight.\n",
      "During MO : processing 3-th weight.\n",
      "During MO : processing 4-th weight.\n",
      "During MO : processing 5-th weight.\n",
      "During MO : processing 6-th weight.\n",
      "During MO : processing 7-th weight.\n",
      "Multiobjective optimization : 47-th epoch.\n",
      "During MO : processing 0-th weight.\n",
      "During MO : processing 1-th weight.\n",
      "During MO : processing 2-th weight.\n",
      "During MO : processing 3-th weight.\n",
      "During MO : processing 4-th weight.\n",
      "During MO : processing 5-th weight.\n",
      "During MO : processing 6-th weight.\n",
      "During MO : processing 7-th weight.\n",
      "Multiobjective optimization : 48-th epoch.\n",
      "During MO : processing 0-th weight.\n",
      "During MO : processing 1-th weight.\n",
      "During MO : processing 2-th weight.\n",
      "During MO : processing 3-th weight.\n",
      "During MO : processing 4-th weight.\n",
      "During MO : processing 5-th weight.\n",
      "During MO : processing 6-th weight.\n",
      "During MO : processing 7-th weight.\n",
      "Multiobjective optimization : 49-th epoch.\n",
      "During MO : processing 0-th weight.\n",
      "During MO : processing 1-th weight.\n",
      "During MO : processing 2-th weight.\n",
      "During MO : processing 3-th weight.\n",
      "During MO : processing 4-th weight.\n",
      "During MO : processing 5-th weight.\n",
      "During MO : processing 6-th weight.\n",
      "During MO : processing 7-th weight.\n",
      "Multiobjective optimization : 50-th epoch.\n",
      "During MO : processing 0-th weight.\n",
      "During MO : processing 1-th weight.\n",
      "During MO : processing 2-th weight.\n",
      "During MO : processing 3-th weight.\n",
      "During MO : processing 4-th weight.\n",
      "During MO : processing 5-th weight.\n",
      "During MO : processing 6-th weight.\n",
      "During MO : processing 7-th weight.\n",
      "Multiobjective optimization : 51-th epoch.\n",
      "During MO : processing 0-th weight.\n",
      "During MO : processing 1-th weight.\n",
      "During MO : processing 2-th weight.\n",
      "During MO : processing 3-th weight.\n",
      "During MO : processing 4-th weight.\n",
      "During MO : processing 5-th weight.\n",
      "During MO : processing 6-th weight.\n",
      "During MO : processing 7-th weight.\n",
      "Multiobjective optimization : 52-th epoch.\n",
      "During MO : processing 0-th weight.\n",
      "During MO : processing 1-th weight.\n",
      "During MO : processing 2-th weight.\n",
      "During MO : processing 3-th weight.\n",
      "During MO : processing 4-th weight.\n",
      "During MO : processing 5-th weight.\n",
      "During MO : processing 6-th weight.\n",
      "During MO : processing 7-th weight.\n",
      "Multiobjective optimization : 53-th epoch.\n",
      "During MO : processing 0-th weight.\n",
      "During MO : processing 1-th weight.\n",
      "During MO : processing 2-th weight.\n",
      "During MO : processing 3-th weight.\n",
      "During MO : processing 4-th weight.\n"
     ]
    }
   ],
   "source": [
    "factors_max_number = {'factors_num' : [1, 2], 'probas' : [0.65, 0.35]}\n",
    "epde_search_obj.fit(data=[x,], variable_names=['u',], max_deriv_order=(1,), derivs=[x_dot.reshape((-1, 1)),],\n",
    "                    equation_terms_max_number=4, data_fun_pow = 1,\n",
    "                    additional_tokens=[trig_tokens, grid_tokens],\n",
    "                    equation_factors_max_number=factors_max_number,\n",
    "                    eq_sparsity_interval=(1e-6, 1e-2))"
   ]
  },
  {
   "cell_type": "code",
   "execution_count": 8,
   "id": "3b6f5f93",
   "metadata": {},
   "outputs": [],
   "source": [
    "res = epde_search_obj.equations(False)"
   ]
  },
  {
   "cell_type": "code",
   "execution_count": 8,
   "id": "10d20033",
   "metadata": {},
   "outputs": [
    {
     "ename": "AttributeError",
     "evalue": "'AxesSubplot' object has no attribute 'xlim'",
     "output_type": "error",
     "traceback": [
      "\u001b[0;31m---------------------------------------------------------------------------\u001b[0m",
      "\u001b[0;31mAttributeError\u001b[0m                            Traceback (most recent call last)",
      "\u001b[0;32m<ipython-input-8-71e1952e500a>\u001b[0m in \u001b[0;36m<module>\u001b[0;34m\u001b[0m\n\u001b[0;32m----> 1\u001b[0;31m \u001b[0mepde_search_obj\u001b[0m\u001b[0;34m.\u001b[0m\u001b[0mvisualize_solutions\u001b[0m\u001b[0;34m(\u001b[0m\u001b[0;34m[\u001b[0m\u001b[0;36m0\u001b[0m\u001b[0;34m,\u001b[0m \u001b[0;36m1\u001b[0m\u001b[0;34m]\u001b[0m\u001b[0;34m)\u001b[0m\u001b[0;34m\u001b[0m\u001b[0;34m\u001b[0m\u001b[0m\n\u001b[0m",
      "\u001b[0;32m~/epde/EPDE_main/epde/interface/interface.py\u001b[0m in \u001b[0;36mvisualize_solutions\u001b[0;34m(self, dimensions, **visulaizer_kwargs)\u001b[0m\n\u001b[1;32m    835\u001b[0m     \u001b[0;32mdef\u001b[0m \u001b[0mvisualize_solutions\u001b[0m\u001b[0;34m(\u001b[0m\u001b[0mself\u001b[0m\u001b[0;34m,\u001b[0m \u001b[0mdimensions\u001b[0m\u001b[0;34m:\u001b[0m\u001b[0mlist\u001b[0m\u001b[0;34m,\u001b[0m \u001b[0;34m**\u001b[0m\u001b[0mvisulaizer_kwargs\u001b[0m\u001b[0;34m)\u001b[0m\u001b[0;34m:\u001b[0m\u001b[0;34m\u001b[0m\u001b[0;34m\u001b[0m\u001b[0m\n\u001b[1;32m    836\u001b[0m         \u001b[0;32mif\u001b[0m \u001b[0mself\u001b[0m\u001b[0;34m.\u001b[0m\u001b[0mmultiobjective_mode\u001b[0m\u001b[0;34m:\u001b[0m\u001b[0;34m\u001b[0m\u001b[0;34m\u001b[0m\u001b[0m\n\u001b[0;32m--> 837\u001b[0;31m             \u001b[0mself\u001b[0m\u001b[0;34m.\u001b[0m\u001b[0moptimizer\u001b[0m\u001b[0;34m.\u001b[0m\u001b[0mplot_pareto\u001b[0m\u001b[0;34m(\u001b[0m\u001b[0mdimensions\u001b[0m\u001b[0;34m=\u001b[0m\u001b[0mdimensions\u001b[0m\u001b[0;34m,\u001b[0m \u001b[0;34m**\u001b[0m\u001b[0mvisulaizer_kwargs\u001b[0m\u001b[0;34m)\u001b[0m\u001b[0;34m\u001b[0m\u001b[0;34m\u001b[0m\u001b[0m\n\u001b[0m\u001b[1;32m    838\u001b[0m         \u001b[0;32melse\u001b[0m\u001b[0;34m:\u001b[0m\u001b[0;34m\u001b[0m\u001b[0;34m\u001b[0m\u001b[0m\n\u001b[1;32m    839\u001b[0m             \u001b[0;32mraise\u001b[0m \u001b[0mNotImplementedError\u001b[0m\u001b[0;34m(\u001b[0m\u001b[0;34m'Solution visualization is implemented only for multiobjective mode.'\u001b[0m\u001b[0;34m)\u001b[0m\u001b[0;34m\u001b[0m\u001b[0;34m\u001b[0m\u001b[0m\n",
      "\u001b[0;32m~/epde/EPDE_main/epde/optimizers/moeadd/moeadd.py\u001b[0m in \u001b[0;36mplot_pareto\u001b[0;34m(self, dimensions, **visualizer_kwargs)\u001b[0m\n\u001b[1;32m    448\u001b[0m         \u001b[0;32massert\u001b[0m \u001b[0mlen\u001b[0m\u001b[0;34m(\u001b[0m\u001b[0mdimensions\u001b[0m\u001b[0;34m)\u001b[0m \u001b[0;34m==\u001b[0m \u001b[0;36m2\u001b[0m\u001b[0;34m,\u001b[0m \u001b[0;34m'Current approach supports only two dimensional plots'\u001b[0m\u001b[0;34m\u001b[0m\u001b[0;34m\u001b[0m\u001b[0m\n\u001b[1;32m    449\u001b[0m         \u001b[0mvisualizer\u001b[0m \u001b[0;34m=\u001b[0m \u001b[0mParetoVisualizer\u001b[0m\u001b[0;34m(\u001b[0m\u001b[0mself\u001b[0m\u001b[0;34m.\u001b[0m\u001b[0mpareto_levels\u001b[0m\u001b[0;34m)\u001b[0m\u001b[0;34m\u001b[0m\u001b[0;34m\u001b[0m\u001b[0m\n\u001b[0;32m--> 450\u001b[0;31m         \u001b[0mvisualizer\u001b[0m\u001b[0;34m.\u001b[0m\u001b[0mplot_pareto\u001b[0m\u001b[0;34m(\u001b[0m\u001b[0mdimensions\u001b[0m \u001b[0;34m=\u001b[0m \u001b[0mdimensions\u001b[0m\u001b[0;34m,\u001b[0m \u001b[0;34m**\u001b[0m\u001b[0mvisualizer_kwargs\u001b[0m\u001b[0;34m)\u001b[0m\u001b[0;34m\u001b[0m\u001b[0;34m\u001b[0m\u001b[0m\n\u001b[0m\u001b[1;32m    451\u001b[0m \u001b[0;34m\u001b[0m\u001b[0m\n",
      "\u001b[0;32m~/epde/EPDE_main/epde/optimizers/moeadd/vis.py\u001b[0m in \u001b[0;36mplot_pareto\u001b[0;34m(self, dimensions, annotate_best, plot_level, filename, save_format)\u001b[0m\n\u001b[1;32m     43\u001b[0m         \u001b[0;31m# ax.set_xscale('log')\u001b[0m\u001b[0;34m\u001b[0m\u001b[0;34m\u001b[0m\u001b[0;34m\u001b[0m\u001b[0m\n\u001b[1;32m     44\u001b[0m         \u001b[0max\u001b[0m\u001b[0;34m.\u001b[0m\u001b[0mgrid\u001b[0m\u001b[0;34m(\u001b[0m\u001b[0;34m)\u001b[0m\u001b[0;34m\u001b[0m\u001b[0;34m\u001b[0m\u001b[0m\n\u001b[0;32m---> 45\u001b[0;31m         \u001b[0max\u001b[0m\u001b[0;34m.\u001b[0m\u001b[0mxlim\u001b[0m\u001b[0;34m(\u001b[0m\u001b[0;34m[\u001b[0m\u001b[0mx_min\u001b[0m \u001b[0;34m-\u001b[0m \u001b[0;36m0.1\u001b[0m \u001b[0;34m*\u001b[0m \u001b[0mx_interval\u001b[0m\u001b[0;34m,\u001b[0m \u001b[0mx_max\u001b[0m \u001b[0;34m+\u001b[0m \u001b[0;36m0.5\u001b[0m \u001b[0;34m*\u001b[0m \u001b[0mx_interval\u001b[0m\u001b[0;34m]\u001b[0m\u001b[0;34m)\u001b[0m\u001b[0;34m\u001b[0m\u001b[0;34m\u001b[0m\u001b[0m\n\u001b[0m\u001b[1;32m     46\u001b[0m         \u001b[0max\u001b[0m\u001b[0;34m.\u001b[0m\u001b[0mylim\u001b[0m\u001b[0;34m(\u001b[0m\u001b[0;34m[\u001b[0m\u001b[0my_min\u001b[0m \u001b[0;34m-\u001b[0m \u001b[0;36m0.1\u001b[0m \u001b[0;34m*\u001b[0m \u001b[0my_interval\u001b[0m\u001b[0;34m,\u001b[0m \u001b[0my_max\u001b[0m \u001b[0;34m+\u001b[0m \u001b[0;36m0.2\u001b[0m \u001b[0;34m*\u001b[0m \u001b[0my_interval\u001b[0m\u001b[0;34m]\u001b[0m\u001b[0;34m)\u001b[0m\u001b[0;34m\u001b[0m\u001b[0;34m\u001b[0m\u001b[0m\n\u001b[1;32m     47\u001b[0m \u001b[0;34m\u001b[0m\u001b[0m\n",
      "\u001b[0;31mAttributeError\u001b[0m: 'AxesSubplot' object has no attribute 'xlim'"
     ]
    },
    {
     "data": {
      "image/png": "[encoded data removed]",
      "text/plain": [
       "<Figure size 432x288 with 1 Axes>"
      ]
     },
     "metadata": {
      "needs_background": "light"
     },
     "output_type": "display_data"
    }
   ],
   "source": [
    "epde_search_obj.visualize_solutions([0, 1])"
   ]
  },
  {
   "cell_type": "code",
   "execution_count": 11,
   "id": "6a0286c8",
   "metadata": {},
   "outputs": [
    {
     "name": "stdout",
     "output_type": "stream",
     "text": [
      "1.0\n",
      "du/dx1 {'power': (1.0, '1.0')}\n",
      "1.0\n",
      "1.0111477781968239\n",
      "0.0\n",
      "sin {'power': (1.0, '1.0'), 'freq': (1.0111477781968239, '1.0111'), 'dim': (0.0, '0.0\\\\cdot 10^{1} ')}\n",
      "0.010711730171792649\n",
      "1.0\n",
      "0.0\n",
      "t {'power': (1.0, '1.0'), 'dim': (0.0, '0.0\\\\cdot 10^{1} ')}\n",
      "1.0001851827385155\n",
      "1.0\n",
      "u {'power': (1.0, '1.0')}\n",
      "1.0\n",
      "1.009321743148665\n",
      "0.0\n",
      "cos {'power': (1.0, '1.0'), 'freq': (1.009321743148665, '1.0093'), 'dim': (0.0, '0.0\\\\cdot 10^{1} ')}\n",
      "-1.3003895846708915\n"
     ]
    },
    {
     "data": {
      "text/plain": [
       "'\\\\frac{\\\\partial u}{\\\\partial x1} \\\\cdot sin^{1.0}(1.0111 x_{0.0\\\\cdot 10^{1} }) = 1.0712\\\\cdot 10^{-2} t 1.0002u \\\\cdot cos^{1.0}(1.0093 x_{0.0\\\\cdot 10^{1} }) 1.3004'"
      ]
     },
     "execution_count": 11,
     "metadata": {},
     "output_type": "execute_result"
    }
   ],
   "source": [
    "res[0][2].vals['u'].latex_form"
   ]
  },
  {
   "cell_type": "code",
   "execution_count": 11,
   "id": "48ea4c31",
   "metadata": {},
   "outputs": [],
   "source": [
    "eq = res[0][1].vals['u']"
   ]
  },
  {
   "cell_type": "code",
   "execution_count": 15,
   "id": "676f5e6f",
   "metadata": {},
   "outputs": [
    {
     "name": "stdout",
     "output_type": "stream",
     "text": [
      "du/dx1 {'power': 1.0}\n",
      "sin {'power': 1.0, 'freq': 1.0001151874018293, 'dim': 0.0}\n",
      "test 0 False 1.000040510307947 False\n",
      "Did not continue, lul\n",
      "1.000040510307947\n",
      "u {'power': 1.0}\n",
      "cos {'power': 1.0, 'freq': 1.000157275993898, 'dim': 0.0}\n",
      "test 1 True 0.0 True\n",
      "Continuing\n",
      "test 1 False 0.0 True\n",
      "Continuing\n",
      "test 2 False 0.0 True\n",
      "Continuing\n",
      "0.0\n"
     ]
    },
    {
     "ename": "OverflowError",
     "evalue": "cannot convert float infinity to integer",
     "output_type": "error",
     "traceback": [
      "\u001b[0;31m---------------------------------------------------------------------------\u001b[0m",
      "\u001b[0;31mOverflowError\u001b[0m                             Traceback (most recent call last)",
      "\u001b[0;32m<ipython-input-15-ea1b7ad2ea43>\u001b[0m in \u001b[0;36m<module>\u001b[0;34m\u001b[0m\n\u001b[1;32m     18\u001b[0m     \u001b[0mform\u001b[0m \u001b[0;34m+=\u001b[0m \u001b[0mstr\u001b[0m\u001b[0;34m(\u001b[0m\u001b[0mmnt\u001b[0m\u001b[0;34m)\u001b[0m \u001b[0;34m+\u001b[0m \u001b[0mexp_str\u001b[0m \u001b[0;34m+\u001b[0m \u001b[0mterm\u001b[0m\u001b[0;34m.\u001b[0m\u001b[0mlatex_form\u001b[0m \u001b[0;34m+\u001b[0m \u001b[0;34mr' '\u001b[0m\u001b[0;34m\u001b[0m\u001b[0;34m\u001b[0m\u001b[0m\n\u001b[1;32m     19\u001b[0m \u001b[0;34m\u001b[0m\u001b[0m\n\u001b[0;32m---> 20\u001b[0;31m \u001b[0mmnt\u001b[0m\u001b[0;34m,\u001b[0m \u001b[0mexp\u001b[0m \u001b[0;34m=\u001b[0m \u001b[0mexp_form\u001b[0m\u001b[0;34m(\u001b[0m\u001b[0meq\u001b[0m\u001b[0;34m.\u001b[0m\u001b[0mweights_final\u001b[0m\u001b[0;34m[\u001b[0m\u001b[0midx_corrected\u001b[0m\u001b[0;34m]\u001b[0m\u001b[0;34m,\u001b[0m \u001b[0mdigits_rounding_max\u001b[0m\u001b[0;34m)\u001b[0m\u001b[0;34m\u001b[0m\u001b[0;34m\u001b[0m\u001b[0m\n\u001b[0m\u001b[1;32m     21\u001b[0m \u001b[0mexp_str\u001b[0m \u001b[0;34m=\u001b[0m \u001b[0;34mr'\\cdot 10^{{{0}}} '\u001b[0m\u001b[0;34m.\u001b[0m\u001b[0mformat\u001b[0m\u001b[0;34m(\u001b[0m\u001b[0mstr\u001b[0m\u001b[0;34m(\u001b[0m\u001b[0mexp\u001b[0m\u001b[0;34m)\u001b[0m\u001b[0;34m)\u001b[0m \u001b[0;32mif\u001b[0m \u001b[0mexp\u001b[0m \u001b[0;34m!=\u001b[0m \u001b[0;36m0\u001b[0m \u001b[0;32melse\u001b[0m \u001b[0;36m0\u001b[0m\u001b[0;34m\u001b[0m\u001b[0;34m\u001b[0m\u001b[0m\n\u001b[1;32m     22\u001b[0m \u001b[0;34m\u001b[0m\u001b[0m\n",
      "\u001b[0;32m<ipython-input-15-ea1b7ad2ea43>\u001b[0m in \u001b[0;36mexp_form\u001b[0;34m(a, sign_num)\u001b[0m\n\u001b[1;32m     10\u001b[0m         \u001b[0mprint\u001b[0m\u001b[0;34m(\u001b[0m\u001b[0ma\u001b[0m\u001b[0;34m)\u001b[0m\u001b[0;34m\u001b[0m\u001b[0;34m\u001b[0m\u001b[0m\n\u001b[1;32m     11\u001b[0m         \u001b[0mexp\u001b[0m \u001b[0;34m=\u001b[0m \u001b[0mnp\u001b[0m\u001b[0;34m.\u001b[0m\u001b[0mfloor\u001b[0m\u001b[0;34m(\u001b[0m\u001b[0mnp\u001b[0m\u001b[0;34m.\u001b[0m\u001b[0mlog10\u001b[0m\u001b[0;34m(\u001b[0m\u001b[0ma\u001b[0m\u001b[0;34m)\u001b[0m\u001b[0;34m)\u001b[0m\u001b[0;34m\u001b[0m\u001b[0;34m\u001b[0m\u001b[0m\n\u001b[0;32m---> 12\u001b[0;31m         \u001b[0;32mreturn\u001b[0m \u001b[0mnp\u001b[0m\u001b[0;34m.\u001b[0m\u001b[0maround\u001b[0m\u001b[0;34m(\u001b[0m\u001b[0ma\u001b[0m \u001b[0;34m/\u001b[0m \u001b[0;36m10\u001b[0m\u001b[0;34m**\u001b[0m\u001b[0mexp\u001b[0m\u001b[0;34m,\u001b[0m \u001b[0msign_num\u001b[0m\u001b[0;34m)\u001b[0m\u001b[0;34m,\u001b[0m \u001b[0mint\u001b[0m\u001b[0;34m(\u001b[0m\u001b[0mexp\u001b[0m\u001b[0;34m)\u001b[0m\u001b[0;34m\u001b[0m\u001b[0;34m\u001b[0m\u001b[0m\n\u001b[0m\u001b[1;32m     13\u001b[0m \u001b[0;34m\u001b[0m\u001b[0m\n\u001b[1;32m     14\u001b[0m     \u001b[0mdigits_rounding_max\u001b[0m \u001b[0;34m=\u001b[0m \u001b[0;36m4\u001b[0m\u001b[0;34m\u001b[0m\u001b[0;34m\u001b[0m\u001b[0m\n",
      "\u001b[0;31mOverflowError\u001b[0m: cannot convert float infinity to integer"
     ]
    }
   ],
   "source": [
    "form = eq.structure[eq.target_idx].latex_form + r' = '\n",
    "for idx, term in enumerate(eq.structure):\n",
    "    idx_corrected = idx if idx <= eq.target_idx else idx - 1\n",
    "    print('test', idx_corrected, idx == eq.target_idx, eq.weights_final[idx_corrected], eq.weights_final[idx_corrected] == 0)\n",
    "    if idx == eq.target_idx or eq.weights_final[idx_corrected] == 0:\n",
    "        print('Continuing')\n",
    "        continue\n",
    "    print('Did not continue, lul')\n",
    "    def exp_form(a, sign_num: int = 4):\n",
    "        print(a)\n",
    "        exp = np.floor(np.log10(a))\n",
    "        return np.around(a / 10**exp, sign_num), int(exp)\n",
    "\n",
    "    digits_rounding_max = 4\n",
    "    mnt, exp = exp_form(eq.weights_final[idx_corrected], digits_rounding_max)\n",
    "    exp_str = r'\\cdot 10^{{{0}}} '.format(str(exp)) if exp != 0 else ''\n",
    "\n",
    "    form += str(mnt) + exp_str + term.latex_form + r' '\n",
    "\n",
    "mnt, exp = exp_form(eq.weights_final[idx_corrected], digits_rounding_max)\n",
    "exp_str = r'\\cdot 10^{{{0}}} '.format(str(exp)) if exp != 0 else 0\n",
    "\n",
    "form += str(mnt) + exp_str"
   ]
  },
  {
   "cell_type": "code",
   "execution_count": 12,
   "id": "3cfe6e52",
   "metadata": {},
   "outputs": [
    {
     "data": {
      "text/plain": [
       "True"
      ]
     },
     "execution_count": 12,
     "metadata": {},
     "output_type": "execute_result"
    }
   ],
   "source": [
    "res[0][0].vals['u'].weights_final[1] == 0"
   ]
  },
  {
   "cell_type": "code",
   "execution_count": 19,
   "id": "721a4311",
   "metadata": {},
   "outputs": [
    {
     "data": {
      "text/plain": [
       "0"
      ]
     },
     "execution_count": 19,
     "metadata": {},
     "output_type": "execute_result"
    }
   ],
   "source": [
    "res[0][0].vals['u'].target_idx"
   ]
  },
  {
   "cell_type": "code",
   "execution_count": 16,
   "id": "c47595bc",
   "metadata": {},
   "outputs": [
    {
     "data": {
      "text/plain": [
       "'0.0 * t{power: 1.0, dim: 0.0} + 0.02423366867815183 * u{power: 1.0} + 0.0 * u{power: 1.0} * t{power: 1.0, dim: 0.0} + 0.6584783864295949 = du/dx1{power: 1.0} * cos{power: 1.0, freq: 1.0469150107786243, dim: 0.0}'"
      ]
     },
     "execution_count": 16,
     "metadata": {},
     "output_type": "execute_result"
    }
   ],
   "source": [
    "res[0][0].vals['u'].text_form"
   ]
  },
  {
   "cell_type": "code",
   "execution_count": 17,
   "id": "26d54a60",
   "metadata": {},
   "outputs": [
    {
     "data": {
      "text/plain": [
       "array([0.        , 0.02423367, 0.        , 0.65847839])"
      ]
     },
     "execution_count": 17,
     "metadata": {},
     "output_type": "execute_result"
    }
   ],
   "source": [
    "res[0][0].vals['u'].weights_final"
   ]
  },
  {
   "cell_type": "code",
   "execution_count": 31,
   "id": "84ce26d4",
   "metadata": {},
   "outputs": [
    {
     "data": {
      "text/plain": [
       "'\\\\frac{\\\\partial u}{\\\\partial x1}'"
      ]
     },
     "execution_count": 31,
     "metadata": {},
     "output_type": "execute_result"
    }
   ],
   "source": [
    "res[0][0].vals['u'].structure[0].structure[0]._latex_constructor('du/dx1', **{'power' : 1})"
   ]
  },
  {
   "cell_type": "code",
   "execution_count": 34,
   "id": "fed1a5de",
   "metadata": {},
   "outputs": [],
   "source": [
    "factor = res[0][0].vals['u'].structure[0].structure[0]\n",
    "if factor._latex_constructor is not None:\n",
    "    params_dict = {}\n",
    "    for param_idx, param_info in factor.params_description.items():\n",
    "        params_dict[param_info['name']] = factor.params[param_idx]"
   ]
  },
  {
   "cell_type": "code",
   "execution_count": 37,
   "id": "94ed63d2",
   "metadata": {},
   "outputs": [
    {
     "data": {
      "text/plain": [
       "'\\\\frac{\\\\partial u}{\\\\partial x1}'"
      ]
     },
     "execution_count": 37,
     "metadata": {},
     "output_type": "execute_result"
    }
   ],
   "source": [
    "factor._latex_constructor(factor.label, **params_dict)"
   ]
  },
  {
   "cell_type": "code",
   "execution_count": null,
   "id": "63c92994",
   "metadata": {},
   "outputs": [],
   "source": []
  }
 ],
 "metadata": {
  "kernelspec": {
   "display_name": "Python 3",
   "language": "python",
   "name": "python3"
  },
  "language_info": {
   "codemirror_mode": {
    "name": "ipython",
    "version": 3
   },
   "file_extension": ".py",
   "mimetype": "text/x-python",
   "name": "python",
   "nbconvert_exporter": "python",
   "pygments_lexer": "ipython3",
   "version": "3.8.8"
  }
 },
 "nbformat": 4,
 "nbformat_minor": 5
}
