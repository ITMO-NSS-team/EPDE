{
 "cells": [
  {
   "cell_type": "code",
   "execution_count": 1,
   "id": "427e4684",
   "metadata": {},
   "outputs": [],
   "source": [
    "import numpy as np\n",
    "import torch\n",
    "\n",
    "import sys\n",
    "import os\n",
    "__file__ = os.path.abspath('')\n",
    "\n",
    "import helpers\n",
    "\n",
    "sys.path.append('..')\n",
    "\n",
    "\n",
    "import epde\n",
    "from epde.preprocessing.deriv_calculators import Heatmap"
   ]
  },
  {
   "cell_type": "code",
   "execution_count": 2,
   "id": "1db0b26a",
   "metadata": {},
   "outputs": [],
   "source": [
    "def get_wave_inputs():\n",
    "    shape = 80\n",
    "    \n",
    "    print(os.path.dirname( __file__ ))\n",
    "    data_file = os.path.join(os.path.dirname( __file__ ), f'examples/data/wave_sln_{shape}.csv')\n",
    "    data = np.loadtxt(data_file, delimiter = ',').T\n",
    "    t = np.linspace(0, 1, shape+1); x = np.linspace(0, 1, shape+1)\n",
    "    grids = np.meshgrid(t, x, indexing = 'ij')\n",
    "    return grids, data"
   ]
  },
  {
   "cell_type": "code",
   "execution_count": 3,
   "id": "d520e5a5",
   "metadata": {},
   "outputs": [
    {
     "name": "stdout",
     "output_type": "stream",
     "text": [
      "/home/maslyaev/epde/EPDE_main\n"
     ]
    }
   ],
   "source": [
    "grids, data = get_wave_inputs()"
   ]
  },
  {
   "cell_type": "code",
   "execution_count": 4,
   "id": "7d8d3ac9",
   "metadata": {},
   "outputs": [],
   "source": [
    "train_max = 40\n",
    "grids_training = (grids[0][:train_max, ...], grids[1][:train_max, ...])\n",
    "grids_test = (grids[0][train_max:, ...], grids[1][train_max:, ...])\n",
    "\n",
    "data_training, data_test = data[:train_max, ...], data[train_max:, ...]"
   ]
  },
  {
   "cell_type": "code",
   "execution_count": 5,
   "id": "846f8788",
   "metadata": {},
   "outputs": [
    {
     "data": {
      "text/plain": [
       "(41, 81)"
      ]
     },
     "execution_count": 5,
     "metadata": {},
     "output_type": "execute_result"
    }
   ],
   "source": [
    "grids_test[0].shape"
   ]
  },
  {
   "cell_type": "code",
   "execution_count": 13,
   "id": "ff42165b",
   "metadata": {},
   "outputs": [],
   "source": [
    "def epde_discovery(grids, data, derivs, use_ann = False, multiobjective_mode = True):\n",
    "    dimensionality = data.ndim - 1\n",
    "    \n",
    "    epde_search_obj = epde.EpdeSearch(multiobjective_mode=multiobjective_mode, use_solver = False, \n",
    "                                          dimensionality = dimensionality, boundary = 15,\n",
    "                                          coordinate_tensors = grids)    \n",
    "\n",
    "    popsize = 12\n",
    "    if multiobjective_mode:\n",
    "        epde_search_obj.set_moeadd_params(population_size = popsize, \n",
    "                                          training_epochs=40)\n",
    "    else:\n",
    "        epde_search_obj.set_singleobjective_params(population_size = popsize, \n",
    "                                                   training_epochs=100)\n",
    "    \n",
    "    custom_grid_tokens = epde.CacheStoredTokens(token_type = 'grid',\n",
    "                                                token_labels = ['t', 'x'],\n",
    "                                                token_tensors={'t' : grids[0], 'x' : grids[1]},\n",
    "                                                params_ranges = {'power' : (1, 1)},\n",
    "                                                params_equality_ranges = None)        \n",
    "    trig_tokens = epde.TrigonometricTokens(dimensionality = dimensionality)\n",
    "    \n",
    "    factors_max_number = {'factors_num' : [1, 2], 'probas' : [0.8, 0.2]}\n",
    "    \n",
    "    opt_val = 5e-1\n",
    "    bounds = (1e-8, 1e0) if multiobjective_mode else (opt_val, opt_val)    \n",
    "    epde_search_obj.fit(data=data, variable_names=['u',], max_deriv_order=(2, 2), derivs = derivs,\n",
    "                        equation_terms_max_number=5, data_fun_pow = 1, additional_tokens=[trig_tokens, custom_grid_tokens], \n",
    "                        equation_factors_max_number=factors_max_number,\n",
    "                        eq_sparsity_interval=bounds)\n",
    "\n",
    "    return epde_search_obj"
   ]
  },
  {
   "cell_type": "code",
   "execution_count": 7,
   "id": "5d59ad61",
   "metadata": {},
   "outputs": [
    {
     "name": "stdout",
     "output_type": "stream",
     "text": [
      "setting builder with <epde.optimizers.builder.StrategyBuilder object at 0x7f9939643700>\n",
      "setting builder with <epde.optimizers.builder.StrategyBuilder object at 0x7f9939643a30>\n",
      "setting builder with <epde.optimizers.builder.StrategyBuilder object at 0x7f9939643a30>\n",
      "trig_token_params: VALUES = (0, 1)\n",
      "Deriv orders after definition [[0], [0, 0], [1], [1, 1]]\n",
      "3240\n",
      "initial_shape (40, 81) derivs_tensor.shape (3240, 4)\n",
      "self.tokens is ['du/dx0', 'd^2u/dx0^2', 'du/dx1', 'd^2u/dx1^2']\n",
      "Here, derivs order is {'du/dx0': [0], 'd^2u/dx0^2': [0, 0], 'du/dx1': [1], 'd^2u/dx1^2': [1, 1]}\n",
      "self.tokens is ['u']\n",
      "Here, derivs order is {'u': [None]}\n",
      "The cardinality of defined token pool is [1 4 2 2]\n",
      "Among them, the pool contains [1 4]\n",
      "self.vars_demand_equation {'u'}\n",
      "Creating new equation, sparsity value 0.5\n",
      "New solution accepted, confirmed 1/12 solutions.\n",
      "Creating new equation, sparsity value 0.5\n",
      "New solution accepted, confirmed 2/12 solutions.\n",
      "Creating new equation, sparsity value 0.5\n",
      "New solution accepted, confirmed 3/12 solutions.\n",
      "Creating new equation, sparsity value 0.5\n",
      "New solution accepted, confirmed 4/12 solutions.\n",
      "Creating new equation, sparsity value 0.5\n",
      "New solution accepted, confirmed 5/12 solutions.\n",
      "Creating new equation, sparsity value 0.5\n",
      "New solution accepted, confirmed 6/12 solutions.\n",
      "Creating new equation, sparsity value 0.5\n",
      "New solution accepted, confirmed 7/12 solutions.\n",
      "Creating new equation, sparsity value 0.5\n",
      "New solution accepted, confirmed 8/12 solutions.\n",
      "Creating new equation, sparsity value 0.5\n",
      "New solution accepted, confirmed 9/12 solutions.\n",
      "Creating new equation, sparsity value 0.5\n",
      "New solution accepted, confirmed 10/12 solutions.\n",
      "Creating new equation, sparsity value 0.5\n",
      "Creating new equation, sparsity value 0.5\n",
      "Creating new equation, sparsity value 0.5\n",
      "New solution accepted, confirmed 11/12 solutions.\n",
      "Creating new equation, sparsity value 0.5\n",
      "New solution accepted, confirmed 12/12 solutions.\n",
      "The optimization has been conducted.\n"
     ]
    }
   ],
   "source": [
    "epde_search_obj = epde_discovery(grids_training, data_training, derivs = None,\n",
    "                                 multiobjective_mode = False)"
   ]
  },
  {
   "cell_type": "code",
   "execution_count": 9,
   "id": "7d8c292f",
   "metadata": {},
   "outputs": [
    {
     "name": "stdout",
     "output_type": "stream",
     "text": [
      "0.0 * d^2u/dx1^2{power: 1.0} + 0.0 * du/dx1{power: 1.0} + 0.16519854976113846 * du/dx0{power: 1.0} * u{power: 1.0} + 0.0 * u{power: 1.0} + 0.008197456689165775 = du/dx0{power: 1.0} * sin{power: 1.0, freq: 3.3975603441103734, dim: 1.0}\n",
      "{'terms_number': {'optimizable': False, 'value': 5}, 'max_factors_in_term': {'optimizable': False, 'value': {'factors_num': [1, 2], 'probas': [0.8, 0.2]}}, ('sparsity', 'u'): {'optimizable': False, 'value': 0.5}} , with objective function values of [0.3258079] \n",
      "\n"
     ]
    }
   ],
   "source": [
    "epde_search_obj.equations()"
   ]
  },
  {
   "cell_type": "code",
   "execution_count": 12,
   "id": "b799e138",
   "metadata": {},
   "outputs": [
    {
     "data": {
      "text/plain": [
       "(3240, 4)"
      ]
     },
     "execution_count": 12,
     "metadata": {},
     "output_type": "execute_result"
    }
   ],
   "source": [
    "ders = epde_search_obj.saved_derivaties\n",
    "ders['u'].shape"
   ]
  },
  {
   "cell_type": "code",
   "execution_count": 14,
   "id": "b4485b24",
   "metadata": {},
   "outputs": [
    {
     "name": "stdout",
     "output_type": "stream",
     "text": [
      "setting builder with <epde.optimizers.builder.StrategyBuilder object at 0x7f99d45be1f0>\n",
      "setting builder with <epde.optimizers.builder.StrategyBuilder object at 0x7f99d45be1f0>\n",
      "trig_token_params: VALUES = (0, 1)\n",
      "Deriv orders after definition [[0], [0, 0], [1], [1, 1]]\n",
      "initial_shape (40, 81) derivs_tensor.shape (3240, 4)\n",
      "self.tokens is ['du/dx0', 'd^2u/dx0^2', 'du/dx1', 'd^2u/dx1^2']\n",
      "Here, derivs order is {'du/dx0': [0], 'd^2u/dx0^2': [0, 0], 'du/dx1': [1], 'd^2u/dx1^2': [1, 1]}\n",
      "self.tokens is ['u']\n",
      "Here, derivs order is {'u': [None]}\n",
      "The cardinality of defined token pool is [1 4 2 2]\n",
      "Among them, the pool contains [1 4]\n",
      "self.vars_demand_equation {'u'}\n",
      "Creating new equation, sparsity value [7.25747715e-07]\n",
      "New solution accepted, confirmed 1/12 solutions.\n",
      "Creating new equation, sparsity value [0.00311425]\n",
      "New solution accepted, confirmed 2/12 solutions.\n",
      "Creating new equation, sparsity value [0.21688241]\n",
      "New solution accepted, confirmed 3/12 solutions.\n",
      "Creating new equation, sparsity value [0.0113441]\n",
      "New solution accepted, confirmed 4/12 solutions.\n",
      "Creating new equation, sparsity value [9.6172049e-06]\n",
      "Creating new equation, sparsity value [0.00013112]\n",
      "New solution accepted, confirmed 5/12 solutions.\n",
      "Creating new equation, sparsity value [0.10476284]\n",
      "New solution accepted, confirmed 6/12 solutions.\n",
      "Creating new equation, sparsity value [0.01856094]\n",
      "New solution accepted, confirmed 7/12 solutions.\n",
      "Creating new equation, sparsity value [8.58647516e-08]\n",
      "New solution accepted, confirmed 8/12 solutions.\n",
      "Creating new equation, sparsity value [0.00418431]\n",
      "New solution accepted, confirmed 9/12 solutions.\n",
      "Creating new equation, sparsity value [0.08498451]\n",
      "New solution accepted, confirmed 10/12 solutions.\n",
      "Creating new equation, sparsity value [3.41343099e-07]\n",
      "New solution accepted, confirmed 11/12 solutions.\n",
      "Creating new equation, sparsity value [0.01713742]\n",
      "New solution accepted, confirmed 12/12 solutions.\n",
      "best_obj 2\n",
      "Multiobjective optimization : 0-th epoch.\n",
      "During MO : processing 0-th weight.\n",
      "During MO : processing 1-th weight.\n",
      "During MO : processing 2-th weight.\n",
      "During MO : processing 3-th weight.\n",
      "During MO : processing 4-th weight.\n",
      "During MO : processing 5-th weight.\n",
      "During MO : processing 6-th weight.\n",
      "During MO : processing 7-th weight.\n",
      "During MO : processing 8-th weight.\n",
      "During MO : processing 9-th weight.\n",
      "During MO : processing 10-th weight.\n",
      "During MO : processing 11-th weight.\n",
      "Multiobjective optimization : 1-th epoch.\n",
      "During MO : processing 0-th weight.\n",
      "During MO : processing 1-th weight.\n",
      "During MO : processing 2-th weight.\n",
      "During MO : processing 3-th weight.\n",
      "During MO : processing 4-th weight.\n",
      "During MO : processing 5-th weight.\n",
      "During MO : processing 6-th weight.\n",
      "During MO : processing 7-th weight.\n",
      "During MO : processing 8-th weight.\n",
      "During MO : processing 9-th weight.\n",
      "During MO : processing 10-th weight.\n",
      "During MO : processing 11-th weight.\n",
      "Multiobjective optimization : 2-th epoch.\n",
      "During MO : processing 0-th weight.\n",
      "During MO : processing 1-th weight.\n",
      "During MO : processing 2-th weight.\n",
      "During MO : processing 3-th weight.\n",
      "During MO : processing 4-th weight.\n",
      "During MO : processing 5-th weight.\n",
      "During MO : processing 6-th weight.\n",
      "During MO : processing 7-th weight.\n",
      "During MO : processing 8-th weight.\n",
      "During MO : processing 9-th weight.\n",
      "During MO : processing 10-th weight.\n",
      "During MO : processing 11-th weight.\n",
      "Multiobjective optimization : 3-th epoch.\n",
      "During MO : processing 0-th weight.\n",
      "During MO : processing 1-th weight.\n",
      "During MO : processing 2-th weight.\n",
      "During MO : processing 3-th weight.\n",
      "During MO : processing 4-th weight.\n",
      "During MO : processing 5-th weight.\n",
      "During MO : processing 6-th weight.\n",
      "During MO : processing 7-th weight.\n",
      "During MO : processing 8-th weight.\n",
      "During MO : processing 9-th weight.\n",
      "During MO : processing 10-th weight.\n",
      "During MO : processing 11-th weight.\n",
      "Multiobjective optimization : 4-th epoch.\n",
      "During MO : processing 0-th weight.\n",
      "During MO : processing 1-th weight.\n",
      "During MO : processing 2-th weight.\n",
      "During MO : processing 3-th weight.\n",
      "During MO : processing 4-th weight.\n",
      "During MO : processing 5-th weight.\n",
      "During MO : processing 6-th weight.\n",
      "During MO : processing 7-th weight.\n",
      "During MO : processing 8-th weight.\n",
      "During MO : processing 9-th weight.\n",
      "During MO : processing 10-th weight.\n",
      "During MO : processing 11-th weight.\n",
      "Multiobjective optimization : 5-th epoch.\n",
      "During MO : processing 0-th weight.\n",
      "During MO : processing 1-th weight.\n",
      "During MO : processing 2-th weight.\n",
      "During MO : processing 3-th weight.\n",
      "During MO : processing 4-th weight.\n",
      "During MO : processing 5-th weight.\n",
      "During MO : processing 6-th weight.\n",
      "During MO : processing 7-th weight.\n",
      "During MO : processing 8-th weight.\n",
      "During MO : processing 9-th weight.\n",
      "During MO : processing 10-th weight.\n",
      "During MO : processing 11-th weight.\n",
      "Multiobjective optimization : 6-th epoch.\n",
      "During MO : processing 0-th weight.\n",
      "During MO : processing 1-th weight.\n",
      "During MO : processing 2-th weight.\n",
      "During MO : processing 3-th weight.\n",
      "During MO : processing 4-th weight.\n",
      "During MO : processing 5-th weight.\n",
      "During MO : processing 6-th weight.\n",
      "During MO : processing 7-th weight.\n",
      "During MO : processing 8-th weight.\n",
      "During MO : processing 9-th weight.\n",
      "During MO : processing 10-th weight.\n",
      "During MO : processing 11-th weight.\n",
      "Multiobjective optimization : 7-th epoch.\n",
      "During MO : processing 0-th weight.\n",
      "During MO : processing 1-th weight.\n",
      "During MO : processing 2-th weight.\n",
      "During MO : processing 3-th weight.\n",
      "During MO : processing 4-th weight.\n",
      "During MO : processing 5-th weight.\n",
      "During MO : processing 6-th weight.\n",
      "During MO : processing 7-th weight.\n",
      "During MO : processing 8-th weight.\n",
      "During MO : processing 9-th weight.\n",
      "During MO : processing 10-th weight.\n",
      "During MO : processing 11-th weight.\n",
      "Multiobjective optimization : 8-th epoch.\n",
      "During MO : processing 0-th weight.\n",
      "During MO : processing 1-th weight.\n",
      "During MO : processing 2-th weight.\n",
      "During MO : processing 3-th weight.\n",
      "During MO : processing 4-th weight.\n",
      "During MO : processing 5-th weight.\n",
      "During MO : processing 6-th weight.\n",
      "During MO : processing 7-th weight.\n",
      "During MO : processing 8-th weight.\n",
      "During MO : processing 9-th weight.\n",
      "During MO : processing 10-th weight.\n",
      "During MO : processing 11-th weight.\n",
      "Multiobjective optimization : 9-th epoch.\n",
      "During MO : processing 0-th weight.\n",
      "During MO : processing 1-th weight.\n",
      "During MO : processing 2-th weight.\n",
      "During MO : processing 3-th weight.\n",
      "During MO : processing 4-th weight.\n",
      "During MO : processing 5-th weight.\n",
      "During MO : processing 6-th weight.\n",
      "During MO : processing 7-th weight.\n",
      "During MO : processing 8-th weight.\n",
      "During MO : processing 9-th weight.\n",
      "During MO : processing 10-th weight.\n",
      "During MO : processing 11-th weight.\n",
      "Multiobjective optimization : 10-th epoch.\n",
      "During MO : processing 0-th weight.\n",
      "During MO : processing 1-th weight.\n",
      "During MO : processing 2-th weight.\n",
      "During MO : processing 3-th weight.\n",
      "During MO : processing 4-th weight.\n",
      "During MO : processing 5-th weight.\n",
      "During MO : processing 6-th weight.\n",
      "During MO : processing 7-th weight.\n",
      "During MO : processing 8-th weight.\n",
      "During MO : processing 9-th weight.\n",
      "During MO : processing 10-th weight.\n",
      "During MO : processing 11-th weight.\n",
      "Multiobjective optimization : 11-th epoch.\n",
      "During MO : processing 0-th weight.\n",
      "During MO : processing 1-th weight.\n",
      "During MO : processing 2-th weight.\n",
      "During MO : processing 3-th weight.\n",
      "During MO : processing 4-th weight.\n",
      "During MO : processing 5-th weight.\n",
      "During MO : processing 6-th weight.\n",
      "During MO : processing 7-th weight.\n",
      "During MO : processing 8-th weight.\n",
      "During MO : processing 9-th weight.\n",
      "During MO : processing 10-th weight.\n",
      "During MO : processing 11-th weight.\n",
      "Multiobjective optimization : 12-th epoch.\n",
      "During MO : processing 0-th weight.\n",
      "During MO : processing 1-th weight.\n",
      "During MO : processing 2-th weight.\n",
      "During MO : processing 3-th weight.\n",
      "During MO : processing 4-th weight.\n",
      "During MO : processing 5-th weight.\n",
      "During MO : processing 6-th weight.\n",
      "During MO : processing 7-th weight.\n",
      "During MO : processing 8-th weight.\n",
      "During MO : processing 9-th weight.\n",
      "During MO : processing 10-th weight.\n",
      "During MO : processing 11-th weight.\n",
      "Multiobjective optimization : 13-th epoch.\n",
      "During MO : processing 0-th weight.\n"
     ]
    },
    {
     "name": "stdout",
     "output_type": "stream",
     "text": [
      "During MO : processing 1-th weight.\n",
      "During MO : processing 2-th weight.\n",
      "During MO : processing 3-th weight.\n",
      "During MO : processing 4-th weight.\n",
      "During MO : processing 5-th weight.\n",
      "During MO : processing 6-th weight.\n",
      "During MO : processing 7-th weight.\n",
      "During MO : processing 8-th weight.\n",
      "During MO : processing 9-th weight.\n",
      "During MO : processing 10-th weight.\n",
      "During MO : processing 11-th weight.\n",
      "Multiobjective optimization : 14-th epoch.\n",
      "During MO : processing 0-th weight.\n",
      "During MO : processing 1-th weight.\n",
      "During MO : processing 2-th weight.\n",
      "During MO : processing 3-th weight.\n",
      "During MO : processing 4-th weight.\n",
      "During MO : processing 5-th weight.\n",
      "During MO : processing 6-th weight.\n",
      "During MO : processing 7-th weight.\n",
      "During MO : processing 8-th weight.\n",
      "During MO : processing 9-th weight.\n",
      "During MO : processing 10-th weight.\n",
      "During MO : processing 11-th weight.\n",
      "Multiobjective optimization : 15-th epoch.\n",
      "During MO : processing 0-th weight.\n",
      "During MO : processing 1-th weight.\n",
      "During MO : processing 2-th weight.\n",
      "During MO : processing 3-th weight.\n",
      "During MO : processing 4-th weight.\n",
      "During MO : processing 5-th weight.\n",
      "During MO : processing 6-th weight.\n",
      "During MO : processing 7-th weight.\n",
      "During MO : processing 8-th weight.\n",
      "During MO : processing 9-th weight.\n",
      "During MO : processing 10-th weight.\n",
      "During MO : processing 11-th weight.\n",
      "Multiobjective optimization : 16-th epoch.\n",
      "During MO : processing 0-th weight.\n",
      "During MO : processing 1-th weight.\n",
      "During MO : processing 2-th weight.\n",
      "During MO : processing 3-th weight.\n",
      "During MO : processing 4-th weight.\n",
      "During MO : processing 5-th weight.\n",
      "During MO : processing 6-th weight.\n",
      "During MO : processing 7-th weight.\n",
      "During MO : processing 8-th weight.\n",
      "During MO : processing 9-th weight.\n",
      "During MO : processing 10-th weight.\n",
      "During MO : processing 11-th weight.\n",
      "Multiobjective optimization : 17-th epoch.\n",
      "During MO : processing 0-th weight.\n",
      "During MO : processing 1-th weight.\n",
      "During MO : processing 2-th weight.\n",
      "During MO : processing 3-th weight.\n",
      "During MO : processing 4-th weight.\n",
      "During MO : processing 5-th weight.\n",
      "During MO : processing 6-th weight.\n",
      "During MO : processing 7-th weight.\n",
      "During MO : processing 8-th weight.\n",
      "During MO : processing 9-th weight.\n",
      "During MO : processing 10-th weight.\n",
      "During MO : processing 11-th weight.\n",
      "Multiobjective optimization : 18-th epoch.\n",
      "During MO : processing 0-th weight.\n",
      "During MO : processing 1-th weight.\n",
      "During MO : processing 2-th weight.\n",
      "During MO : processing 3-th weight.\n",
      "During MO : processing 4-th weight.\n",
      "During MO : processing 5-th weight.\n",
      "During MO : processing 6-th weight.\n",
      "During MO : processing 7-th weight.\n",
      "During MO : processing 8-th weight.\n",
      "During MO : processing 9-th weight.\n",
      "During MO : processing 10-th weight.\n",
      "During MO : processing 11-th weight.\n",
      "Multiobjective optimization : 19-th epoch.\n",
      "During MO : processing 0-th weight.\n",
      "During MO : processing 1-th weight.\n",
      "During MO : processing 2-th weight.\n",
      "During MO : processing 3-th weight.\n",
      "During MO : processing 4-th weight.\n",
      "During MO : processing 5-th weight.\n",
      "During MO : processing 6-th weight.\n",
      "During MO : processing 7-th weight.\n",
      "During MO : processing 8-th weight.\n",
      "During MO : processing 9-th weight.\n",
      "During MO : processing 10-th weight.\n",
      "During MO : processing 11-th weight.\n",
      "Multiobjective optimization : 20-th epoch.\n",
      "During MO : processing 0-th weight.\n",
      "During MO : processing 1-th weight.\n",
      "During MO : processing 2-th weight.\n",
      "During MO : processing 3-th weight.\n",
      "During MO : processing 4-th weight.\n",
      "During MO : processing 5-th weight.\n",
      "During MO : processing 6-th weight.\n",
      "During MO : processing 7-th weight.\n",
      "During MO : processing 8-th weight.\n",
      "During MO : processing 9-th weight.\n",
      "During MO : processing 10-th weight.\n",
      "During MO : processing 11-th weight.\n",
      "Multiobjective optimization : 21-th epoch.\n",
      "During MO : processing 0-th weight.\n",
      "During MO : processing 1-th weight.\n",
      "During MO : processing 2-th weight.\n",
      "During MO : processing 3-th weight.\n",
      "During MO : processing 4-th weight.\n",
      "During MO : processing 5-th weight.\n",
      "During MO : processing 6-th weight.\n",
      "During MO : processing 7-th weight.\n",
      "During MO : processing 8-th weight.\n",
      "During MO : processing 9-th weight.\n",
      "During MO : processing 10-th weight.\n",
      "During MO : processing 11-th weight.\n",
      "Multiobjective optimization : 22-th epoch.\n",
      "During MO : processing 0-th weight.\n",
      "During MO : processing 1-th weight.\n",
      "During MO : processing 2-th weight.\n",
      "During MO : processing 3-th weight.\n",
      "During MO : processing 4-th weight.\n",
      "During MO : processing 5-th weight.\n",
      "During MO : processing 6-th weight.\n",
      "During MO : processing 7-th weight.\n",
      "During MO : processing 8-th weight.\n",
      "During MO : processing 9-th weight.\n",
      "During MO : processing 10-th weight.\n",
      "During MO : processing 11-th weight.\n",
      "Multiobjective optimization : 23-th epoch.\n",
      "During MO : processing 0-th weight.\n",
      "During MO : processing 1-th weight.\n",
      "During MO : processing 2-th weight.\n",
      "During MO : processing 3-th weight.\n",
      "During MO : processing 4-th weight.\n",
      "During MO : processing 5-th weight.\n",
      "During MO : processing 6-th weight.\n",
      "During MO : processing 7-th weight.\n",
      "During MO : processing 8-th weight.\n",
      "During MO : processing 9-th weight.\n",
      "During MO : processing 10-th weight.\n",
      "During MO : processing 11-th weight.\n",
      "Multiobjective optimization : 24-th epoch.\n",
      "During MO : processing 0-th weight.\n",
      "During MO : processing 1-th weight.\n",
      "During MO : processing 2-th weight.\n",
      "During MO : processing 3-th weight.\n",
      "During MO : processing 4-th weight.\n",
      "During MO : processing 5-th weight.\n",
      "During MO : processing 6-th weight.\n",
      "During MO : processing 7-th weight.\n",
      "During MO : processing 8-th weight.\n",
      "During MO : processing 9-th weight.\n",
      "During MO : processing 10-th weight.\n",
      "During MO : processing 11-th weight.\n",
      "Multiobjective optimization : 25-th epoch.\n",
      "During MO : processing 0-th weight.\n",
      "During MO : processing 1-th weight.\n",
      "During MO : processing 2-th weight.\n",
      "During MO : processing 3-th weight.\n",
      "During MO : processing 4-th weight.\n",
      "During MO : processing 5-th weight.\n",
      "During MO : processing 6-th weight.\n",
      "During MO : processing 7-th weight.\n",
      "During MO : processing 8-th weight.\n",
      "During MO : processing 9-th weight.\n",
      "During MO : processing 10-th weight.\n",
      "During MO : processing 11-th weight.\n",
      "Multiobjective optimization : 26-th epoch.\n",
      "During MO : processing 0-th weight.\n",
      "During MO : processing 1-th weight.\n",
      "During MO : processing 2-th weight.\n",
      "During MO : processing 3-th weight.\n",
      "During MO : processing 4-th weight.\n",
      "During MO : processing 5-th weight.\n",
      "During MO : processing 6-th weight.\n",
      "During MO : processing 7-th weight.\n",
      "During MO : processing 8-th weight.\n",
      "During MO : processing 9-th weight.\n",
      "During MO : processing 10-th weight.\n",
      "During MO : processing 11-th weight.\n",
      "Multiobjective optimization : 27-th epoch.\n",
      "During MO : processing 0-th weight.\n",
      "During MO : processing 1-th weight.\n",
      "During MO : processing 2-th weight.\n",
      "During MO : processing 3-th weight.\n",
      "During MO : processing 4-th weight.\n",
      "During MO : processing 5-th weight.\n",
      "During MO : processing 6-th weight.\n",
      "During MO : processing 7-th weight.\n",
      "During MO : processing 8-th weight.\n",
      "During MO : processing 9-th weight.\n",
      "During MO : processing 10-th weight.\n",
      "During MO : processing 11-th weight.\n",
      "Multiobjective optimization : 28-th epoch.\n",
      "During MO : processing 0-th weight.\n",
      "During MO : processing 1-th weight.\n",
      "During MO : processing 2-th weight.\n",
      "During MO : processing 3-th weight.\n",
      "During MO : processing 4-th weight.\n",
      "During MO : processing 5-th weight.\n",
      "During MO : processing 6-th weight.\n",
      "During MO : processing 7-th weight.\n",
      "During MO : processing 8-th weight.\n",
      "During MO : processing 9-th weight.\n",
      "During MO : processing 10-th weight.\n",
      "During MO : processing 11-th weight.\n",
      "Multiobjective optimization : 29-th epoch.\n",
      "During MO : processing 0-th weight.\n",
      "During MO : processing 1-th weight.\n",
      "During MO : processing 2-th weight.\n",
      "During MO : processing 3-th weight.\n",
      "During MO : processing 4-th weight.\n",
      "During MO : processing 5-th weight.\n",
      "During MO : processing 6-th weight.\n",
      "During MO : processing 7-th weight.\n",
      "During MO : processing 8-th weight.\n",
      "During MO : processing 9-th weight.\n",
      "During MO : processing 10-th weight.\n",
      "During MO : processing 11-th weight.\n",
      "Multiobjective optimization : 30-th epoch.\n",
      "During MO : processing 0-th weight.\n",
      "During MO : processing 1-th weight.\n",
      "During MO : processing 2-th weight.\n",
      "During MO : processing 3-th weight.\n"
     ]
    },
    {
     "name": "stdout",
     "output_type": "stream",
     "text": [
      "During MO : processing 4-th weight.\n",
      "During MO : processing 5-th weight.\n",
      "During MO : processing 6-th weight.\n",
      "During MO : processing 7-th weight.\n",
      "During MO : processing 8-th weight.\n",
      "During MO : processing 9-th weight.\n",
      "During MO : processing 10-th weight.\n",
      "During MO : processing 11-th weight.\n",
      "Multiobjective optimization : 31-th epoch.\n",
      "During MO : processing 0-th weight.\n",
      "During MO : processing 1-th weight.\n",
      "During MO : processing 2-th weight.\n",
      "During MO : processing 3-th weight.\n",
      "During MO : processing 4-th weight.\n",
      "During MO : processing 5-th weight.\n",
      "During MO : processing 6-th weight.\n",
      "During MO : processing 7-th weight.\n",
      "During MO : processing 8-th weight.\n",
      "During MO : processing 9-th weight.\n",
      "During MO : processing 10-th weight.\n",
      "During MO : processing 11-th weight.\n",
      "Multiobjective optimization : 32-th epoch.\n",
      "During MO : processing 0-th weight.\n",
      "During MO : processing 1-th weight.\n",
      "During MO : processing 2-th weight.\n",
      "During MO : processing 3-th weight.\n",
      "During MO : processing 4-th weight.\n",
      "During MO : processing 5-th weight.\n",
      "During MO : processing 6-th weight.\n",
      "During MO : processing 7-th weight.\n",
      "During MO : processing 8-th weight.\n",
      "During MO : processing 9-th weight.\n",
      "During MO : processing 10-th weight.\n",
      "During MO : processing 11-th weight.\n",
      "Multiobjective optimization : 33-th epoch.\n",
      "During MO : processing 0-th weight.\n",
      "During MO : processing 1-th weight.\n",
      "During MO : processing 2-th weight.\n",
      "During MO : processing 3-th weight.\n",
      "During MO : processing 4-th weight.\n",
      "During MO : processing 5-th weight.\n",
      "During MO : processing 6-th weight.\n",
      "During MO : processing 7-th weight.\n",
      "During MO : processing 8-th weight.\n",
      "During MO : processing 9-th weight.\n",
      "During MO : processing 10-th weight.\n",
      "During MO : processing 11-th weight.\n",
      "Multiobjective optimization : 34-th epoch.\n",
      "During MO : processing 0-th weight.\n",
      "During MO : processing 1-th weight.\n",
      "During MO : processing 2-th weight.\n",
      "During MO : processing 3-th weight.\n",
      "During MO : processing 4-th weight.\n",
      "During MO : processing 5-th weight.\n",
      "During MO : processing 6-th weight.\n",
      "During MO : processing 7-th weight.\n",
      "During MO : processing 8-th weight.\n",
      "During MO : processing 9-th weight.\n",
      "During MO : processing 10-th weight.\n",
      "During MO : processing 11-th weight.\n",
      "Multiobjective optimization : 35-th epoch.\n",
      "During MO : processing 0-th weight.\n",
      "During MO : processing 1-th weight.\n",
      "During MO : processing 2-th weight.\n",
      "During MO : processing 3-th weight.\n",
      "During MO : processing 4-th weight.\n",
      "During MO : processing 5-th weight.\n",
      "During MO : processing 6-th weight.\n",
      "During MO : processing 7-th weight.\n",
      "During MO : processing 8-th weight.\n",
      "During MO : processing 9-th weight.\n",
      "During MO : processing 10-th weight.\n",
      "During MO : processing 11-th weight.\n",
      "Multiobjective optimization : 36-th epoch.\n",
      "During MO : processing 0-th weight.\n",
      "During MO : processing 1-th weight.\n",
      "During MO : processing 2-th weight.\n",
      "During MO : processing 3-th weight.\n",
      "During MO : processing 4-th weight.\n",
      "During MO : processing 5-th weight.\n",
      "During MO : processing 6-th weight.\n",
      "During MO : processing 7-th weight.\n",
      "During MO : processing 8-th weight.\n",
      "During MO : processing 9-th weight.\n",
      "During MO : processing 10-th weight.\n",
      "During MO : processing 11-th weight.\n",
      "Multiobjective optimization : 37-th epoch.\n",
      "During MO : processing 0-th weight.\n",
      "During MO : processing 1-th weight.\n",
      "During MO : processing 2-th weight.\n",
      "During MO : processing 3-th weight.\n",
      "During MO : processing 4-th weight.\n",
      "During MO : processing 5-th weight.\n",
      "During MO : processing 6-th weight.\n",
      "During MO : processing 7-th weight.\n",
      "During MO : processing 8-th weight.\n",
      "During MO : processing 9-th weight.\n",
      "During MO : processing 10-th weight.\n",
      "During MO : processing 11-th weight.\n",
      "Multiobjective optimization : 38-th epoch.\n",
      "During MO : processing 0-th weight.\n",
      "During MO : processing 1-th weight.\n",
      "During MO : processing 2-th weight.\n",
      "During MO : processing 3-th weight.\n",
      "During MO : processing 4-th weight.\n",
      "During MO : processing 5-th weight.\n",
      "During MO : processing 6-th weight.\n",
      "During MO : processing 7-th weight.\n",
      "During MO : processing 8-th weight.\n",
      "During MO : processing 9-th weight.\n",
      "During MO : processing 10-th weight.\n",
      "During MO : processing 11-th weight.\n",
      "Multiobjective optimization : 39-th epoch.\n",
      "During MO : processing 0-th weight.\n",
      "During MO : processing 1-th weight.\n",
      "During MO : processing 2-th weight.\n",
      "During MO : processing 3-th weight.\n",
      "During MO : processing 4-th weight.\n",
      "During MO : processing 5-th weight.\n",
      "During MO : processing 6-th weight.\n",
      "During MO : processing 7-th weight.\n",
      "During MO : processing 8-th weight.\n",
      "During MO : processing 9-th weight.\n",
      "During MO : processing 10-th weight.\n",
      "During MO : processing 11-th weight.\n",
      "The optimization has been conducted.\n"
     ]
    }
   ],
   "source": [
    "epde_search_obj = epde_discovery(grids_training, data_training, derivs = [ders['u']],\n",
    "                                 multiobjective_mode = True)"
   ]
  },
  {
   "cell_type": "code",
   "execution_count": 10,
   "id": "f6725b74",
   "metadata": {},
   "outputs": [
    {
     "name": "stdout",
     "output_type": "stream",
     "text": [
      "\n",
      "\n",
      "0-th non-dominated level\n",
      "\n",
      "\n",
      "-0.5496878845172918 * u{power: 1.0} * t{power: 1.0} + -0.05112489217014476 * u{power: 1.0} + 0.0 * du/dx1{power: 1.0} * x{power: 1.0} + 0.0 * du/dx1{power: 1.0} + 0.7892463027250493 = du/dx0{power: 1.0}\n",
      "{'terms_number': {'optimizable': False, 'value': 5}, 'max_factors_in_term': {'optimizable': False, 'value': {'factors_num': [1, 2], 'probas': [0.8, 0.2]}}, ('sparsity', 'u'): {'optimizable': True, 'value': 0.0020510539676752717}} , with objective function values of [0.64180359 2.5       ] \n",
      "\n",
      "0.0 * d^2u/dx0^2{power: 1.0} * du/dx1{power: 1.0} + 0.039994341975063886 * d^2u/dx1^2{power: 1.0} + 0.0 * du/dx1{power: 1.0} + 0.0 * u{power: 1.0} * du/dx1{power: 1.0} + -0.02059504177543492 = d^2u/dx0^2{power: 1.0}\n",
      "{'terms_number': {'optimizable': False, 'value': 5}, 'max_factors_in_term': {'optimizable': False, 'value': {'factors_num': [1, 2], 'probas': [0.8, 0.2]}}, ('sparsity', 'u'): {'optimizable': True, 'value': 0.0005922902356125623}} , with objective function values of [0.00960299 4.        ] \n",
      "\n",
      "0.0 * du/dx1{power: 1.0} + 0.0 * u{power: 1.0} * du/dx1{power: 1.0} + -0.18452312183899572 * u{power: 1.0} + 0.0 * du/dx1{power: 1.0} * d^2u/dx1^2{power: 1.0} + 0.7864096452453555 = du/dx0{power: 1.0}\n",
      "{'terms_number': {'optimizable': False, 'value': 5}, 'max_factors_in_term': {'optimizable': False, 'value': {'factors_num': [1, 2], 'probas': [0.8, 0.2]}}, ('sparsity', 'u'): {'optimizable': True, 'value': 0.002190874557986789}} , with objective function values of [2.1143071 1.5      ] \n",
      "\n",
      "-0.18452312183899572 * u{power: 1.0} + 0.0 * du/dx1{power: 1.0} + 0.0 * du/dx0{power: 1.0} * du/dx1{power: 1.0} + 0.0 * d^2u/dx0^2{power: 1.0} * u{power: 1.0} + 0.7864096452453555 = du/dx0{power: 1.0}\n",
      "{'terms_number': {'optimizable': False, 'value': 5}, 'max_factors_in_term': {'optimizable': False, 'value': {'factors_num': [1, 2], 'probas': [0.8, 0.2]}}, ('sparsity', 'u'): {'optimizable': True, 'value': 0.004001307668963563}} , with objective function values of [2.1143071 1.5      ] \n",
      "\n",
      "0.0 * du/dx1{power: 1.0} + 0.03986724979300948 * d^2u/dx1^2{power: 1.0} + -0.003790903741304338 * u{power: 1.0} + 0.0 * u{power: 1.0} * x{power: 1.0} + -0.009668142992528914 = d^2u/dx0^2{power: 1.0}\n",
      "{'terms_number': {'optimizable': False, 'value': 5}, 'max_factors_in_term': {'optimizable': False, 'value': {'factors_num': [1, 2], 'probas': [0.8, 0.2]}}, ('sparsity', 'u'): {'optimizable': True, 'value': 0.005028842968265235}} , with objective function values of [0.00842261 4.5       ] \n",
      "\n",
      "0.0 * du/dx1{power: 1.0} + 0.0 * d^2u/dx0^2{power: 1.0} * du/dx0{power: 1.0} + -0.18452312183899572 * u{power: 1.0} + 0.0 * u{power: 1.0} * du/dx1{power: 1.0} + 0.7864096452453555 = du/dx0{power: 1.0}\n",
      "{'terms_number': {'optimizable': False, 'value': 5}, 'max_factors_in_term': {'optimizable': False, 'value': {'factors_num': [1, 2], 'probas': [0.8, 0.2]}}, ('sparsity', 'u'): {'optimizable': True, 'value': 0.003171661595486404}} , with objective function values of [2.1143071 1.5      ] \n",
      "\n",
      "0.0 * du/dx1{power: 1.0} + -0.18452312183899572 * u{power: 1.0} + 0.0 * du/dx0{power: 1.0} * u{power: 1.0} + 0.0 * du/dx1{power: 1.0} * x{power: 1.0} + 0.7864096452453555 = du/dx0{power: 1.0}\n",
      "{'terms_number': {'optimizable': False, 'value': 5}, 'max_factors_in_term': {'optimizable': False, 'value': {'factors_num': [1, 2], 'probas': [0.8, 0.2]}}, ('sparsity', 'u'): {'optimizable': True, 'value': 0.0022888546468261698}} , with objective function values of [2.1143071 1.5      ] \n",
      "\n",
      "0.0 * d^2u/dx1^2{power: 1.0} * du/dx1{power: 1.0} + 0.3170861385853261 * du/dx0{power: 1.0} + 0.0 * du/dx0{power: 1.0} * sin{power: 1.0, freq: 2.5792977481576362, dim: 0.0} + 0.012091286071880938 * u{power: 1.0} + -0.053694967683941545 = du/dx0{power: 1.0} * t{power: 1.0}\n",
      "{'terms_number': {'optimizable': False, 'value': 5}, 'max_factors_in_term': {'optimizable': False, 'value': {'factors_num': [1, 2], 'probas': [0.8, 0.2]}}, ('sparsity', 'u'): {'optimizable': True, 'value': 0.006472967327617509}} , with objective function values of [0.10427561 3.        ] \n",
      "\n",
      "0.0 * du/dx1{power: 1.0} * cos{power: 1.0, freq: 2.810542685823843, dim: 0.0} + 0.0 * du/dx1{power: 1.0} * d^2u/dx0^2{power: 1.0} + 0.0 * du/dx1{power: 1.0} + 0.039994341975063886 * d^2u/dx1^2{power: 1.0} + -0.02059504177543492 = d^2u/dx0^2{power: 1.0}\n",
      "{'terms_number': {'optimizable': False, 'value': 5}, 'max_factors_in_term': {'optimizable': False, 'value': {'factors_num': [1, 2], 'probas': [0.8, 0.2]}}, ('sparsity', 'u'): {'optimizable': True, 'value': 0.003201153918935575}} , with objective function values of [0.00960299 4.        ] \n",
      "\n",
      "0.03986724979300948 * d^2u/dx1^2{power: 1.0} + 0.0 * du/dx1{power: 1.0} + -0.003790903741304338 * u{power: 1.0} + 0.0 * du/dx1{power: 1.0} * d^2u/dx1^2{power: 1.0} + -0.009668142992528914 = d^2u/dx0^2{power: 1.0}\n",
      "{'terms_number': {'optimizable': False, 'value': 5}, 'max_factors_in_term': {'optimizable': False, 'value': {'factors_num': [1, 2], 'probas': [0.8, 0.2]}}, ('sparsity', 'u'): {'optimizable': True, 'value': 0.0025273391878526505}} , with objective function values of [0.00842261 4.5       ] \n",
      "\n",
      "-0.003790903741304279 * u{power: 1.0} + 0.0 * du/dx1{power: 1.0} + 0.03986724979300945 * d^2u/dx1^2{power: 1.0} + 0.0 * du/dx1{power: 1.0} * d^2u/dx0^2{power: 1.0} + -0.009668142992528446 = d^2u/dx0^2{power: 1.0}\n",
      "{'terms_number': {'optimizable': False, 'value': 5}, 'max_factors_in_term': {'optimizable': False, 'value': {'factors_num': [1, 2], 'probas': [0.8, 0.2]}}, ('sparsity', 'u'): {'optimizable': True, 'value': 0.0025868099968101555}} , with objective function values of [0.00842261 4.5       ] \n",
      "\n",
      "-0.18452312183899572 * u{power: 1.0} + 0.0 * du/dx1{power: 1.0} + 0.0 * du/dx1{power: 1.0} * d^2u/dx0^2{power: 1.0} + 0.0 * d^2u/dx1^2{power: 1.0} * du/dx0{power: 1.0} + 0.7864096452453555 = du/dx0{power: 1.0}\n",
      "{'terms_number': {'optimizable': False, 'value': 5}, 'max_factors_in_term': {'optimizable': False, 'value': {'factors_num': [1, 2], 'probas': [0.8, 0.2]}}, ('sparsity', 'u'): {'optimizable': True, 'value': 0.0031414337806716383}} , with objective function values of [2.1143071 1.5      ] \n",
      "\n"
     ]
    }
   ],
   "source": [
    "epde_search_obj.equations()"
   ]
  },
  {
   "cell_type": "code",
   "execution_count": 11,
   "id": "474161b7",
   "metadata": {},
   "outputs": [
    {
     "name": "stdout",
     "output_type": "stream",
     "text": [
      "$\\begin{eqnarray*} \\frac{\\partial u}{\\partial x_0} = -5.497\\cdot 10^{-1} u \\cdot t{power: 1.0} + -5.112\\cdot 10^{-2} u + 7.892\\cdot 10^{-1}  \\end{eqnarray*}$\n",
      "$\\begin{eqnarray*} \\frac{\\partial ^2u}{\\partial x_0^2} = 3.999\\cdot 10^{-2} \\frac{\\partial ^2u}{\\partial x_1^2} + -2.06\\cdot 10^{-2}  \\end{eqnarray*}$\n",
      "$\\begin{eqnarray*} \\frac{\\partial u}{\\partial x_0} = -1.845\\cdot 10^{-1} u + 7.864\\cdot 10^{-1}  \\end{eqnarray*}$\n",
      "$\\begin{eqnarray*} \\frac{\\partial ^2u}{\\partial x_0^2} = 3.987\\cdot 10^{-2} \\frac{\\partial ^2u}{\\partial x_1^2} + -3.791\\cdot 10^{-3} u + -9.668\\cdot 10^{-3}  \\end{eqnarray*}$\n",
      "$\\begin{eqnarray*} \\frac{\\partial u}{\\partial x_0} \\cdot t{power: 1.0} = 3.171\\cdot 10^{-1} \\frac{\\partial u}{\\partial x_0} + 1.209\\cdot 10^{-2} u + -5.369\\cdot 10^{-2}  \\end{eqnarray*}$\n"
     ]
    },
    {
     "data": {
      "image/png": "[encoded data removed]",
      "text/plain": [
       "<Figure size 640x480 with 1 Axes>"
      ]
     },
     "metadata": {},
     "output_type": "display_data"
    }
   ],
   "source": [
    "epde_search_obj.visualize_solutions()"
   ]
  },
  {
   "cell_type": "code",
   "execution_count": null,
   "id": "e34505a2",
   "metadata": {},
   "outputs": [],
   "source": []
  },
  {
   "cell_type": "code",
   "execution_count": 13,
   "id": "3ba9f78d",
   "metadata": {},
   "outputs": [],
   "source": [
    "systems = {'2' : epde_search_obj.get_equations_by_complexity(2)[0],\n",
    "           '4' : epde_search_obj.get_equations_by_complexity(4)[0]}"
   ]
  },
  {
   "cell_type": "code",
   "execution_count": 14,
   "id": "d444876c",
   "metadata": {},
   "outputs": [],
   "source": [
    "t, x = np.unique(grids[0]), np.unique(grids[1])"
   ]
  },
  {
   "cell_type": "code",
   "execution_count": 15,
   "id": "623edaca",
   "metadata": {},
   "outputs": [
    {
     "data": {
      "text/plain": [
       "{'u': array([[ 0.00000000e+00,  0.00000000e+00,  1.21893604e+00,\n",
       "          1.99658704e+02],\n",
       "        [ 3.14429868e-02,  2.54933046e+00,  3.53417339e+00,\n",
       "          1.84844299e+02],\n",
       "        [ 5.05541513e-02,  3.80805166e+00,  5.66891429e+00,\n",
       "          1.70404493e+02],\n",
       "        ...,\n",
       "        [ 5.17249081e-01, -3.63689548e+00, -1.37043347e+01,\n",
       "         -1.09763264e+02],\n",
       "        [ 1.80894000e-01, -2.60133166e+00, -1.50330578e+01,\n",
       "         -1.25877305e+02],\n",
       "        [-0.00000000e+00,  0.00000000e+00, -1.65452194e+01,\n",
       "         -1.35648004e+02]])}"
      ]
     },
     "execution_count": 15,
     "metadata": {},
     "output_type": "execute_result"
    }
   ],
   "source": [
    "epde_search_obj.saved_derivaties"
   ]
  },
  {
   "cell_type": "code",
   "execution_count": 16,
   "id": "a1cb38e2",
   "metadata": {},
   "outputs": [
    {
     "name": "stdout",
     "output_type": "stream",
     "text": [
      "bop 1: torch.Size([81])\n",
      "bop 2: torch.Size([81])\n",
      "bop 3: torch.Size([41])\n",
      "bop 4: torch.Size([41])\n"
     ]
    }
   ],
   "source": [
    "from epde.interface.solver_integration import BoundaryConditions, BOPElement\n",
    "\n",
    "bnd_t = torch.cartesian_prod(torch.from_numpy(np.array([t[train_max + 1]], dtype=np.float64)),\n",
    "                             torch.from_numpy(x)).float()\n",
    "\n",
    "bop_1 = BOPElement(axis = 0, key = 'u_t', term = [None], power = 1, var = 0)\n",
    "bop_1.set_grid(bnd_t)\n",
    "bop_1.values = torch.from_numpy(data_test[0, ...]).float()\n",
    "print('bop 1:', bop_1.values.shape)\n",
    "\n",
    "t_der = epde_search_obj.saved_derivaties['u'][..., 0].reshape(grids_training[0].shape)\n",
    "bop_2 = BOPElement(axis = 0, key = 'dudt', term = [0], power = 1, var = 0)\n",
    "bop_2.set_grid(bnd_t)\n",
    "bop_2.values = torch.from_numpy(t_der[-1, ...]).float()\n",
    "print('bop 2:', bop_2.values.shape)\n",
    "\n",
    "bnd_x1 = torch.cartesian_prod(torch.from_numpy(t[train_max:]),\n",
    "                              torch.from_numpy(np.array([x[0]], dtype=np.float64))).float()\n",
    "bnd_x2 = torch.cartesian_prod(torch.from_numpy(t[train_max:]),\n",
    "                              torch.from_numpy(np.array([x[-1]], dtype=np.float64))).float()            \n",
    "\n",
    "bop_3 = BOPElement(axis = 1, key = 'u_x1', term = [None], power = 1, var = 0)\n",
    "bop_3.set_grid(bnd_x1)\n",
    "bop_3.values = torch.from_numpy(data_test[..., 0]).float()\n",
    "print('bop 3:', bop_3.values.shape)\n",
    "\n",
    "bop_4 = BOPElement(axis = 1, key = 'u_x2', term = [None], power = 1, var = 0)\n",
    "bop_4.set_grid(bnd_x2)\n",
    "bop_4.values = torch.from_numpy(data_test[..., -1]).float()\n",
    "print('bop 4:', bop_4.values.shape)"
   ]
  },
  {
   "cell_type": "code",
   "execution_count": 17,
   "id": "33f84f57",
   "metadata": {},
   "outputs": [
    {
     "data": {
      "text/plain": [
       "\"0.039994341975063886 * d^2u/dx1^2{power: 1.0} + 0.0 * du/dx1{power: 1.0} + 0.0 * d^2u/dx1^2{power: 1.0} * du/dx1{power: 1.0} + 0.0 * u{power: 1.0} * du/dx1{power: 1.0} + -0.02059504177543492 = d^2u/dx0^2{power: 1.0}\\n{'terms_number': {'optimizable': False, 'value': 5}, 'max_factors_in_term': {'optimizable': False, 'value': {'factors_num': [1, 2], 'probas': [0.8, 0.2]}}, ('sparsity', 'u'): {'optimizable': True, 'value': 0.03388273808409926}}\""
      ]
     },
     "execution_count": 17,
     "metadata": {},
     "output_type": "execute_result"
    }
   ],
   "source": [
    "systems['4'].text_form"
   ]
  },
  {
   "cell_type": "code",
   "execution_count": 18,
   "id": "79c0c2ad",
   "metadata": {},
   "outputs": [
    {
     "data": {
      "text/plain": [
       "(41, 81)"
      ]
     },
     "execution_count": 18,
     "metadata": {},
     "output_type": "execute_result"
    }
   ],
   "source": [
    "grids_test[0].shape"
   ]
  },
  {
   "cell_type": "code",
   "execution_count": 19,
   "id": "71cd6cda",
   "metadata": {},
   "outputs": [
    {
     "name": "stdout",
     "output_type": "stream",
     "text": [
      "target_form shape is torch.Size([3321, 1])\n"
     ]
    }
   ],
   "source": [
    "from epde.interface.solver_integration import SystemSolverInterface\n",
    "\n",
    "ss_interface = SystemSolverInterface(system_to_adapt=systems['4'])\n",
    "form = ss_interface.form(grids = grids_test)"
   ]
  },
  {
   "cell_type": "code",
   "execution_count": 20,
   "id": "80221cf3",
   "metadata": {},
   "outputs": [
    {
     "data": {
      "text/plain": [
       "dict_keys(['d^2u/dx1^2{power: 1.0}', 'C', 'd^2u/dx0^2{power: 1.0}'])"
      ]
     },
     "execution_count": 20,
     "metadata": {},
     "output_type": "execute_result"
    }
   ],
   "source": [
    "form[0][1].keys()"
   ]
  },
  {
   "cell_type": "code",
   "execution_count": 21,
   "id": "90a8ce27",
   "metadata": {},
   "outputs": [
    {
     "data": {
      "text/plain": [
       "{'coeff': tensor([[-1.],\n",
       "         [-1.],\n",
       "         [-1.],\n",
       "         ...,\n",
       "         [-1.],\n",
       "         [-1.],\n",
       "         [-1.]]),\n",
       " 'term': [0, 0],\n",
       " 'pow': 1.0,\n",
       " 'var': [0]}"
      ]
     },
     "execution_count": 21,
     "metadata": {},
     "output_type": "execute_result"
    }
   ],
   "source": [
    "form[0][1]['d^2u/dx0^2{power: 1.0}']"
   ]
  },
  {
   "cell_type": "code",
   "execution_count": 22,
   "id": "1b67cb73",
   "metadata": {},
   "outputs": [
    {
     "name": "stdout",
     "output_type": "stream",
     "text": [
      "Using explicitly sent system of equations.\n",
      "dimensionality is 2\n",
      "grid.shape is (41, 81)\n",
      "In grid format prepare: grid shape is torch.Size([2, 41, 81])\n",
      "Shape of the grid for solver torch.Size([2, 41, 81])\n",
      "target_form shape is torch.Size([41, 81])\n",
      "In grid format prepare: grid shape is torch.Size([2, 41, 81])\n",
      "Grid is  <class 'torch.Tensor'> torch.Size([2, 41, 81])\n",
      "torch.Size([41, 81])\n",
      "before Model_prepare: torch.float64\n",
      "after Model_prepare: torch.float64\n",
      "[2024-02-01 13:55:31.058434] initial (min) loss is 389.6265869140625\n",
      "[2024-02-01 13:55:31.245747] Print every 5000 step\n",
      "Step = 0 loss = 389.626587 normalized loss line= -0.000000x+1.000000. There was 1 stop dings already.\n",
      "[2024-02-01 13:55:34.843923] No improvement in 100 steps\n",
      "Step = 139 loss = 363.974487 normalized loss line= 0.000014x+0.985185. There was 1 stop dings already.\n",
      "[2024-02-01 13:56:38.009521] Print every 5000 step\n",
      "Step = 5000 loss = 254.840408 normalized loss line= -0.000070x+1.014118. There was 2 stop dings already.\n",
      "[2024-02-01 13:57:43.115613] Print every 5000 step\n",
      "Step = 10000 loss = 172.440872 normalized loss line= -0.000055x+1.010856. There was 2 stop dings already.\n",
      "[2024-02-01 13:58:51.059042] Print every 5000 step\n",
      "Step = 15000 loss = 148.885696 normalized loss line= -0.000014x+1.002834. There was 2 stop dings already.\n",
      "[2024-02-01 13:59:58.290442] Print every 5000 step\n",
      "Step = 20000 loss = 143.162811 normalized loss line= -0.000004x+1.000789. There was 2 stop dings already.\n"
     ]
    }
   ],
   "source": [
    "pred_u_v_4 = epde_search_obj.predict(system=systems['4'], mode='mat', \n",
    "                                     boundary_conditions=[bop_1(), bop_2(), bop_3(), bop_4()],\n",
    "                                     grid = grids_test)"
   ]
  },
  {
   "cell_type": "code",
   "execution_count": 25,
   "id": "4c8d6d0a",
   "metadata": {},
   "outputs": [
    {
     "data": {
      "text/plain": [
       "(3321, 1)"
      ]
     },
     "execution_count": 25,
     "metadata": {},
     "output_type": "execute_result"
    }
   ],
   "source": [
    "pred_u_v_4.shape"
   ]
  },
  {
   "cell_type": "code",
   "execution_count": null,
   "id": "042d649c",
   "metadata": {},
   "outputs": [],
   "source": [
    "pred_u_v_4 = epde_search_obj.predict(system=systems['4'], boundary_conditions=[bop_1(), bop_2(), bop_3(), bop_4()], \n",
    "                                     grid = grids_test, mode='autograd')"
   ]
  },
  {
   "cell_type": "code",
   "execution_count": 26,
   "id": "d3f52374",
   "metadata": {},
   "outputs": [],
   "source": [
    "pred_u_v_4_sh = pred_u_v_4.reshape(grids_test[0].shape)"
   ]
  },
  {
   "cell_type": "code",
   "execution_count": 27,
   "id": "e6c5edcf",
   "metadata": {},
   "outputs": [
    {
     "data": {
      "image/png": "[encoded data removed]",
      "text/plain": [
       "<Figure size 640x480 with 1 Axes>"
      ]
     },
     "metadata": {},
     "output_type": "display_data"
    }
   ],
   "source": [
    "import matplotlib.pyplot as plt\n",
    "plt.plot(data_training[:-2, 30] - 2*data_training[1:-1, 30] + data_training[2:, 30])\n",
    "plt.show()"
   ]
  },
  {
   "cell_type": "code",
   "execution_count": 37,
   "id": "937b2c9d",
   "metadata": {},
   "outputs": [
    {
     "name": "stdout",
     "output_type": "stream",
     "text": [
      "(41, 81) (41, 81)\n",
      "0.02205541645507997\n"
     ]
    }
   ],
   "source": [
    "print(data_test.shape, pred_u_v_4_sh.shape)\n",
    "print(np.mean(np.abs((data_test - pred_u_v_4_sh))))"
   ]
  },
  {
   "cell_type": "code",
   "execution_count": 33,
   "id": "b9485f0b",
   "metadata": {},
   "outputs": [
    {
     "data": {
      "image/png": "[encoded data removed]",
      "text/plain": [
       "<Figure size 800x600 with 2 Axes>"
      ]
     },
     "metadata": {},
     "output_type": "display_data"
    }
   ],
   "source": [
    "Heatmap(pred_u_v_4_sh - data_test)"
   ]
  },
  {
   "cell_type": "code",
   "execution_count": 24,
   "id": "0636b07e",
   "metadata": {},
   "outputs": [
    {
     "data": {
      "text/plain": [
       "array([[0.    , 0.    , 0.    , ..., 0.    , 0.    , 0.    ],\n",
       "       [0.0125, 0.0125, 0.0125, ..., 0.0125, 0.0125, 0.0125],\n",
       "       [0.025 , 0.025 , 0.025 , ..., 0.025 , 0.025 , 0.025 ],\n",
       "       ...,\n",
       "       [0.975 , 0.975 , 0.975 , ..., 0.975 , 0.975 , 0.975 ],\n",
       "       [0.9875, 0.9875, 0.9875, ..., 0.9875, 0.9875, 0.9875],\n",
       "       [1.    , 1.    , 1.    , ..., 1.    , 1.    , 1.    ]])"
      ]
     },
     "execution_count": 24,
     "metadata": {},
     "output_type": "execute_result"
    }
   ],
   "source": [
    "grids[0]"
   ]
  },
  {
   "cell_type": "code",
   "execution_count": 25,
   "id": "73bb035e",
   "metadata": {},
   "outputs": [
    {
     "ename": "ValueError",
     "evalue": "cannot reshape array of size 3240 into shape (81,81)",
     "output_type": "error",
     "traceback": [
      "\u001b[0;31m---------------------------------------------------------------------------\u001b[0m",
      "\u001b[0;31mValueError\u001b[0m                                Traceback (most recent call last)",
      "\u001b[0;32m~/epde/EPDE_main/examples\u001b[0m in \u001b[0;36m<module>\u001b[0;34m\u001b[0m\n\u001b[0;32m----> 1\u001b[0;31m \u001b[0mpred_u_v_4\u001b[0m\u001b[0;34m.\u001b[0m\u001b[0mreshape\u001b[0m\u001b[0;34m(\u001b[0m\u001b[0mgrids\u001b[0m\u001b[0;34m[\u001b[0m\u001b[0;36m0\u001b[0m\u001b[0;34m]\u001b[0m\u001b[0;34m.\u001b[0m\u001b[0mshape\u001b[0m\u001b[0;34m)\u001b[0m\u001b[0;34m\u001b[0m\u001b[0;34m\u001b[0m\u001b[0m\n\u001b[0m",
      "\u001b[0;31mValueError\u001b[0m: cannot reshape array of size 3240 into shape (81,81)"
     ]
    }
   ],
   "source": [
    "pred_u_v_4.reshape(grids[0].shape)"
   ]
  },
  {
   "cell_type": "code",
   "execution_count": null,
   "id": "a4fa73b2",
   "metadata": {},
   "outputs": [],
   "source": [
    "from epde.interface.solver_integration import BoundaryConditions, SolverAdapter, SystemSolverInterface"
   ]
  },
  {
   "cell_type": "code",
   "execution_count": null,
   "id": "32be88d3",
   "metadata": {},
   "outputs": [],
   "source": [
    "adapter = SolverAdapter(var_number = len(systems['4'].vars_to_describe))"
   ]
  },
  {
   "cell_type": "code",
   "execution_count": null,
   "id": "b11adb26",
   "metadata": {},
   "outputs": [],
   "source": [
    "ssi = SystemSolverInterface(systems['4'])"
   ]
  },
  {
   "cell_type": "code",
   "execution_count": null,
   "id": "6b02429f",
   "metadata": {},
   "outputs": [],
   "source": [
    "ssi.form()"
   ]
  },
  {
   "cell_type": "code",
   "execution_count": 82,
   "id": "f9dc8bcc",
   "metadata": {},
   "outputs": [],
   "source": [
    "import epde.globals as global_var"
   ]
  },
  {
   "cell_type": "code",
   "execution_count": 84,
   "id": "972b5708",
   "metadata": {},
   "outputs": [
    {
     "data": {
      "text/plain": [
       "[array([[0.    , 0.    , 0.    , ..., 0.    , 0.    , 0.    ],\n",
       "        [0.0125, 0.0125, 0.0125, ..., 0.0125, 0.0125, 0.0125],\n",
       "        [0.025 , 0.025 , 0.025 , ..., 0.025 , 0.025 , 0.025 ],\n",
       "        ...,\n",
       "        [0.4625, 0.4625, 0.4625, ..., 0.4625, 0.4625, 0.4625],\n",
       "        [0.475 , 0.475 , 0.475 , ..., 0.475 , 0.475 , 0.475 ],\n",
       "        [0.4875, 0.4875, 0.4875, ..., 0.4875, 0.4875, 0.4875]]),\n",
       " array([[0.    , 0.0125, 0.025 , ..., 0.975 , 0.9875, 1.    ],\n",
       "        [0.    , 0.0125, 0.025 , ..., 0.975 , 0.9875, 1.    ],\n",
       "        [0.    , 0.0125, 0.025 , ..., 0.975 , 0.9875, 1.    ],\n",
       "        ...,\n",
       "        [0.    , 0.0125, 0.025 , ..., 0.975 , 0.9875, 1.    ],\n",
       "        [0.    , 0.0125, 0.025 , ..., 0.975 , 0.9875, 1.    ],\n",
       "        [0.    , 0.0125, 0.025 , ..., 0.975 , 0.9875, 1.    ]])]"
      ]
     },
     "execution_count": 84,
     "metadata": {},
     "output_type": "execute_result"
    }
   ],
   "source": [
    "global_var.grid_cache.get_all()[1]"
   ]
  },
  {
   "cell_type": "markdown",
   "id": "172f8f0b",
   "metadata": {},
   "source": [
    "Solver testing"
   ]
  },
  {
   "cell_type": "code",
   "execution_count": 26,
   "id": "97e46647",
   "metadata": {},
   "outputs": [],
   "source": [
    "import torch\n",
    "import numpy as np\n",
    "import matplotlib.pyplot as plt\n",
    "import scipy\n",
    "import time\n",
    "\n",
    "import pandas as pd\n",
    "from scipy.integrate import quad\n",
    "import sys\n",
    "import os\n",
    "\n",
    "os.environ['KMP_DUPLICATE_LIB_OK'] = 'TRUE'\n",
    "sys.path.append('../')\n",
    "sys.path.pop()\n",
    "sys.path.append(os.path.abspath(os.path.join(os.path.dirname( __file__ ), '..')))\n",
    "\n",
    "from epde.solver.input_preprocessing import Equation\n",
    "from epde.solver.solver import Solver\n",
    "from epde.solver.solution import Solution"
   ]
  },
  {
   "cell_type": "code",
   "execution_count": 34,
   "id": "d4d21fe4",
   "metadata": {},
   "outputs": [],
   "source": [
    "def solver_burgers(grid_res, cache, optimizer, iterations):\n",
    "    exp_dict_list = []\n",
    "    start = time.time()\n",
    "    mu = 0.01 / np.pi\n",
    "    x = torch.from_numpy(np.linspace(-1, 1, grid_res + 1))\n",
    "    t = torch.from_numpy(np.linspace(0, 1, grid_res + 1))\n",
    "    h = (x[1] - x[0]).item()\n",
    "    grid = torch.cartesian_prod(x, t).float()\n",
    "\n",
    "    ##initial cond\n",
    "    bnd1 = torch.cartesian_prod(x, torch.from_numpy(np.array([0], dtype=np.float64))).float()\n",
    "    bndval1 = -torch.sin(np.pi * bnd1[:, 0])\n",
    "\n",
    "    ##boundary cond\n",
    "    bnd2 = torch.cartesian_prod(torch.from_numpy(np.array([-1.], dtype=np.float64)), t).float()\n",
    "    bndval2 = torch.zeros_like(bnd2[:, 0])\n",
    "\n",
    "    ##boundary cond\n",
    "    bnd3 = torch.cartesian_prod(torch.from_numpy(np.array([1.], dtype=np.float64)), t).float()\n",
    "    bndval3 = torch.zeros_like(bnd3[:, 0])\n",
    "\n",
    "    bconds = [[bnd1, bndval1, 'dirichlet'],\n",
    "              [bnd2, bndval2, 'dirichlet'],\n",
    "              [bnd3, bndval3, 'dirichlet']]\n",
    "\n",
    "    burgers_eq = {\n",
    "        'du/dt**1':\n",
    "            {\n",
    "                'coeff': 1.,\n",
    "                'du/dt': [1],\n",
    "                'pow': 1,\n",
    "                'var': 0\n",
    "            },\n",
    "        '+u*du/dx':\n",
    "            {\n",
    "                'coeff': 1,\n",
    "                'u*du/dx': [[None], [0]],\n",
    "                'pow': [1, 1],\n",
    "                'var': [0, 0]\n",
    "            },\n",
    "        '-mu*d2u/dx2':\n",
    "            {\n",
    "                'coeff': -mu,\n",
    "                'd2u/dx2': [0, 0],\n",
    "                'pow': 1,\n",
    "                'var': 0\n",
    "            }\n",
    "    }\n",
    "\n",
    "    model = torch.nn.Sequential(\n",
    "        torch.nn.Linear(2, 20),\n",
    "        torch.nn.Tanh(),\n",
    "        torch.nn.Linear(20, 20),\n",
    "        torch.nn.Tanh(),\n",
    "        torch.nn.Linear(20, 20),\n",
    "        torch.nn.Tanh(),\n",
    "        torch.nn.Linear(20, 20),\n",
    "        torch.nn.Tanh(),\n",
    "        torch.nn.Linear(20, 1)\n",
    "    )\n",
    "\n",
    "    equation = Equation(grid, burgers_eq, bconds).set_mode('autograd')\n",
    "    if type(optimizer) is list:\n",
    "        for mode in optimizer:\n",
    "            print(f'Grid shape is {grid.shape}')\n",
    "            model = Solver(grid, equation, model, 'autograd').solve(lambda_bound=1, verbose=0, learning_rate=1e-3,\n",
    "                                                                      eps=1e-6, tmin=10, tmax=iterations,\n",
    "                                                                      use_cache=cache, cache_dir='../cache/',\n",
    "                                                                      patience=2,\n",
    "                                                                      save_always=cache, no_improvement_patience=100,\n",
    "                                                                      optimizer_mode=mode)\n",
    "    else:\n",
    "        print(f'Grid shape is {grid.shape}')\n",
    "        model = Solver(grid, equation, model, 'autograd').solve(lambda_bound=1, verbose=0, learning_rate=1e-3,\n",
    "                                                                  eps=1e-6, tmin=10, tmax=iterations, use_cache=cache,\n",
    "                                                                  cache_dir='../cache/', patience=2,\n",
    "                                                                  save_always=cache, no_improvement_patience=100,\n",
    "                                                                  optimizer_mode='Adam')\n",
    "    end = time.time()\n",
    "    time_part = end - start\n",
    "\n",
    "    x1 = torch.from_numpy(np.linspace(-1, 1, grid_res + 1))\n",
    "    t1 = torch.from_numpy(np.linspace(0, 1, grid_res + 1))\n",
    "    grid1 = torch.cartesian_prod(x1, t1).float()\n",
    "\n",
    "    u_exact = exact(grid1)\n",
    "    error_rmse = torch.sqrt(torch.mean((u_exact - model(grid1)) ** 2))\n",
    "    end_loss, _ = Solution(grid = grid, equal_cls = equation, model = model,\n",
    "                        mode = 'autograd', weak_form=None, lambda_operator=1, lambda_bound=1).evaluate()\n",
    "    exp_dict_list.append({'grid_res': grid_res, 'time': time_part, 'RMSE': error_rmse.detach().numpy(),\n",
    "                          'loss': end_loss.detach().numpy(), 'type': 'solver_burgers', 'cache': cache})\n",
    "\n",
    "    print('Time taken {}= {}'.format(grid_res, end - start))\n",
    "    print('RMSE {}= {}'.format(grid_res, error_rmse))\n",
    "    print('loss {}= {}'.format(grid_res, end_loss))\n",
    "\n",
    "    return exp_dict_list"
   ]
  },
  {
   "cell_type": "code",
   "execution_count": 35,
   "id": "4db32dc5",
   "metadata": {},
   "outputs": [
    {
     "name": "stdout",
     "output_type": "stream",
     "text": [
      "Grid shape is torch.Size([441, 2])\n",
      "before Model_prepare: torch.float32\n",
      "after Model_prepare: torch.float32\n",
      "Time taken 20= 11.31909990310669\n",
      "RMSE 20= 0.7666455618134793\n",
      "loss 20= tensor([0.0116], grad_fn=<AddBackward0>)\n"
     ]
    },
    {
     "data": {
      "text/plain": [
       "[{'grid_res': 20,\n",
       "  'time': 11.31909990310669,\n",
       "  'RMSE': array(0.76664556),\n",
       "  'loss': array([0.01157083], dtype=float32),\n",
       "  'type': 'solver_burgers',\n",
       "  'cache': False}]"
      ]
     },
     "execution_count": 35,
     "metadata": {},
     "output_type": "execute_result"
    }
   ],
   "source": [
    "def exact(grid):\n",
    "    mu = 0.01 / np.pi\n",
    "\n",
    "    def f(y):\n",
    "        return np.exp(-np.cos(np.pi * y) / (2 * np.pi * mu))\n",
    "\n",
    "    def integrand1(m, x, t):\n",
    "        return np.sin(np.pi * (x - m)) * f(x - m) * np.exp(-m ** 2 / (4 * mu * t))\n",
    "\n",
    "    def integrand2(m, x, t):\n",
    "        return f(x - m) * np.exp(-m ** 2 / (4 * mu * t))\n",
    "\n",
    "    def u(x, t):\n",
    "        if t == 0:\n",
    "            return -np.sin(np.pi * x)\n",
    "        else:\n",
    "            return -quad(integrand1, -np.inf, np.inf, args=(x, t))[0] / quad(integrand2, -np.inf, np.inf, args=(x, t))[\n",
    "                0]\n",
    "\n",
    "    solution = []\n",
    "    for point in grid:\n",
    "        solution.append(u(point[0].item(), point[1].item()))\n",
    "\n",
    "    return torch.tensor(solution)\n",
    "\n",
    "solver_burgers(20, False, 'Adam', 2000)"
   ]
  },
  {
   "cell_type": "code",
   "execution_count": null,
   "id": "7886f8e6",
   "metadata": {},
   "outputs": [],
   "source": []
  }
 ],
 "metadata": {
  "kernelspec": {
   "display_name": "Python 3",
   "language": "python",
   "name": "python3"
  },
  "language_info": {
   "codemirror_mode": {
    "name": "ipython",
    "version": 3
   },
   "file_extension": ".py",
   "mimetype": "text/x-python",
   "name": "python",
   "nbconvert_exporter": "python",
   "pygments_lexer": "ipython3",
   "version": "3.8.8"
  }
 },
 "nbformat": 4,
 "nbformat_minor": 5
}
