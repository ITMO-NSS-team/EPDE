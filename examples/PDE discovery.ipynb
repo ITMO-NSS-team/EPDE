{
 "cells": [
  {
   "cell_type": "code",
   "execution_count": 1,
   "id": "427e4684",
   "metadata": {},
   "outputs": [],
   "source": [
    "import numpy as np\n",
    "import torch\n",
    "\n",
    "import sys\n",
    "import os\n",
    "__file__ = os.path.abspath('')\n",
    "\n",
    "import helpers\n",
    "\n",
    "sys.path.append('..')\n",
    "\n",
    "\n",
    "import epde\n",
    "from epde.preprocessing.deriv_calculators import Heatmap"
   ]
  },
  {
   "cell_type": "code",
   "execution_count": 2,
   "id": "1db0b26a",
   "metadata": {},
   "outputs": [],
   "source": [
    "def get_wave_inputs():\n",
    "    shape = 80\n",
    "    \n",
    "    print(os.path.dirname( __file__ ))\n",
    "    data_file = os.path.join(os.path.dirname( __file__ ), f'examples/data/wave_sln_{shape}.csv')\n",
    "    data = np.loadtxt(data_file, delimiter = ',').T\n",
    "    t = np.linspace(0, 1, shape+1); x = np.linspace(0, 1, shape+1)\n",
    "    grids = np.meshgrid(t, x, indexing = 'ij')\n",
    "    return grids, data"
   ]
  },
  {
   "cell_type": "code",
   "execution_count": 3,
   "id": "d520e5a5",
   "metadata": {},
   "outputs": [
    {
     "name": "stdout",
     "output_type": "stream",
     "text": [
      "/home/maslyaev/epde/EPDE_main\n"
     ]
    }
   ],
   "source": [
    "grids, data = get_wave_inputs()"
   ]
  },
  {
   "cell_type": "code",
   "execution_count": 4,
   "id": "7d8d3ac9",
   "metadata": {},
   "outputs": [],
   "source": [
    "train_max = 40\n",
    "grids_training = (grids[0][:train_max, ...], grids[1][:train_max, ...])\n",
    "grids_test = (grids[0][train_max:, ...], grids[1][train_max:, ...])\n",
    "\n",
    "data_training, data_test = data[:train_max, ...], data[train_max:, ...]"
   ]
  },
  {
   "cell_type": "code",
   "execution_count": 5,
   "id": "846f8788",
   "metadata": {},
   "outputs": [
    {
     "data": {
      "text/plain": [
       "(41, 81)"
      ]
     },
     "execution_count": 5,
     "metadata": {},
     "output_type": "execute_result"
    }
   ],
   "source": [
    "grids_test[0].shape"
   ]
  },
  {
   "cell_type": "code",
   "execution_count": 6,
   "id": "ff42165b",
   "metadata": {},
   "outputs": [],
   "source": [
    "def epde_discovery(grids, data, derivs, use_ann = False, multiobjective_mode = True):\n",
    "    dimensionality = data.ndim - 1\n",
    "    \n",
    "    epde_search_obj = epde.EpdeSearch(multiobjective_mode=multiobjective_mode, use_solver = False, \n",
    "                                          dimensionality = dimensionality, boundary = 10,\n",
    "                                          coordinate_tensors = grids)    \n",
    "\n",
    "    popsize = 12\n",
    "    if multiobjective_mode:\n",
    "        epde_search_obj.set_moeadd_params(population_size = popsize, \n",
    "                                          training_epochs=40)\n",
    "    else:\n",
    "        epde_search_obj.set_singleobjective_params(population_size = popsize, \n",
    "                                                   training_epochs=40)\n",
    "    \n",
    "    custom_grid_tokens = epde.CacheStoredTokens(token_type = 'grid',\n",
    "                                                token_labels = ['t', 'x'],\n",
    "                                                token_tensors={'t' : grids[0], 'x' : grids[1]},\n",
    "                                                params_ranges = {'power' : (1, 1)},\n",
    "                                                params_equality_ranges = None)        \n",
    "    trig_tokens = epde.TrigonometricTokens(dimensionality = dimensionality)\n",
    "    \n",
    "    factors_max_number = {'factors_num' : [1, 2], 'probas' : [0.8, 0.2]}\n",
    "    \n",
    "    opt_val = 1e0\n",
    "    bounds = (1e-8, 1e0) if multiobjective_mode else (opt_val, opt_val)    \n",
    "    epde_search_obj.fit(data=data, variable_names=['u',], max_deriv_order=(2, 2),\n",
    "                        equation_terms_max_number=5, data_fun_pow = 1, additional_tokens=[trig_tokens, custom_grid_tokens], \n",
    "                        equation_factors_max_number=factors_max_number,\n",
    "                        eq_sparsity_interval=bounds)\n",
    "\n",
    "    return epde_search_obj"
   ]
  },
  {
   "cell_type": "code",
   "execution_count": 7,
   "id": "5d59ad61",
   "metadata": {},
   "outputs": [
    {
     "name": "stdout",
     "output_type": "stream",
     "text": [
      "setting builder with <epde.optimizers.builder.StrategyBuilder object at 0x7f6606b3b580>\n",
      "setting builder with <epde.optimizers.builder.StrategyBuilder object at 0x7f6606b3b730>\n",
      "setting builder with <epde.optimizers.builder.StrategyBuilder object at 0x7f6606b3b730>\n",
      "trig_token_params: VALUES = (0, 1)\n",
      "Deriv orders after definition [[None], [0], [0, 0], [1], [1, 1]]\n",
      "3240\n",
      "initial_shape (40, 81) derivs_tensor.shape (3240, 4)\n",
      "self.tokens is ['u', 'du/dx0', 'd^2u/dx0^2', 'du/dx1', 'd^2u/dx1^2']\n",
      "Here, derivs order is {'u': [None], 'du/dx0': [0], 'd^2u/dx0^2': [0, 0], 'du/dx1': [1], 'd^2u/dx1^2': [1, 1]}\n",
      "The cardinality of defined token pool is [5 2 2]\n",
      "Among them, the pool contains [5]\n",
      "Creating new equation, sparsity value 1.0\n",
      "New solution accepted, confirmed 1/12 solutions.\n",
      "Creating new equation, sparsity value 1.0\n",
      "New solution accepted, confirmed 2/12 solutions.\n",
      "Creating new equation, sparsity value 1.0\n",
      "New solution accepted, confirmed 3/12 solutions.\n",
      "Creating new equation, sparsity value 1.0\n",
      "New solution accepted, confirmed 4/12 solutions.\n",
      "Creating new equation, sparsity value 1.0\n",
      "New solution accepted, confirmed 5/12 solutions.\n",
      "Creating new equation, sparsity value 1.0\n",
      "New solution accepted, confirmed 6/12 solutions.\n",
      "Creating new equation, sparsity value 1.0\n",
      "New solution accepted, confirmed 7/12 solutions.\n",
      "Creating new equation, sparsity value 1.0\n",
      "New solution accepted, confirmed 8/12 solutions.\n",
      "Creating new equation, sparsity value 1.0\n",
      "New solution accepted, confirmed 9/12 solutions.\n",
      "Creating new equation, sparsity value 1.0\n",
      "New solution accepted, confirmed 10/12 solutions.\n",
      "Creating new equation, sparsity value 1.0\n",
      "New solution accepted, confirmed 11/12 solutions.\n",
      "Creating new equation, sparsity value 1.0\n",
      "New solution accepted, confirmed 12/12 solutions.\n",
      "The optimization has been conducted.\n"
     ]
    }
   ],
   "source": [
    "epde_search_obj = epde_discovery(grids_training, data_training, derivs = None,\n",
    "                                 multiobjective_mode = False)"
   ]
  },
  {
   "cell_type": "code",
   "execution_count": 8,
   "id": "7d8c292f",
   "metadata": {},
   "outputs": [
    {
     "name": "stdout",
     "output_type": "stream",
     "text": [
      "0.0 * d^2u/dx0^2{power: 1.0} + 0.0 * du/dx0{power: 1.0} + 0.0 * d^2u/dx1^2{power: 1.0} + 0.0 * d^2u/dx0^2{power: 1.0} * u{power: 1.0} + 0.0 = du/dx0{power: 1.0} * cos{power: 1.0, freq: 5.491603194235694, dim: 0.0}\n",
      "{'terms_number': {'optimizable': False, 'value': 5}, 'max_factors_in_term': {'optimizable': False, 'value': {'factors_num': [1, 2], 'probas': [0.8, 0.2]}}, ('sparsity', 'u'): {'optimizable': False, 'value': 1.0}} , with objective function values of [13.89000953] \n",
      "\n"
     ]
    }
   ],
   "source": [
    "epde_search_obj.equations()"
   ]
  },
  {
   "cell_type": "code",
   "execution_count": 9,
   "id": "b4485b24",
   "metadata": {},
   "outputs": [
    {
     "name": "stdout",
     "output_type": "stream",
     "text": [
      "setting builder with <epde.optimizers.builder.StrategyBuilder object at 0x7f66ad586070>\n",
      "setting builder with <epde.optimizers.builder.StrategyBuilder object at 0x7f66ad586070>\n",
      "trig_token_params: VALUES = (0, 1)\n",
      "Deriv orders after definition [[None], [0], [0, 0], [1], [1, 1]]\n",
      "3240\n",
      "initial_shape (40, 81) derivs_tensor.shape (3240, 4)\n",
      "self.tokens is ['u', 'du/dx0', 'd^2u/dx0^2', 'du/dx1', 'd^2u/dx1^2']\n",
      "Here, derivs order is {'u': [None], 'du/dx0': [0], 'd^2u/dx0^2': [0, 0], 'du/dx1': [1], 'd^2u/dx1^2': [1, 1]}\n",
      "The cardinality of defined token pool is [5 2 2]\n",
      "Among them, the pool contains [5]\n",
      "Creating new equation, sparsity value [0.02333562]\n",
      "New solution accepted, confirmed 1/12 solutions.\n",
      "Creating new equation, sparsity value [1.67842546e-05]\n",
      "New solution accepted, confirmed 2/12 solutions.\n",
      "Creating new equation, sparsity value [4.36096477e-06]\n",
      "New solution accepted, confirmed 3/12 solutions.\n",
      "Creating new equation, sparsity value [0.44239294]\n",
      "New solution accepted, confirmed 4/12 solutions.\n",
      "Creating new equation, sparsity value [6.54854046e-08]\n",
      "New solution accepted, confirmed 5/12 solutions.\n",
      "Creating new equation, sparsity value [0.20654622]\n",
      "Creating new equation, sparsity value [5.38476861e-07]\n",
      "New solution accepted, confirmed 6/12 solutions.\n",
      "Creating new equation, sparsity value [0.01019652]\n",
      "New solution accepted, confirmed 7/12 solutions.\n",
      "Creating new equation, sparsity value [0.00068044]\n",
      "New solution accepted, confirmed 8/12 solutions.\n",
      "Creating new equation, sparsity value [5.29408836e-08]\n",
      "New solution accepted, confirmed 9/12 solutions.\n",
      "Creating new equation, sparsity value [0.05291841]\n",
      "New solution accepted, confirmed 10/12 solutions.\n",
      "Creating new equation, sparsity value [0.02868924]\n",
      "New solution accepted, confirmed 11/12 solutions.\n",
      "Creating new equation, sparsity value [2.34159263e-08]\n",
      "Creating new equation, sparsity value [1.79544215e-07]\n",
      "New solution accepted, confirmed 12/12 solutions.\n",
      "[0.22, 0.78] [[0.06, 0.94], [0.96, 0.040000000000000036], [0.28, 0.72], [0.22, 0.78]]\n",
      "[0.06, 0.94] [[0.06, 0.94], [0.96, 0.040000000000000036], [0.28, 0.72], [0.22, 0.78], [0.36, 0.64]]\n",
      "[0.12, 0.88] [[0.06, 0.94], [0.96, 0.040000000000000036], [0.28, 0.72], [0.22, 0.78], [0.36, 0.64], [0.02, 0.98], [0.12, 0.88], [0.14, 0.86], [0.92, 0.07999999999999996]]\n",
      "[0.36, 0.64] [[0.06, 0.94], [0.96, 0.040000000000000036], [0.28, 0.72], [0.22, 0.78], [0.36, 0.64], [0.02, 0.98], [0.12, 0.88], [0.14, 0.86], [0.92, 0.07999999999999996], [0.88, 0.12]]\n",
      "[0.06, 0.94] [[0.06, 0.94], [0.96, 0.040000000000000036], [0.28, 0.72], [0.22, 0.78], [0.36, 0.64], [0.02, 0.98], [0.12, 0.88], [0.14, 0.86], [0.92, 0.07999999999999996], [0.88, 0.12], [0.44, 0.56]]\n",
      "[0.88, 0.12] [[0.06, 0.94], [0.96, 0.040000000000000036], [0.28, 0.72], [0.22, 0.78], [0.36, 0.64], [0.02, 0.98], [0.12, 0.88], [0.14, 0.86], [0.92, 0.07999999999999996], [0.88, 0.12], [0.44, 0.56]]\n",
      "[0.06, 0.94] [[0.06, 0.94], [0.96, 0.040000000000000036], [0.28, 0.72], [0.22, 0.78], [0.36, 0.64], [0.02, 0.98], [0.12, 0.88], [0.14, 0.86], [0.92, 0.07999999999999996], [0.88, 0.12], [0.44, 0.56]]\n",
      "best_obj 2\n",
      "Multiobjective optimization : 0-th epoch.\n",
      "During MO : processing 0-th weight.\n",
      "During MO : processing 1-th weight.\n",
      "During MO : processing 2-th weight.\n",
      "During MO : processing 3-th weight.\n",
      "During MO : processing 4-th weight.\n",
      "During MO : processing 5-th weight.\n",
      "During MO : processing 6-th weight.\n",
      "During MO : processing 7-th weight.\n",
      "During MO : processing 8-th weight.\n",
      "During MO : processing 9-th weight.\n",
      "During MO : processing 10-th weight.\n",
      "During MO : processing 11-th weight.\n",
      "Multiobjective optimization : 1-th epoch.\n",
      "During MO : processing 0-th weight.\n",
      "During MO : processing 1-th weight.\n",
      "During MO : processing 2-th weight.\n",
      "During MO : processing 3-th weight.\n",
      "During MO : processing 4-th weight.\n",
      "During MO : processing 5-th weight.\n",
      "During MO : processing 6-th weight.\n",
      "During MO : processing 7-th weight.\n",
      "During MO : processing 8-th weight.\n",
      "During MO : processing 9-th weight.\n",
      "During MO : processing 10-th weight.\n",
      "During MO : processing 11-th weight.\n",
      "Multiobjective optimization : 2-th epoch.\n",
      "During MO : processing 0-th weight.\n",
      "During MO : processing 1-th weight.\n",
      "During MO : processing 2-th weight.\n",
      "During MO : processing 3-th weight.\n",
      "During MO : processing 4-th weight.\n",
      "During MO : processing 5-th weight.\n",
      "During MO : processing 6-th weight.\n",
      "During MO : processing 7-th weight.\n",
      "During MO : processing 8-th weight.\n",
      "During MO : processing 9-th weight.\n",
      "During MO : processing 10-th weight.\n",
      "During MO : processing 11-th weight.\n",
      "Multiobjective optimization : 3-th epoch.\n",
      "During MO : processing 0-th weight.\n",
      "During MO : processing 1-th weight.\n",
      "During MO : processing 2-th weight.\n",
      "During MO : processing 3-th weight.\n",
      "During MO : processing 4-th weight.\n",
      "During MO : processing 5-th weight.\n",
      "During MO : processing 6-th weight.\n",
      "During MO : processing 7-th weight.\n",
      "During MO : processing 8-th weight.\n",
      "During MO : processing 9-th weight.\n",
      "During MO : processing 10-th weight.\n",
      "During MO : processing 11-th weight.\n",
      "Multiobjective optimization : 4-th epoch.\n",
      "During MO : processing 0-th weight.\n",
      "During MO : processing 1-th weight.\n",
      "During MO : processing 2-th weight.\n",
      "During MO : processing 3-th weight.\n",
      "During MO : processing 4-th weight.\n",
      "During MO : processing 5-th weight.\n",
      "During MO : processing 6-th weight.\n",
      "During MO : processing 7-th weight.\n",
      "During MO : processing 8-th weight.\n",
      "During MO : processing 9-th weight.\n",
      "During MO : processing 10-th weight.\n",
      "During MO : processing 11-th weight.\n",
      "Multiobjective optimization : 5-th epoch.\n",
      "During MO : processing 0-th weight.\n",
      "During MO : processing 1-th weight.\n",
      "During MO : processing 2-th weight.\n",
      "During MO : processing 3-th weight.\n",
      "During MO : processing 4-th weight.\n",
      "During MO : processing 5-th weight.\n",
      "During MO : processing 6-th weight.\n",
      "During MO : processing 7-th weight.\n",
      "During MO : processing 8-th weight.\n",
      "During MO : processing 9-th weight.\n",
      "During MO : processing 10-th weight.\n",
      "During MO : processing 11-th weight.\n",
      "Multiobjective optimization : 6-th epoch.\n",
      "During MO : processing 0-th weight.\n",
      "During MO : processing 1-th weight.\n",
      "During MO : processing 2-th weight.\n",
      "During MO : processing 3-th weight.\n",
      "During MO : processing 4-th weight.\n",
      "During MO : processing 5-th weight.\n",
      "During MO : processing 6-th weight.\n",
      "During MO : processing 7-th weight.\n",
      "During MO : processing 8-th weight.\n",
      "During MO : processing 9-th weight.\n",
      "During MO : processing 10-th weight.\n",
      "During MO : processing 11-th weight.\n",
      "Multiobjective optimization : 7-th epoch.\n",
      "During MO : processing 0-th weight.\n",
      "During MO : processing 1-th weight.\n",
      "During MO : processing 2-th weight.\n",
      "During MO : processing 3-th weight.\n",
      "During MO : processing 4-th weight.\n",
      "During MO : processing 5-th weight.\n",
      "During MO : processing 6-th weight.\n",
      "During MO : processing 7-th weight.\n",
      "During MO : processing 8-th weight.\n",
      "During MO : processing 9-th weight.\n",
      "During MO : processing 10-th weight.\n",
      "During MO : processing 11-th weight.\n",
      "Multiobjective optimization : 8-th epoch.\n",
      "During MO : processing 0-th weight.\n",
      "During MO : processing 1-th weight.\n",
      "During MO : processing 2-th weight.\n",
      "During MO : processing 3-th weight.\n",
      "During MO : processing 4-th weight.\n",
      "During MO : processing 5-th weight.\n",
      "During MO : processing 6-th weight.\n",
      "During MO : processing 7-th weight.\n",
      "During MO : processing 8-th weight.\n",
      "During MO : processing 9-th weight.\n",
      "During MO : processing 10-th weight.\n",
      "During MO : processing 11-th weight.\n",
      "Multiobjective optimization : 9-th epoch.\n",
      "During MO : processing 0-th weight.\n",
      "During MO : processing 1-th weight.\n",
      "During MO : processing 2-th weight.\n",
      "During MO : processing 3-th weight.\n",
      "During MO : processing 4-th weight.\n",
      "During MO : processing 5-th weight.\n",
      "During MO : processing 6-th weight.\n",
      "During MO : processing 7-th weight.\n",
      "During MO : processing 8-th weight.\n",
      "During MO : processing 9-th weight.\n",
      "During MO : processing 10-th weight.\n",
      "During MO : processing 11-th weight.\n",
      "Multiobjective optimization : 10-th epoch.\n",
      "During MO : processing 0-th weight.\n",
      "During MO : processing 1-th weight.\n",
      "During MO : processing 2-th weight.\n",
      "During MO : processing 3-th weight.\n",
      "During MO : processing 4-th weight.\n",
      "During MO : processing 5-th weight.\n",
      "During MO : processing 6-th weight.\n",
      "During MO : processing 7-th weight.\n",
      "During MO : processing 8-th weight.\n"
     ]
    },
    {
     "name": "stdout",
     "output_type": "stream",
     "text": [
      "During MO : processing 9-th weight.\n",
      "During MO : processing 10-th weight.\n",
      "During MO : processing 11-th weight.\n",
      "Multiobjective optimization : 11-th epoch.\n",
      "During MO : processing 0-th weight.\n",
      "During MO : processing 1-th weight.\n",
      "During MO : processing 2-th weight.\n",
      "During MO : processing 3-th weight.\n",
      "During MO : processing 4-th weight.\n",
      "During MO : processing 5-th weight.\n",
      "During MO : processing 6-th weight.\n",
      "During MO : processing 7-th weight.\n",
      "During MO : processing 8-th weight.\n",
      "During MO : processing 9-th weight.\n",
      "During MO : processing 10-th weight.\n",
      "During MO : processing 11-th weight.\n",
      "Multiobjective optimization : 12-th epoch.\n",
      "During MO : processing 0-th weight.\n",
      "During MO : processing 1-th weight.\n",
      "During MO : processing 2-th weight.\n",
      "During MO : processing 3-th weight.\n",
      "During MO : processing 4-th weight.\n",
      "During MO : processing 5-th weight.\n",
      "During MO : processing 6-th weight.\n",
      "During MO : processing 7-th weight.\n",
      "During MO : processing 8-th weight.\n",
      "During MO : processing 9-th weight.\n",
      "During MO : processing 10-th weight.\n",
      "During MO : processing 11-th weight.\n",
      "Multiobjective optimization : 13-th epoch.\n",
      "During MO : processing 0-th weight.\n",
      "During MO : processing 1-th weight.\n",
      "During MO : processing 2-th weight.\n",
      "During MO : processing 3-th weight.\n",
      "During MO : processing 4-th weight.\n",
      "During MO : processing 5-th weight.\n",
      "During MO : processing 6-th weight.\n",
      "During MO : processing 7-th weight.\n",
      "During MO : processing 8-th weight.\n",
      "During MO : processing 9-th weight.\n",
      "During MO : processing 10-th weight.\n",
      "During MO : processing 11-th weight.\n",
      "Multiobjective optimization : 14-th epoch.\n",
      "During MO : processing 0-th weight.\n",
      "During MO : processing 1-th weight.\n",
      "During MO : processing 2-th weight.\n",
      "During MO : processing 3-th weight.\n",
      "During MO : processing 4-th weight.\n",
      "During MO : processing 5-th weight.\n",
      "During MO : processing 6-th weight.\n",
      "During MO : processing 7-th weight.\n",
      "During MO : processing 8-th weight.\n",
      "During MO : processing 9-th weight.\n",
      "During MO : processing 10-th weight.\n",
      "During MO : processing 11-th weight.\n",
      "Multiobjective optimization : 15-th epoch.\n",
      "During MO : processing 0-th weight.\n",
      "During MO : processing 1-th weight.\n",
      "During MO : processing 2-th weight.\n",
      "During MO : processing 3-th weight.\n",
      "During MO : processing 4-th weight.\n",
      "During MO : processing 5-th weight.\n",
      "During MO : processing 6-th weight.\n",
      "During MO : processing 7-th weight.\n",
      "During MO : processing 8-th weight.\n",
      "During MO : processing 9-th weight.\n",
      "During MO : processing 10-th weight.\n",
      "During MO : processing 11-th weight.\n",
      "Multiobjective optimization : 16-th epoch.\n",
      "During MO : processing 0-th weight.\n",
      "During MO : processing 1-th weight.\n",
      "During MO : processing 2-th weight.\n",
      "During MO : processing 3-th weight.\n",
      "During MO : processing 4-th weight.\n",
      "During MO : processing 5-th weight.\n",
      "During MO : processing 6-th weight.\n",
      "During MO : processing 7-th weight.\n",
      "During MO : processing 8-th weight.\n",
      "During MO : processing 9-th weight.\n",
      "During MO : processing 10-th weight.\n",
      "During MO : processing 11-th weight.\n",
      "Multiobjective optimization : 17-th epoch.\n",
      "During MO : processing 0-th weight.\n",
      "During MO : processing 1-th weight.\n",
      "During MO : processing 2-th weight.\n",
      "During MO : processing 3-th weight.\n",
      "During MO : processing 4-th weight.\n",
      "During MO : processing 5-th weight.\n",
      "During MO : processing 6-th weight.\n",
      "During MO : processing 7-th weight.\n",
      "During MO : processing 8-th weight.\n",
      "During MO : processing 9-th weight.\n",
      "During MO : processing 10-th weight.\n",
      "During MO : processing 11-th weight.\n",
      "Multiobjective optimization : 18-th epoch.\n",
      "During MO : processing 0-th weight.\n",
      "During MO : processing 1-th weight.\n",
      "During MO : processing 2-th weight.\n",
      "During MO : processing 3-th weight.\n",
      "During MO : processing 4-th weight.\n",
      "During MO : processing 5-th weight.\n",
      "During MO : processing 6-th weight.\n",
      "During MO : processing 7-th weight.\n",
      "During MO : processing 8-th weight.\n",
      "During MO : processing 9-th weight.\n",
      "During MO : processing 10-th weight.\n",
      "During MO : processing 11-th weight.\n",
      "Multiobjective optimization : 19-th epoch.\n",
      "During MO : processing 0-th weight.\n",
      "During MO : processing 1-th weight.\n",
      "During MO : processing 2-th weight.\n",
      "During MO : processing 3-th weight.\n",
      "During MO : processing 4-th weight.\n",
      "During MO : processing 5-th weight.\n",
      "During MO : processing 6-th weight.\n",
      "During MO : processing 7-th weight.\n",
      "During MO : processing 8-th weight.\n",
      "During MO : processing 9-th weight.\n",
      "During MO : processing 10-th weight.\n",
      "During MO : processing 11-th weight.\n",
      "Multiobjective optimization : 20-th epoch.\n",
      "During MO : processing 0-th weight.\n",
      "During MO : processing 1-th weight.\n",
      "During MO : processing 2-th weight.\n",
      "During MO : processing 3-th weight.\n",
      "During MO : processing 4-th weight.\n",
      "During MO : processing 5-th weight.\n",
      "During MO : processing 6-th weight.\n",
      "During MO : processing 7-th weight.\n",
      "During MO : processing 8-th weight.\n",
      "During MO : processing 9-th weight.\n",
      "During MO : processing 10-th weight.\n",
      "During MO : processing 11-th weight.\n",
      "Multiobjective optimization : 21-th epoch.\n",
      "During MO : processing 0-th weight.\n",
      "During MO : processing 1-th weight.\n",
      "During MO : processing 2-th weight.\n",
      "During MO : processing 3-th weight.\n",
      "During MO : processing 4-th weight.\n",
      "During MO : processing 5-th weight.\n",
      "During MO : processing 6-th weight.\n",
      "During MO : processing 7-th weight.\n",
      "During MO : processing 8-th weight.\n",
      "During MO : processing 9-th weight.\n",
      "During MO : processing 10-th weight.\n",
      "During MO : processing 11-th weight.\n",
      "Multiobjective optimization : 22-th epoch.\n",
      "During MO : processing 0-th weight.\n",
      "During MO : processing 1-th weight.\n",
      "During MO : processing 2-th weight.\n",
      "During MO : processing 3-th weight.\n",
      "During MO : processing 4-th weight.\n",
      "During MO : processing 5-th weight.\n",
      "During MO : processing 6-th weight.\n",
      "During MO : processing 7-th weight.\n",
      "During MO : processing 8-th weight.\n",
      "During MO : processing 9-th weight.\n",
      "During MO : processing 10-th weight.\n",
      "During MO : processing 11-th weight.\n",
      "Multiobjective optimization : 23-th epoch.\n",
      "During MO : processing 0-th weight.\n",
      "During MO : processing 1-th weight.\n",
      "During MO : processing 2-th weight.\n",
      "During MO : processing 3-th weight.\n",
      "During MO : processing 4-th weight.\n",
      "During MO : processing 5-th weight.\n",
      "During MO : processing 6-th weight.\n",
      "During MO : processing 7-th weight.\n",
      "During MO : processing 8-th weight.\n",
      "During MO : processing 9-th weight.\n",
      "During MO : processing 10-th weight.\n",
      "During MO : processing 11-th weight.\n",
      "Multiobjective optimization : 24-th epoch.\n",
      "During MO : processing 0-th weight.\n",
      "During MO : processing 1-th weight.\n",
      "During MO : processing 2-th weight.\n",
      "During MO : processing 3-th weight.\n",
      "During MO : processing 4-th weight.\n",
      "During MO : processing 5-th weight.\n",
      "During MO : processing 6-th weight.\n",
      "During MO : processing 7-th weight.\n",
      "During MO : processing 8-th weight.\n",
      "During MO : processing 9-th weight.\n",
      "During MO : processing 10-th weight.\n",
      "During MO : processing 11-th weight.\n",
      "Multiobjective optimization : 25-th epoch.\n",
      "During MO : processing 0-th weight.\n",
      "During MO : processing 1-th weight.\n",
      "During MO : processing 2-th weight.\n",
      "During MO : processing 3-th weight.\n",
      "During MO : processing 4-th weight.\n",
      "During MO : processing 5-th weight.\n",
      "During MO : processing 6-th weight.\n",
      "During MO : processing 7-th weight.\n",
      "During MO : processing 8-th weight.\n",
      "During MO : processing 9-th weight.\n",
      "During MO : processing 10-th weight.\n",
      "During MO : processing 11-th weight.\n",
      "Multiobjective optimization : 26-th epoch.\n",
      "During MO : processing 0-th weight.\n",
      "During MO : processing 1-th weight.\n",
      "During MO : processing 2-th weight.\n",
      "During MO : processing 3-th weight.\n",
      "During MO : processing 4-th weight.\n",
      "During MO : processing 5-th weight.\n",
      "During MO : processing 6-th weight.\n",
      "During MO : processing 7-th weight.\n",
      "During MO : processing 8-th weight.\n",
      "During MO : processing 9-th weight.\n",
      "During MO : processing 10-th weight.\n",
      "During MO : processing 11-th weight.\n",
      "Multiobjective optimization : 27-th epoch.\n",
      "During MO : processing 0-th weight.\n",
      "During MO : processing 1-th weight.\n",
      "During MO : processing 2-th weight.\n",
      "During MO : processing 3-th weight.\n",
      "During MO : processing 4-th weight.\n",
      "During MO : processing 5-th weight.\n",
      "During MO : processing 6-th weight.\n",
      "During MO : processing 7-th weight.\n",
      "During MO : processing 8-th weight.\n",
      "During MO : processing 9-th weight.\n",
      "During MO : processing 10-th weight.\n",
      "During MO : processing 11-th weight.\n"
     ]
    },
    {
     "name": "stdout",
     "output_type": "stream",
     "text": [
      "Multiobjective optimization : 28-th epoch.\n",
      "During MO : processing 0-th weight.\n",
      "During MO : processing 1-th weight.\n",
      "During MO : processing 2-th weight.\n",
      "During MO : processing 3-th weight.\n",
      "During MO : processing 4-th weight.\n",
      "During MO : processing 5-th weight.\n",
      "During MO : processing 6-th weight.\n",
      "During MO : processing 7-th weight.\n",
      "During MO : processing 8-th weight.\n",
      "During MO : processing 9-th weight.\n",
      "During MO : processing 10-th weight.\n",
      "During MO : processing 11-th weight.\n",
      "Multiobjective optimization : 29-th epoch.\n",
      "During MO : processing 0-th weight.\n",
      "During MO : processing 1-th weight.\n",
      "During MO : processing 2-th weight.\n",
      "During MO : processing 3-th weight.\n",
      "During MO : processing 4-th weight.\n",
      "During MO : processing 5-th weight.\n",
      "During MO : processing 6-th weight.\n",
      "During MO : processing 7-th weight.\n",
      "During MO : processing 8-th weight.\n",
      "During MO : processing 9-th weight.\n",
      "During MO : processing 10-th weight.\n",
      "During MO : processing 11-th weight.\n",
      "Multiobjective optimization : 30-th epoch.\n",
      "During MO : processing 0-th weight.\n",
      "During MO : processing 1-th weight.\n",
      "During MO : processing 2-th weight.\n",
      "During MO : processing 3-th weight.\n",
      "During MO : processing 4-th weight.\n",
      "During MO : processing 5-th weight.\n",
      "During MO : processing 6-th weight.\n",
      "During MO : processing 7-th weight.\n",
      "During MO : processing 8-th weight.\n",
      "During MO : processing 9-th weight.\n",
      "During MO : processing 10-th weight.\n",
      "During MO : processing 11-th weight.\n",
      "Multiobjective optimization : 31-th epoch.\n",
      "During MO : processing 0-th weight.\n",
      "During MO : processing 1-th weight.\n",
      "During MO : processing 2-th weight.\n",
      "During MO : processing 3-th weight.\n",
      "During MO : processing 4-th weight.\n",
      "During MO : processing 5-th weight.\n",
      "During MO : processing 6-th weight.\n",
      "During MO : processing 7-th weight.\n",
      "During MO : processing 8-th weight.\n",
      "During MO : processing 9-th weight.\n",
      "During MO : processing 10-th weight.\n",
      "During MO : processing 11-th weight.\n",
      "Multiobjective optimization : 32-th epoch.\n",
      "During MO : processing 0-th weight.\n",
      "During MO : processing 1-th weight.\n",
      "During MO : processing 2-th weight.\n",
      "During MO : processing 3-th weight.\n",
      "During MO : processing 4-th weight.\n",
      "During MO : processing 5-th weight.\n",
      "During MO : processing 6-th weight.\n",
      "During MO : processing 7-th weight.\n",
      "During MO : processing 8-th weight.\n",
      "During MO : processing 9-th weight.\n",
      "During MO : processing 10-th weight.\n",
      "During MO : processing 11-th weight.\n",
      "Multiobjective optimization : 33-th epoch.\n",
      "During MO : processing 0-th weight.\n",
      "During MO : processing 1-th weight.\n",
      "During MO : processing 2-th weight.\n",
      "During MO : processing 3-th weight.\n",
      "During MO : processing 4-th weight.\n",
      "During MO : processing 5-th weight.\n",
      "During MO : processing 6-th weight.\n",
      "During MO : processing 7-th weight.\n",
      "During MO : processing 8-th weight.\n",
      "During MO : processing 9-th weight.\n",
      "During MO : processing 10-th weight.\n",
      "During MO : processing 11-th weight.\n",
      "Multiobjective optimization : 34-th epoch.\n",
      "During MO : processing 0-th weight.\n",
      "During MO : processing 1-th weight.\n",
      "During MO : processing 2-th weight.\n",
      "During MO : processing 3-th weight.\n",
      "During MO : processing 4-th weight.\n",
      "During MO : processing 5-th weight.\n",
      "During MO : processing 6-th weight.\n",
      "During MO : processing 7-th weight.\n",
      "During MO : processing 8-th weight.\n",
      "During MO : processing 9-th weight.\n",
      "During MO : processing 10-th weight.\n",
      "During MO : processing 11-th weight.\n",
      "Multiobjective optimization : 35-th epoch.\n",
      "During MO : processing 0-th weight.\n",
      "During MO : processing 1-th weight.\n",
      "During MO : processing 2-th weight.\n",
      "During MO : processing 3-th weight.\n",
      "During MO : processing 4-th weight.\n",
      "During MO : processing 5-th weight.\n",
      "During MO : processing 6-th weight.\n",
      "During MO : processing 7-th weight.\n",
      "During MO : processing 8-th weight.\n",
      "During MO : processing 9-th weight.\n",
      "During MO : processing 10-th weight.\n",
      "During MO : processing 11-th weight.\n",
      "Multiobjective optimization : 36-th epoch.\n",
      "During MO : processing 0-th weight.\n",
      "During MO : processing 1-th weight.\n",
      "During MO : processing 2-th weight.\n",
      "During MO : processing 3-th weight.\n",
      "During MO : processing 4-th weight.\n",
      "During MO : processing 5-th weight.\n",
      "During MO : processing 6-th weight.\n",
      "During MO : processing 7-th weight.\n",
      "During MO : processing 8-th weight.\n",
      "During MO : processing 9-th weight.\n",
      "During MO : processing 10-th weight.\n",
      "During MO : processing 11-th weight.\n",
      "Multiobjective optimization : 37-th epoch.\n",
      "During MO : processing 0-th weight.\n",
      "During MO : processing 1-th weight.\n",
      "During MO : processing 2-th weight.\n",
      "During MO : processing 3-th weight.\n",
      "During MO : processing 4-th weight.\n",
      "During MO : processing 5-th weight.\n",
      "During MO : processing 6-th weight.\n",
      "During MO : processing 7-th weight.\n",
      "During MO : processing 8-th weight.\n",
      "During MO : processing 9-th weight.\n",
      "During MO : processing 10-th weight.\n",
      "During MO : processing 11-th weight.\n",
      "Multiobjective optimization : 38-th epoch.\n",
      "During MO : processing 0-th weight.\n",
      "During MO : processing 1-th weight.\n",
      "During MO : processing 2-th weight.\n",
      "During MO : processing 3-th weight.\n",
      "During MO : processing 4-th weight.\n",
      "During MO : processing 5-th weight.\n",
      "During MO : processing 6-th weight.\n",
      "During MO : processing 7-th weight.\n",
      "During MO : processing 8-th weight.\n",
      "During MO : processing 9-th weight.\n",
      "During MO : processing 10-th weight.\n",
      "During MO : processing 11-th weight.\n",
      "Multiobjective optimization : 39-th epoch.\n",
      "During MO : processing 0-th weight.\n",
      "During MO : processing 1-th weight.\n",
      "During MO : processing 2-th weight.\n",
      "During MO : processing 3-th weight.\n",
      "During MO : processing 4-th weight.\n",
      "During MO : processing 5-th weight.\n",
      "During MO : processing 6-th weight.\n",
      "During MO : processing 7-th weight.\n",
      "During MO : processing 8-th weight.\n",
      "During MO : processing 9-th weight.\n",
      "During MO : processing 10-th weight.\n",
      "During MO : processing 11-th weight.\n",
      "The optimization has been conducted.\n"
     ]
    }
   ],
   "source": [
    "epde_search_obj = epde_discovery(grids_training, data_training, derivs = None,\n",
    "                                 multiobjective_mode = True)"
   ]
  },
  {
   "cell_type": "code",
   "execution_count": 10,
   "id": "f6725b74",
   "metadata": {},
   "outputs": [
    {
     "name": "stdout",
     "output_type": "stream",
     "text": [
      "\n",
      "\n",
      "0-th non-dominated level\n",
      "\n",
      "\n",
      "0.011905741841869844 * u{power: 1.0} + 0.0 * du/dx1{power: 1.0} + 0.0 * du/dx1{power: 1.0} * cos{power: 1.0, freq: 2.3253281323703763, dim: 0.0} + 0.32974531391191064 * du/dx0{power: 1.0} + -0.060625779168636554 = du/dx0{power: 1.0} * t{power: 1.0}\n",
      "{'terms_number': {'optimizable': False, 'value': 5}, 'max_factors_in_term': {'optimizable': False, 'value': {'factors_num': [1, 2], 'probas': [0.8, 0.2]}}, ('sparsity', 'u'): {'optimizable': True, 'value': 0.005389332800765185}} , with objective function values of [0.44651103 3.        ] \n",
      "\n",
      "-0.207504629038574 * u{power: 1.0} + 0.0 * du/dx1{power: 1.0} + 0.0 * d^2u/dx1^2{power: 1.0} * x{power: 1.0} + 0.0 * du/dx1{power: 1.0} * cos{power: 1.0, freq: 2.3253281323703763, dim: 0.0} + 0.911194562567873 = du/dx0{power: 1.0}\n",
      "{'terms_number': {'optimizable': False, 'value': 5}, 'max_factors_in_term': {'optimizable': False, 'value': {'factors_num': [1, 2], 'probas': [0.8, 0.2]}}, ('sparsity', 'u'): {'optimizable': True, 'value': 0.03549022718698453}} , with objective function values of [5.39161209 1.5       ] \n",
      "\n",
      "0.04010726427900155 * d^2u/dx1^2{power: 1.0} + 0.0 * d^2u/dx1^2{power: 1.0} * du/dx1{power: 1.0} + 0.0 * du/dx1{power: 1.0} * cos{power: 1.0, freq: 5.392409676108526, dim: 1.0} + 0.0 * du/dx1{power: 1.0} + -0.012709299997449876 = d^2u/dx0^2{power: 1.0}\n",
      "{'terms_number': {'optimizable': False, 'value': 5}, 'max_factors_in_term': {'optimizable': False, 'value': {'factors_num': [1, 2], 'probas': [0.8, 0.2]}}, ('sparsity', 'u'): {'optimizable': True, 'value': 0.020622921322066844}} , with objective function values of [0.26649871 4.        ] \n",
      "\n",
      "0.0 * du/dx1{power: 1.0} + -0.207504629038574 * u{power: 1.0} + 0.0 * u{power: 1.0} * sin{power: 1.0, freq: 1.9345477635266553, dim: 0.0} + 0.0 * du/dx0{power: 1.0} * d^2u/dx1^2{power: 1.0} + 0.911194562567873 = du/dx0{power: 1.0}\n",
      "{'terms_number': {'optimizable': False, 'value': 5}, 'max_factors_in_term': {'optimizable': False, 'value': {'factors_num': [1, 2], 'probas': [0.8, 0.2]}}, ('sparsity', 'u'): {'optimizable': True, 'value': 0.02620835523226612}} , with objective function values of [5.39161209 1.5       ] \n",
      "\n",
      "0.0 * du/dx1{power: 1.0} + 0.0 * d^2u/dx0^2{power: 1.0} * du/dx0{power: 1.0} + 0.04146583191012797 * d^2u/dx1^2{power: 1.0} + 0.04423468136506323 * u{power: 1.0} + -0.14923069723056903 = d^2u/dx0^2{power: 1.0}\n",
      "{'terms_number': {'optimizable': False, 'value': 5}, 'max_factors_in_term': {'optimizable': False, 'value': {'factors_num': [1, 2], 'probas': [0.8, 0.2]}}, ('sparsity', 'u'): {'optimizable': True, 'value': 0.019242047225243173}} , with objective function values of [0.23534125 4.5       ] \n",
      "\n",
      "0.0 * du/dx1{power: 1.0} + 0.0 * d^2u/dx1^2{power: 1.0} * du/dx1{power: 1.0} + -0.207504629038574 * u{power: 1.0} + 0.0 * d^2u/dx0^2{power: 1.0} * d^2u/dx1^2{power: 1.0} + 0.911194562567873 = du/dx0{power: 1.0}\n",
      "{'terms_number': {'optimizable': False, 'value': 5}, 'max_factors_in_term': {'optimizable': False, 'value': {'factors_num': [1, 2], 'probas': [0.8, 0.2]}}, ('sparsity', 'u'): {'optimizable': True, 'value': 0.04659950206649196}} , with objective function values of [5.39161209 1.5       ] \n",
      "\n",
      "0.0 * u{power: 1.0} * du/dx1{power: 1.0} + 0.04423468136506484 * u{power: 1.0} + 0.0 * du/dx0{power: 1.0} + 0.04146583191012806 * d^2u/dx1^2{power: 1.0} + -0.1492306972305688 = d^2u/dx0^2{power: 1.0}\n",
      "{'terms_number': {'optimizable': False, 'value': 5}, 'max_factors_in_term': {'optimizable': False, 'value': {'factors_num': [1, 2], 'probas': [0.8, 0.2]}}, ('sparsity', 'u'): {'optimizable': True, 'value': 0.04204990499028635}} , with objective function values of [0.23534125 4.5       ] \n",
      "\n",
      "0.0 * du/dx0{power: 1.0} + 0.0 * du/dx1{power: 1.0} + 0.04010726427900155 * d^2u/dx1^2{power: 1.0} + 0.0 * d^2u/dx1^2{power: 1.0} * cos{power: 1.0, freq: 6.138020855662113, dim: 1.0} + -0.012709299997449876 = d^2u/dx0^2{power: 1.0}\n",
      "{'terms_number': {'optimizable': False, 'value': 5}, 'max_factors_in_term': {'optimizable': False, 'value': {'factors_num': [1, 2], 'probas': [0.8, 0.2]}}, ('sparsity', 'u'): {'optimizable': True, 'value': 0.07976441793073075}} , with objective function values of [0.26649871 4.        ] \n",
      "\n",
      "0.04423468136506484 * u{power: 1.0} + 0.0 * d^2u/dx0^2{power: 1.0} * du/dx1{power: 1.0} + 0.04146583191012806 * d^2u/dx1^2{power: 1.0} + 0.0 * du/dx0{power: 1.0} * d^2u/dx1^2{power: 1.0} + -0.1492306972305688 = d^2u/dx0^2{power: 1.0}\n",
      "{'terms_number': {'optimizable': False, 'value': 5}, 'max_factors_in_term': {'optimizable': False, 'value': {'factors_num': [1, 2], 'probas': [0.8, 0.2]}}, ('sparsity', 'u'): {'optimizable': True, 'value': 0.23727618309112955}} , with objective function values of [0.23534125 4.5       ] \n",
      "\n",
      "0.0 * d^2u/dx0^2{power: 1.0} * du/dx0{power: 1.0} + 0.04423468136506484 * u{power: 1.0} + 0.04146583191012806 * d^2u/dx1^2{power: 1.0} + 0.0 * du/dx1{power: 1.0} * u{power: 1.0} + -0.1492306972305688 = d^2u/dx0^2{power: 1.0}\n",
      "{'terms_number': {'optimizable': False, 'value': 5}, 'max_factors_in_term': {'optimizable': False, 'value': {'factors_num': [1, 2], 'probas': [0.8, 0.2]}}, ('sparsity', 'u'): {'optimizable': True, 'value': 0.009913587568743583}} , with objective function values of [0.23534125 4.5       ] \n",
      "\n",
      "0.04423468136506484 * u{power: 1.0} + 0.0 * du/dx0{power: 1.0} + 0.0 * du/dx1{power: 1.0} + 0.04146583191012806 * d^2u/dx1^2{power: 1.0} + -0.1492306972305688 = d^2u/dx0^2{power: 1.0}\n",
      "{'terms_number': {'optimizable': False, 'value': 5}, 'max_factors_in_term': {'optimizable': False, 'value': {'factors_num': [1, 2], 'probas': [0.8, 0.2]}}, ('sparsity', 'u'): {'optimizable': True, 'value': 0.06533485444748144}} , with objective function values of [0.23534125 4.5       ] \n",
      "\n",
      "0.04423468136506484 * u{power: 1.0} + 0.0 * du/dx0{power: 1.0} + 0.04146583191012806 * d^2u/dx1^2{power: 1.0} + 0.0 * du/dx1{power: 1.0} + -0.1492306972305688 = d^2u/dx0^2{power: 1.0}\n",
      "{'terms_number': {'optimizable': False, 'value': 5}, 'max_factors_in_term': {'optimizable': False, 'value': {'factors_num': [1, 2], 'probas': [0.8, 0.2]}}, ('sparsity', 'u'): {'optimizable': True, 'value': 0.0742799714675658}} , with objective function values of [0.23534125 4.5       ] \n",
      "\n"
     ]
    }
   ],
   "source": [
    "epde_search_obj.equations()"
   ]
  },
  {
   "cell_type": "code",
   "execution_count": 11,
   "id": "474161b7",
   "metadata": {},
   "outputs": [
    {
     "name": "stdout",
     "output_type": "stream",
     "text": [
      "$\\begin{eqnarray*} \\frac{\\partial u}{\\partial x_0} \\cdot t{power: 1.0} = 1.191\\cdot 10^{-2} u + 3.297\\cdot 10^{-1} \\frac{\\partial u}{\\partial x_0} + -6.063\\cdot 10^{-2}  \\end{eqnarray*}$\n",
      "$\\begin{eqnarray*} \\frac{\\partial u}{\\partial x_0} = -2.075\\cdot 10^{-1} u + 9.112\\cdot 10^{-1}  \\end{eqnarray*}$\n",
      "$\\begin{eqnarray*} \\frac{\\partial ^2u}{\\partial x_0^2} = 4.011\\cdot 10^{-2} \\frac{\\partial ^2u}{\\partial x_1^2} + -1.271\\cdot 10^{-2}  \\end{eqnarray*}$\n",
      "$\\begin{eqnarray*} \\frac{\\partial ^2u}{\\partial x_0^2} = 4.147\\cdot 10^{-2} \\frac{\\partial ^2u}{\\partial x_1^2} + 4.423\\cdot 10^{-2} u + -1.492\\cdot 10^{-1}  \\end{eqnarray*}$\n"
     ]
    },
    {
     "data": {
      "image/png": "[encoded data removed]",
      "text/plain": [
       "<Figure size 640x480 with 1 Axes>"
      ]
     },
     "metadata": {},
     "output_type": "display_data"
    }
   ],
   "source": [
    "epde_search_obj.visualize_solutions()"
   ]
  },
  {
   "cell_type": "code",
   "execution_count": null,
   "id": "e34505a2",
   "metadata": {},
   "outputs": [],
   "source": []
  },
  {
   "cell_type": "code",
   "execution_count": 12,
   "id": "3ba9f78d",
   "metadata": {},
   "outputs": [],
   "source": [
    "systems = {'3' : epde_search_obj.get_equations_by_complexity(3)[0],\n",
    "           '4' : epde_search_obj.get_equations_by_complexity(4)[0]}"
   ]
  },
  {
   "cell_type": "code",
   "execution_count": 14,
   "id": "d444876c",
   "metadata": {},
   "outputs": [
    {
     "name": "stdout",
     "output_type": "stream",
     "text": [
      "[0.     0.0125 0.025  0.0375 0.05   0.0625 0.075  0.0875 0.1    0.1125\n",
      " 0.125  0.1375 0.15   0.1625 0.175  0.1875 0.2    0.2125 0.225  0.2375\n",
      " 0.25   0.2625 0.275  0.2875 0.3    0.3125 0.325  0.3375 0.35   0.3625\n",
      " 0.375  0.3875 0.4    0.4125 0.425  0.4375 0.45   0.4625 0.475  0.4875\n",
      " 0.5    0.5125 0.525  0.5375 0.55   0.5625 0.575  0.5875 0.6    0.6125\n",
      " 0.625  0.6375 0.65   0.6625 0.675  0.6875 0.7    0.7125 0.725  0.7375\n",
      " 0.75   0.7625 0.775  0.7875 0.8    0.8125 0.825  0.8375 0.85   0.8625\n",
      " 0.875  0.8875 0.9    0.9125 0.925  0.9375 0.95   0.9625 0.975  0.9875\n",
      " 1.    ] [0.     0.0125 0.025  0.0375 0.05   0.0625 0.075  0.0875 0.1    0.1125\n",
      " 0.125  0.1375 0.15   0.1625 0.175  0.1875 0.2    0.2125 0.225  0.2375\n",
      " 0.25   0.2625 0.275  0.2875 0.3    0.3125 0.325  0.3375 0.35   0.3625\n",
      " 0.375  0.3875 0.4    0.4125 0.425  0.4375 0.45   0.4625 0.475  0.4875\n",
      " 0.5    0.5125 0.525  0.5375 0.55   0.5625 0.575  0.5875 0.6    0.6125\n",
      " 0.625  0.6375 0.65   0.6625 0.675  0.6875 0.7    0.7125 0.725  0.7375\n",
      " 0.75   0.7625 0.775  0.7875 0.8    0.8125 0.825  0.8375 0.85   0.8625\n",
      " 0.875  0.8875 0.9    0.9125 0.925  0.9375 0.95   0.9625 0.975  0.9875\n",
      " 1.    ]\n"
     ]
    }
   ],
   "source": [
    "t, x = np.unique(grids[0]), np.unique(grids[1])\n",
    "print(t, x)"
   ]
  },
  {
   "cell_type": "code",
   "execution_count": 15,
   "id": "a1cb38e2",
   "metadata": {},
   "outputs": [
    {
     "name": "stdout",
     "output_type": "stream",
     "text": [
      "bop 1: torch.Size([81])\n",
      "bop 2: torch.Size([81])\n",
      "bop 3: torch.Size([41])\n",
      "bop 4: torch.Size([41])\n"
     ]
    }
   ],
   "source": [
    "from epde.interface.solver_integration import BoundaryConditions, BOPElement\n",
    "\n",
    "bnd_t = torch.cartesian_prod(torch.from_numpy(np.array([t[train_max + 1]], dtype=np.float64)),\n",
    "                             torch.from_numpy(x)).float()\n",
    "\n",
    "bop_1 = BOPElement(axis = 0, key = 'u_t', term = [None], power = 1, var = 0)\n",
    "bop_1.set_grid(bnd_t)\n",
    "bop_1.values = torch.from_numpy(data_test[0, ...]).float()\n",
    "print('bop 1:', bop_1.values.shape)\n",
    "\n",
    "t_der = epde_search_obj.saved_derivaties['u'][..., 0].reshape(grids_training[0].shape)\n",
    "bop_2 = BOPElement(axis = 0, key = 'dudt', term = [0], power = 1, var = 0)\n",
    "bop_2.set_grid(bnd_t)\n",
    "bop_2.values = torch.from_numpy(t_der[-1, ...]).float()\n",
    "print('bop 2:', bop_2.values.shape)\n",
    "\n",
    "bnd_x1 = torch.cartesian_prod(torch.from_numpy(t[train_max:]),\n",
    "                              torch.from_numpy(np.array([x[0]], dtype=np.float64))).float()\n",
    "bnd_x2 = torch.cartesian_prod(torch.from_numpy(t[train_max:]),\n",
    "                              torch.from_numpy(np.array([x[-1]], dtype=np.float64))).float()            \n",
    "\n",
    "bop_3 = BOPElement(axis = 1, key = 'u_x1', term = [None], power = 1, var = 0)\n",
    "bop_3.set_grid(bnd_x1)\n",
    "bop_3.values = torch.from_numpy(data_test[..., 0]).float()\n",
    "print('bop 3:', bop_3.values.shape)\n",
    "\n",
    "bop_4 = BOPElement(axis = 1, key = 'u_x2', term = [None], power = 1, var = 0)\n",
    "bop_4.set_grid(bnd_x2)\n",
    "bop_4.values = torch.from_numpy(data_test[..., -1]).float()\n",
    "print('bop 4:', bop_4.values.shape)"
   ]
  },
  {
   "cell_type": "code",
   "execution_count": 14,
   "id": "33f84f57",
   "metadata": {},
   "outputs": [
    {
     "data": {
      "text/plain": [
       "\"0.04010726427900155 * d^2u/dx1^2{power: 1.0} + 0.0 * du/dx0{power: 1.0} + 0.0 * du/dx1{power: 1.0} * x{power: 1.0} + 0.0 * d^2u/dx0^2{power: 1.0} * cos{power: 1.0, freq: 3.820521463918478, dim: 1.0} + -0.012709299997449876 = d^2u/dx0^2{power: 1.0}\\n{'terms_number': {'optimizable': False, 'value': 5}, 'max_factors_in_term': {'optimizable': False, 'value': {'factors_num': [1, 2], 'probas': [0.8, 0.2]}}, ('sparsity', 'u'): {'optimizable': True, 'value': 0.19603355901571345}}\""
      ]
     },
     "execution_count": 14,
     "metadata": {},
     "output_type": "execute_result"
    }
   ],
   "source": [
    "systems['4'].text_form"
   ]
  },
  {
   "cell_type": "code",
   "execution_count": 30,
   "id": "24fea341",
   "metadata": {},
   "outputs": [
    {
     "data": {
      "text/plain": [
       "<epde.optimizers.moeadd.moeadd.ParetoLevels at 0x7f6606b0bd00>"
      ]
     },
     "execution_count": 30,
     "metadata": {},
     "output_type": "execute_result"
    }
   ],
   "source": [
    "epde_search_obj.optimizer.pareto_levels."
   ]
  },
  {
   "cell_type": "code",
   "execution_count": 29,
   "id": "1b67cb73",
   "metadata": {},
   "outputs": [
    {
     "name": "stdout",
     "output_type": "stream",
     "text": [
      "Using explicitly sent system of equations.\n",
      "dimensionality is 2\n",
      "grid.shape is (41, 81)\n",
      "Shape of the grid for solver torch.Size([2, 41, 81])\n",
      "Grid is  <class 'torch.Tensor'> torch.Size([2, 41, 81])\n",
      "torch.Size([41, 81])\n",
      "before Model_prepare: torch.float64\n",
      "after Model_prepare: torch.float64\n"
     ]
    },
    {
     "ename": "RuntimeError",
     "evalue": "The size of tensor a (3321) must match the size of tensor b (41) at non-singleton dimension 1",
     "output_type": "error",
     "traceback": [
      "\u001b[0;31m---------------------------------------------------------------------------\u001b[0m",
      "\u001b[0;31mRuntimeError\u001b[0m                              Traceback (most recent call last)",
      "\u001b[0;32m~/epde/EPDE_main/examples\u001b[0m in \u001b[0;36m<module>\u001b[0;34m\u001b[0m\n\u001b[0;32m----> 1\u001b[0;31m pred_u_v_4 = epde_search_obj.predict(system=systems['4'], boundary_conditions=[bop_1(), bop_2(), bop_3(), bop_4()], \n\u001b[0m\u001b[1;32m      2\u001b[0m                                      grid = grids_test, mode='mat')\n",
      "\u001b[0;32m~/epde/EPDE_main/epde/interface/interface.py\u001b[0m in \u001b[0;36mpredict\u001b[0;34m(self, system, boundary_conditions, grid, data, system_file, solver_kwargs, mode)\u001b[0m\n\u001b[1;32m    842\u001b[0m         \u001b[0mprint\u001b[0m\u001b[0;34m(\u001b[0m\u001b[0;34mf'grid.shape is {grid[0].shape}'\u001b[0m\u001b[0;34m)\u001b[0m\u001b[0;34m\u001b[0m\u001b[0;34m\u001b[0m\u001b[0m\n\u001b[1;32m    843\u001b[0m         \u001b[0mprint\u001b[0m\u001b[0;34m(\u001b[0m\u001b[0;34mf'Shape of the grid for solver {adapter.convert_grid(grid, mode = mode).shape}'\u001b[0m\u001b[0;34m)\u001b[0m\u001b[0;34m\u001b[0m\u001b[0;34m\u001b[0m\u001b[0m\n\u001b[0;32m--> 844\u001b[0;31m         solution_model = adapter.solve_epde_system(system = system, grids = grid, data = data, \n\u001b[0m\u001b[1;32m    845\u001b[0m                                                    boundary_conditions = boundary_conditions, mode = mode)\n\u001b[1;32m    846\u001b[0m         \u001b[0;32mif\u001b[0m \u001b[0mmode\u001b[0m \u001b[0;34m==\u001b[0m \u001b[0;34m'mat'\u001b[0m\u001b[0;34m:\u001b[0m\u001b[0;34m\u001b[0m\u001b[0;34m\u001b[0m\u001b[0m\n",
      "\u001b[0;32m~/epde/EPDE_main/epde/interface/solver_integration.py\u001b[0m in \u001b[0;36msolve_epde_system\u001b[0;34m(self, system, grids, boundary_conditions, mode, data)\u001b[0m\n\u001b[1;32m    493\u001b[0m             \u001b[0m_\u001b[0m\u001b[0;34m,\u001b[0m \u001b[0mgrids\u001b[0m \u001b[0;34m=\u001b[0m \u001b[0mglobal_var\u001b[0m\u001b[0;34m.\u001b[0m\u001b[0mgrid_cache\u001b[0m\u001b[0;34m.\u001b[0m\u001b[0mget_all\u001b[0m\u001b[0;34m(\u001b[0m\u001b[0;34m)\u001b[0m\u001b[0;34m\u001b[0m\u001b[0;34m\u001b[0m\u001b[0m\n\u001b[1;32m    494\u001b[0m \u001b[0;34m\u001b[0m\u001b[0m\n\u001b[0;32m--> 495\u001b[0;31m         return self.solve(system_form=[form[1] for form in system_solver_forms], grid=grids,\n\u001b[0m\u001b[1;32m    496\u001b[0m                           boundary_conditions=boundary_conditions, mode = mode)\n\u001b[1;32m    497\u001b[0m \u001b[0;34m\u001b[0m\u001b[0m\n",
      "\u001b[0;32m~/epde/EPDE_main/epde/interface/solver_integration.py\u001b[0m in \u001b[0;36msolve\u001b[0;34m(self, system_form, grid, boundary_conditions, mode)\u001b[0m\n\u001b[1;32m    512\u001b[0m         \u001b[0;32mif\u001b[0m \u001b[0mmode\u001b[0m \u001b[0;34m==\u001b[0m \u001b[0;34m'mat'\u001b[0m\u001b[0;34m:\u001b[0m\u001b[0;34m\u001b[0m\u001b[0;34m\u001b[0m\u001b[0m\n\u001b[1;32m    513\u001b[0m             \u001b[0mself\u001b[0m\u001b[0;34m.\u001b[0m\u001b[0mmodel\u001b[0m \u001b[0;34m=\u001b[0m \u001b[0mmat_model\u001b[0m\u001b[0;34m(\u001b[0m\u001b[0mgrid\u001b[0m\u001b[0;34m,\u001b[0m \u001b[0mself\u001b[0m\u001b[0;34m.\u001b[0m\u001b[0mequation\u001b[0m\u001b[0;34m)\u001b[0m\u001b[0;34m\u001b[0m\u001b[0;34m\u001b[0m\u001b[0m\n\u001b[0;32m--> 514\u001b[0;31m         \u001b[0mself\u001b[0m\u001b[0;34m.\u001b[0m\u001b[0mprev_solution\u001b[0m \u001b[0;34m=\u001b[0m \u001b[0msolver\u001b[0m\u001b[0;34m.\u001b[0m\u001b[0mSolver\u001b[0m\u001b[0;34m(\u001b[0m\u001b[0mgrid\u001b[0m\u001b[0;34m,\u001b[0m \u001b[0mself\u001b[0m\u001b[0;34m.\u001b[0m\u001b[0mequation\u001b[0m\u001b[0;34m,\u001b[0m \u001b[0mself\u001b[0m\u001b[0;34m.\u001b[0m\u001b[0mmodel\u001b[0m\u001b[0;34m,\u001b[0m \u001b[0mmode\u001b[0m\u001b[0;34m)\u001b[0m\u001b[0;34m.\u001b[0m\u001b[0msolve\u001b[0m\u001b[0;34m(\u001b[0m\u001b[0;34m**\u001b[0m\u001b[0mself\u001b[0m\u001b[0;34m.\u001b[0m\u001b[0m_solver_params\u001b[0m\u001b[0;34m)\u001b[0m\u001b[0;34m\u001b[0m\u001b[0;34m\u001b[0m\u001b[0m\n\u001b[0m\u001b[1;32m    515\u001b[0m         \u001b[0;32mreturn\u001b[0m \u001b[0mself\u001b[0m\u001b[0;34m.\u001b[0m\u001b[0mprev_solution\u001b[0m\u001b[0;34m\u001b[0m\u001b[0;34m\u001b[0m\u001b[0m\n",
      "\u001b[0;32m~/epde/EPDE_main/epde/solver/solver.py\u001b[0m in \u001b[0;36msolve\u001b[0;34m(self, lambda_operator, lambda_bound, derivative_points, lambda_update, second_order_interactions, sampling_N, verbose, learning_rate, gamma, lr_decay, eps, tmin, tmax, nmodels, name, abs_loss, use_cache, cache_dir, cache_verbose, save_always, print_every, cache_model, patience, loss_oscillation_window, no_improvement_patience, model_randomize_parameter, optimizer_mode, step_plot_print, step_plot_save, image_save_dir, tol, clear_cache, normalized_loss_stop, inverse_parameters)\u001b[0m\n\u001b[1;32m    290\u001b[0m         \u001b[0;31m#  use cache if needed\u001b[0m\u001b[0;34m\u001b[0m\u001b[0;34m\u001b[0m\u001b[0;34m\u001b[0m\u001b[0m\n\u001b[1;32m    291\u001b[0m         \u001b[0;32mif\u001b[0m \u001b[0muse_cache\u001b[0m\u001b[0;34m:\u001b[0m\u001b[0;34m\u001b[0m\u001b[0;34m\u001b[0m\u001b[0m\n\u001b[0;32m--> 292\u001b[0;31m             self.model, min_loss = Cache_class.cache(nmodels,\n\u001b[0m\u001b[1;32m    293\u001b[0m                                                      \u001b[0mlambda_operator\u001b[0m\u001b[0;34m,\u001b[0m\u001b[0;34m\u001b[0m\u001b[0;34m\u001b[0m\u001b[0m\n\u001b[1;32m    294\u001b[0m                                                      \u001b[0mlambda_bound\u001b[0m\u001b[0;34m,\u001b[0m\u001b[0;34m\u001b[0m\u001b[0;34m\u001b[0m\u001b[0m\n",
      "\u001b[0;32m~/epde/EPDE_main/epde/solver/cache.py\u001b[0m in \u001b[0;36mcache\u001b[0;34m(self, nmodels, lambda_operator, lambda_bound, cache_verbose, model_randomize_parameter, cache_model, return_normalized_loss)\u001b[0m\n\u001b[1;32m    455\u001b[0m                                  cache_model,return_normalized_loss=return_normalized_loss)\n\u001b[1;32m    456\u001b[0m         \u001b[0;32melif\u001b[0m \u001b[0mself\u001b[0m\u001b[0;34m.\u001b[0m\u001b[0mmode\u001b[0m \u001b[0;34m==\u001b[0m \u001b[0;34m'mat'\u001b[0m\u001b[0;34m:\u001b[0m\u001b[0;34m\u001b[0m\u001b[0;34m\u001b[0m\u001b[0m\n\u001b[0;32m--> 457\u001b[0;31m             return self.cache_mat(nmodels, lambda_operator, lambda_bound,\n\u001b[0m\u001b[1;32m    458\u001b[0m                                   \u001b[0mcache_verbose\u001b[0m\u001b[0;34m,\u001b[0m \u001b[0mmodel_randomize_parameter\u001b[0m\u001b[0;34m,\u001b[0m\u001b[0;34m\u001b[0m\u001b[0;34m\u001b[0m\u001b[0m\n\u001b[1;32m    459\u001b[0m                                   cache_model,return_normalized_loss=return_normalized_loss)\n",
      "\u001b[0;32m~/epde/EPDE_main/epde/solver/cache.py\u001b[0m in \u001b[0;36mcache_mat\u001b[0;34m(self, nmodels, lambda_operator, lambda_bound, cache_verbose, model_randomize_parameter, cache_model, return_normalized_loss)\u001b[0m\n\u001b[1;32m    424\u001b[0m                             self.model.shape).detach()\n\u001b[1;32m    425\u001b[0m \u001b[0;34m\u001b[0m\u001b[0m\n\u001b[0;32m--> 426\u001b[0;31m         min_loss, _ = Solution(self.grid, self.equal_cls,\n\u001b[0m\u001b[1;32m    427\u001b[0m                                       \u001b[0mself\u001b[0m\u001b[0;34m.\u001b[0m\u001b[0mmodel\u001b[0m\u001b[0;34m,\u001b[0m \u001b[0mself\u001b[0m\u001b[0;34m.\u001b[0m\u001b[0mmode\u001b[0m\u001b[0;34m,\u001b[0m \u001b[0mself\u001b[0m\u001b[0;34m.\u001b[0m\u001b[0mweak_form\u001b[0m\u001b[0;34m,\u001b[0m\u001b[0;34m\u001b[0m\u001b[0;34m\u001b[0m\u001b[0m\n\u001b[1;32m    428\u001b[0m                                       \u001b[0mlambda_operator\u001b[0m\u001b[0;34m,\u001b[0m \u001b[0mlambda_bound\u001b[0m\u001b[0;34m,\u001b[0m \u001b[0mtol\u001b[0m\u001b[0;34m=\u001b[0m\u001b[0;36m0\u001b[0m\u001b[0;34m,\u001b[0m\u001b[0;34m\u001b[0m\u001b[0;34m\u001b[0m\u001b[0m\n",
      "\u001b[0;32m~/epde/EPDE_main/epde/solver/solution.py\u001b[0m in \u001b[0;36mevaluate\u001b[0;34m(self, second_order_interactions, sampling_N, lambda_update, save_graph)\u001b[0m\n\u001b[1;32m     87\u001b[0m         \"\"\"\n\u001b[1;32m     88\u001b[0m \u001b[0;34m\u001b[0m\u001b[0m\n\u001b[0;32m---> 89\u001b[0;31m         \u001b[0mop\u001b[0m \u001b[0;34m=\u001b[0m \u001b[0mself\u001b[0m\u001b[0;34m.\u001b[0m\u001b[0moperator\u001b[0m\u001b[0;34m.\u001b[0m\u001b[0moperator_compute\u001b[0m\u001b[0;34m(\u001b[0m\u001b[0;34m)\u001b[0m\u001b[0;34m\u001b[0m\u001b[0;34m\u001b[0m\u001b[0m\n\u001b[0m\u001b[1;32m     90\u001b[0m         \u001b[0mbval\u001b[0m\u001b[0;34m,\u001b[0m \u001b[0mtrue_bval\u001b[0m\u001b[0;34m,\u001b[0m \u001b[0mbval_keys\u001b[0m\u001b[0;34m,\u001b[0m \u001b[0mbval_length\u001b[0m \u001b[0;34m=\u001b[0m \u001b[0mself\u001b[0m\u001b[0;34m.\u001b[0m\u001b[0mboundary\u001b[0m\u001b[0;34m.\u001b[0m\u001b[0mapply_bcs\u001b[0m\u001b[0;34m(\u001b[0m\u001b[0;34m)\u001b[0m\u001b[0;34m\u001b[0m\u001b[0;34m\u001b[0m\u001b[0m\n\u001b[1;32m     91\u001b[0m \u001b[0;34m\u001b[0m\u001b[0m\n",
      "\u001b[0;32m~/epde/EPDE_main/epde/solver/eval.py\u001b[0m in \u001b[0;36moperator_compute\u001b[0;34m(self)\u001b[0m\n\u001b[1;32m    178\u001b[0m     \u001b[0;32mdef\u001b[0m \u001b[0moperator_compute\u001b[0m\u001b[0;34m(\u001b[0m\u001b[0mself\u001b[0m\u001b[0;34m)\u001b[0m\u001b[0;34m:\u001b[0m\u001b[0;34m\u001b[0m\u001b[0;34m\u001b[0m\u001b[0m\n\u001b[1;32m    179\u001b[0m         \u001b[0;32mif\u001b[0m \u001b[0mself\u001b[0m\u001b[0;34m.\u001b[0m\u001b[0mweak_form\u001b[0m \u001b[0;34m==\u001b[0m \u001b[0;32mNone\u001b[0m \u001b[0;32mor\u001b[0m \u001b[0mself\u001b[0m\u001b[0;34m.\u001b[0m\u001b[0mweak_form\u001b[0m \u001b[0;34m==\u001b[0m \u001b[0;34m[\u001b[0m\u001b[0;34m]\u001b[0m\u001b[0;34m:\u001b[0m\u001b[0;34m\u001b[0m\u001b[0;34m\u001b[0m\u001b[0m\n\u001b[0;32m--> 180\u001b[0;31m             \u001b[0;32mreturn\u001b[0m \u001b[0mself\u001b[0m\u001b[0;34m.\u001b[0m\u001b[0mpde_compute\u001b[0m\u001b[0;34m(\u001b[0m\u001b[0;34m)\u001b[0m\u001b[0;34m\u001b[0m\u001b[0;34m\u001b[0m\u001b[0m\n\u001b[0m\u001b[1;32m    181\u001b[0m         \u001b[0;32melse\u001b[0m\u001b[0;34m:\u001b[0m\u001b[0;34m\u001b[0m\u001b[0;34m\u001b[0m\u001b[0m\n\u001b[1;32m    182\u001b[0m             \u001b[0;32mreturn\u001b[0m \u001b[0mself\u001b[0m\u001b[0;34m.\u001b[0m\u001b[0mweak_pde_compute\u001b[0m\u001b[0;34m(\u001b[0m\u001b[0mself\u001b[0m\u001b[0;34m.\u001b[0m\u001b[0mweak_form\u001b[0m\u001b[0;34m)\u001b[0m\u001b[0;34m\u001b[0m\u001b[0;34m\u001b[0m\u001b[0m\n",
      "\u001b[0;32m~/epde/EPDE_main/epde/solver/eval.py\u001b[0m in \u001b[0;36mpde_compute\u001b[0;34m(self)\u001b[0m\n\u001b[1;32m    135\u001b[0m         \u001b[0mnum_of_eq\u001b[0m \u001b[0;34m=\u001b[0m \u001b[0mlen\u001b[0m\u001b[0;34m(\u001b[0m\u001b[0mself\u001b[0m\u001b[0;34m.\u001b[0m\u001b[0mprepared_operator\u001b[0m\u001b[0;34m)\u001b[0m\u001b[0;34m\u001b[0m\u001b[0;34m\u001b[0m\u001b[0m\n\u001b[1;32m    136\u001b[0m         \u001b[0;32mif\u001b[0m \u001b[0mnum_of_eq\u001b[0m \u001b[0;34m==\u001b[0m \u001b[0;36m1\u001b[0m\u001b[0;34m:\u001b[0m\u001b[0;34m\u001b[0m\u001b[0;34m\u001b[0m\u001b[0m\n\u001b[0;32m--> 137\u001b[0;31m             op = self.apply_operator(\n\u001b[0m\u001b[1;32m    138\u001b[0m                 self.prepared_operator[0], self.sorted_grid).reshape(-1,1)\n\u001b[1;32m    139\u001b[0m         \u001b[0;32melse\u001b[0m\u001b[0;34m:\u001b[0m\u001b[0;34m\u001b[0m\u001b[0;34m\u001b[0m\u001b[0m\n",
      "\u001b[0;32m~/epde/EPDE_main/epde/solver/eval.py\u001b[0m in \u001b[0;36mapply_operator\u001b[0;34m(self, operator, grid_points)\u001b[0m\n\u001b[1;32m    118\u001b[0m         \u001b[0;32mfor\u001b[0m \u001b[0mterm\u001b[0m \u001b[0;32min\u001b[0m \u001b[0moperator\u001b[0m\u001b[0;34m:\u001b[0m\u001b[0;34m\u001b[0m\u001b[0;34m\u001b[0m\u001b[0m\n\u001b[1;32m    119\u001b[0m             \u001b[0mterm\u001b[0m \u001b[0;34m=\u001b[0m \u001b[0moperator\u001b[0m\u001b[0;34m[\u001b[0m\u001b[0mterm\u001b[0m\u001b[0;34m]\u001b[0m\u001b[0;34m\u001b[0m\u001b[0;34m\u001b[0m\u001b[0m\n\u001b[0;32m--> 120\u001b[0;31m             \u001b[0mdif\u001b[0m \u001b[0;34m=\u001b[0m \u001b[0mderivative\u001b[0m\u001b[0;34m(\u001b[0m\u001b[0mterm\u001b[0m\u001b[0;34m,\u001b[0m \u001b[0mgrid_points\u001b[0m\u001b[0;34m)\u001b[0m\u001b[0;34m\u001b[0m\u001b[0;34m\u001b[0m\u001b[0m\n\u001b[0m\u001b[1;32m    121\u001b[0m             \u001b[0;32mtry\u001b[0m\u001b[0;34m:\u001b[0m\u001b[0;34m\u001b[0m\u001b[0;34m\u001b[0m\u001b[0m\n\u001b[1;32m    122\u001b[0m                 \u001b[0mtotal\u001b[0m \u001b[0;34m+=\u001b[0m \u001b[0mdif\u001b[0m\u001b[0;34m\u001b[0m\u001b[0;34m\u001b[0m\u001b[0m\n",
      "\u001b[0;32m~/epde/EPDE_main/epde/solver/derivative.py\u001b[0m in \u001b[0;36mtake_derivative\u001b[0;34m(self, term, grid_points)\u001b[0m\n\u001b[1;32m    261\u001b[0m             \u001b[0mder_term\u001b[0m \u001b[0;34m=\u001b[0m \u001b[0mterm\u001b[0m\u001b[0;34m[\u001b[0m\u001b[0;34m'coeff'\u001b[0m\u001b[0;34m]\u001b[0m\u001b[0;34m(\u001b[0m\u001b[0mgrid_points\u001b[0m\u001b[0;34m)\u001b[0m \u001b[0;34m*\u001b[0m \u001b[0mder_term\u001b[0m\u001b[0;34m\u001b[0m\u001b[0;34m\u001b[0m\u001b[0m\n\u001b[1;32m    262\u001b[0m         \u001b[0;32melse\u001b[0m\u001b[0;34m:\u001b[0m\u001b[0;34m\u001b[0m\u001b[0;34m\u001b[0m\u001b[0m\n\u001b[0;32m--> 263\u001b[0;31m             \u001b[0mder_term\u001b[0m \u001b[0;34m=\u001b[0m \u001b[0mterm\u001b[0m\u001b[0;34m[\u001b[0m\u001b[0;34m'coeff'\u001b[0m\u001b[0;34m]\u001b[0m \u001b[0;34m*\u001b[0m \u001b[0mder_term\u001b[0m\u001b[0;34m\u001b[0m\u001b[0;34m\u001b[0m\u001b[0m\n\u001b[0m\u001b[1;32m    264\u001b[0m         \u001b[0;32mreturn\u001b[0m \u001b[0mder_term\u001b[0m\u001b[0;34m\u001b[0m\u001b[0;34m\u001b[0m\u001b[0m\n\u001b[1;32m    265\u001b[0m \u001b[0;34m\u001b[0m\u001b[0m\n",
      "\u001b[0;31mRuntimeError\u001b[0m: The size of tensor a (3321) must match the size of tensor b (41) at non-singleton dimension 1"
     ]
    }
   ],
   "source": [
    "pred_u_v_4 = epde_search_obj.predict(system=systems['4'], boundary_conditions=[bop_1(), bop_2(), bop_3(), bop_4()], \n",
    "                                     grid = grids_test, mode='mat')"
   ]
  },
  {
   "cell_type": "code",
   "execution_count": 16,
   "id": "042d649c",
   "metadata": {},
   "outputs": [
    {
     "name": "stdout",
     "output_type": "stream",
     "text": [
      "Using explicitly sent system of equations.\n",
      "dimensionality is 2\n",
      "grid.shape is (41, 81)\n",
      "Shape of the grid for solver torch.Size([3321, 2])\n",
      "Grid is  <class 'torch.Tensor'> torch.Size([3321, 2])\n",
      "torch.Size([2])\n",
      "before Model_prepare: torch.float32\n",
      "after Model_prepare: torch.float32\n",
      "[2023-12-21 18:50:05.986867] initial (min) loss is inf\n",
      "[2023-12-21 18:50:06.301728] Print every 5000 step\n",
      "Step = 0 loss = 649.773193 normalized loss line= nanx+nan. There was 1 stop dings already.\n",
      "[2023-12-21 19:02:19.107154] Print every 5000 step\n",
      "Step = 5000 loss = 0.002659 normalized loss line= -0.001073x+1.115325. There was 1 stop dings already.\n",
      "[2023-12-21 19:13:15.412673] Print every 5000 step\n",
      "Step = 10000 loss = 0.000852 normalized loss line= 0.000353x+1.068117. There was 1 stop dings already.\n",
      "[2023-12-21 19:24:07.942322] Print every 5000 step\n",
      "Step = 15000 loss = 0.000415 normalized loss line= -0.000186x+1.026193. There was 1 stop dings already.\n",
      "[2023-12-21 19:35:02.936061] Print every 5000 step\n",
      "Step = 20000 loss = 0.000274 normalized loss line= -0.000067x+1.011483. There was 1 stop dings already.\n"
     ]
    }
   ],
   "source": [
    "pred_u_v_4 = epde_search_obj.predict(system=systems['4'], boundary_conditions=[bop_1(), bop_2(), bop_3(), bop_4()], \n",
    "                                     grid = grids_test, mode='autograd')"
   ]
  },
  {
   "cell_type": "code",
   "execution_count": 19,
   "id": "d3f52374",
   "metadata": {},
   "outputs": [],
   "source": [
    "pred_u_v_4_sh = pred_u_v_4.reshape(grids_test[0].shape)"
   ]
  },
  {
   "cell_type": "code",
   "execution_count": 28,
   "id": "e6c5edcf",
   "metadata": {},
   "outputs": [
    {
     "data": {
      "image/png": "[encoded data removed]",
      "text/plain": [
       "<Figure size 640x480 with 1 Axes>"
      ]
     },
     "metadata": {},
     "output_type": "display_data"
    }
   ],
   "source": [
    "import matplotlib.pyplot as plt\n",
    "plt.plot(data_training[:-2, 30] - 2*data_training[1:-1, 30] + data_training[2:, 30])\n",
    "plt.show()"
   ]
  },
  {
   "cell_type": "code",
   "execution_count": 20,
   "id": "b9485f0b",
   "metadata": {},
   "outputs": [
    {
     "data": {
      "image/png": "[encoded data removed]",
      "text/plain": [
       "<Figure size 800x600 with 2 Axes>"
      ]
     },
     "metadata": {},
     "output_type": "display_data"
    }
   ],
   "source": [
    "Heatmap(pred_u_v_4_sh)"
   ]
  },
  {
   "cell_type": "code",
   "execution_count": 24,
   "id": "0636b07e",
   "metadata": {},
   "outputs": [
    {
     "data": {
      "text/plain": [
       "array([[0.    , 0.    , 0.    , ..., 0.    , 0.    , 0.    ],\n",
       "       [0.0125, 0.0125, 0.0125, ..., 0.0125, 0.0125, 0.0125],\n",
       "       [0.025 , 0.025 , 0.025 , ..., 0.025 , 0.025 , 0.025 ],\n",
       "       ...,\n",
       "       [0.975 , 0.975 , 0.975 , ..., 0.975 , 0.975 , 0.975 ],\n",
       "       [0.9875, 0.9875, 0.9875, ..., 0.9875, 0.9875, 0.9875],\n",
       "       [1.    , 1.    , 1.    , ..., 1.    , 1.    , 1.    ]])"
      ]
     },
     "execution_count": 24,
     "metadata": {},
     "output_type": "execute_result"
    }
   ],
   "source": [
    "grids[0]"
   ]
  },
  {
   "cell_type": "code",
   "execution_count": 25,
   "id": "73bb035e",
   "metadata": {},
   "outputs": [
    {
     "ename": "ValueError",
     "evalue": "cannot reshape array of size 3240 into shape (81,81)",
     "output_type": "error",
     "traceback": [
      "\u001b[0;31m---------------------------------------------------------------------------\u001b[0m",
      "\u001b[0;31mValueError\u001b[0m                                Traceback (most recent call last)",
      "\u001b[0;32m~/epde/EPDE_main/examples\u001b[0m in \u001b[0;36m<module>\u001b[0;34m\u001b[0m\n\u001b[0;32m----> 1\u001b[0;31m \u001b[0mpred_u_v_4\u001b[0m\u001b[0;34m.\u001b[0m\u001b[0mreshape\u001b[0m\u001b[0;34m(\u001b[0m\u001b[0mgrids\u001b[0m\u001b[0;34m[\u001b[0m\u001b[0;36m0\u001b[0m\u001b[0;34m]\u001b[0m\u001b[0;34m.\u001b[0m\u001b[0mshape\u001b[0m\u001b[0;34m)\u001b[0m\u001b[0;34m\u001b[0m\u001b[0;34m\u001b[0m\u001b[0m\n\u001b[0m",
      "\u001b[0;31mValueError\u001b[0m: cannot reshape array of size 3240 into shape (81,81)"
     ]
    }
   ],
   "source": [
    "pred_u_v_4.reshape(grids[0].shape)"
   ]
  },
  {
   "cell_type": "code",
   "execution_count": null,
   "id": "a4fa73b2",
   "metadata": {},
   "outputs": [],
   "source": [
    "from epde.interface.solver_integration import BoundaryConditions, SolverAdapter, SystemSolverInterface"
   ]
  },
  {
   "cell_type": "code",
   "execution_count": null,
   "id": "32be88d3",
   "metadata": {},
   "outputs": [],
   "source": [
    "adapter = SolverAdapter(var_number = len(systems['4'].vars_to_describe))"
   ]
  },
  {
   "cell_type": "code",
   "execution_count": null,
   "id": "b11adb26",
   "metadata": {},
   "outputs": [],
   "source": [
    "ssi = SystemSolverInterface(systems['4'])"
   ]
  },
  {
   "cell_type": "code",
   "execution_count": null,
   "id": "6b02429f",
   "metadata": {},
   "outputs": [],
   "source": [
    "ssi.form()"
   ]
  },
  {
   "cell_type": "code",
   "execution_count": 82,
   "id": "f9dc8bcc",
   "metadata": {},
   "outputs": [],
   "source": [
    "import epde.globals as global_var"
   ]
  },
  {
   "cell_type": "code",
   "execution_count": 84,
   "id": "972b5708",
   "metadata": {},
   "outputs": [
    {
     "data": {
      "text/plain": [
       "[array([[0.    , 0.    , 0.    , ..., 0.    , 0.    , 0.    ],\n",
       "        [0.0125, 0.0125, 0.0125, ..., 0.0125, 0.0125, 0.0125],\n",
       "        [0.025 , 0.025 , 0.025 , ..., 0.025 , 0.025 , 0.025 ],\n",
       "        ...,\n",
       "        [0.4625, 0.4625, 0.4625, ..., 0.4625, 0.4625, 0.4625],\n",
       "        [0.475 , 0.475 , 0.475 , ..., 0.475 , 0.475 , 0.475 ],\n",
       "        [0.4875, 0.4875, 0.4875, ..., 0.4875, 0.4875, 0.4875]]),\n",
       " array([[0.    , 0.0125, 0.025 , ..., 0.975 , 0.9875, 1.    ],\n",
       "        [0.    , 0.0125, 0.025 , ..., 0.975 , 0.9875, 1.    ],\n",
       "        [0.    , 0.0125, 0.025 , ..., 0.975 , 0.9875, 1.    ],\n",
       "        ...,\n",
       "        [0.    , 0.0125, 0.025 , ..., 0.975 , 0.9875, 1.    ],\n",
       "        [0.    , 0.0125, 0.025 , ..., 0.975 , 0.9875, 1.    ],\n",
       "        [0.    , 0.0125, 0.025 , ..., 0.975 , 0.9875, 1.    ]])]"
      ]
     },
     "execution_count": 84,
     "metadata": {},
     "output_type": "execute_result"
    }
   ],
   "source": [
    "global_var.grid_cache.get_all()[1]"
   ]
  },
  {
   "cell_type": "code",
   "execution_count": null,
   "id": "96274d48",
   "metadata": {},
   "outputs": [],
   "source": []
  }
 ],
 "metadata": {
  "kernelspec": {
   "display_name": "Python 3",
   "language": "python",
   "name": "python3"
  },
  "language_info": {
   "codemirror_mode": {
    "name": "ipython",
    "version": 3
   },
   "file_extension": ".py",
   "mimetype": "text/x-python",
   "name": "python",
   "nbconvert_exporter": "python",
   "pygments_lexer": "ipython3",
   "version": "3.8.8"
  }
 },
 "nbformat": 4,
 "nbformat_minor": 5
}
