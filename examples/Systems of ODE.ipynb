{
 "cells": [
  {
   "cell_type": "code",
   "execution_count": null,
   "id": "011c03f1",
   "metadata": {},
   "outputs": [],
   "source": [
    "import numpy as np\n",
    "import os\n",
    "import sys\n",
    "from typing import Union, Callable\n",
    "\n",
    "import matplotlib.pyplot as plt\n",
    "import matplotlib as mpl"
   ]
  },
  {
   "cell_type": "code",
   "execution_count": null,
   "id": "28aef9c2",
   "metadata": {},
   "outputs": [],
   "source": [
    "import sys\n",
    "sys.path.append('..')\n",
    "import helpers"
   ]
  },
  {
   "cell_type": "code",
   "execution_count": null,
   "id": "3c38e1b7",
   "metadata": {},
   "outputs": [],
   "source": [
    "import epde\n",
    "\n",
    "mpl.rcParams.update(mpl.rcParamsDefault)\n",
    "plt.rcParams['text.usetex'] = True\n",
    "\n",
    "SMALL_SIZE = 12\n",
    "mpl.rc('font', size=SMALL_SIZE)\n",
    "mpl.rc('axes', titlesize=SMALL_SIZE)"
   ]
  },
  {
   "cell_type": "code",
   "execution_count": null,
   "id": "136ac74b",
   "metadata": {},
   "outputs": [],
   "source": [
    "def Lotka_Volterra_by_RK(initial : tuple, timestep : float, steps : int, alpha : float, \n",
    "                         beta : float, delta : float, gamma : float):\n",
    "    res = np.full(shape = (steps, 2), fill_value = initial, dtype=np.float64)\n",
    "    for step in range(steps-1):\n",
    "        # print(res[step, :])\n",
    "        k1 = alpha * res[step, 0] - beta * res[step, 0] * res[step, 1]; x1 = res[step, 0] + timestep/2. * k1\n",
    "        l1 = delta * res[step, 0] * res[step, 1] - gamma * res[step, 1]; y1 = res[step, 1] + timestep/2. * l1\n",
    "\n",
    "        k2 = alpha * x1 - beta * x1 * y1; x2 = res[step, 0] + timestep/2. * k2\n",
    "        l2 = delta * x1 * y1 - gamma * y1; y2 = res[step, 1] + timestep/2. * l2\n",
    "\n",
    "        k3 = alpha * x2 - beta * x2 * y2\n",
    "        l3 = delta * x2 * y2 - gamma * y1\n",
    "        \n",
    "        x3 = res[step, 0] + timestep * k1 - 2 * timestep * k2 + 2 * timestep * k3\n",
    "        y3 = res[step, 1] + timestep * l1 - 2 * timestep * l2 + 2 * timestep * l3\n",
    "        k4 = alpha * x3 - beta * x3 * y3\n",
    "        l4 = delta * x3 * y3 - gamma * y3\n",
    "        \n",
    "        res[step+1, 0] = res[step, 0] + timestep / 6. * (k1 + 2 * k2 + 2 * k3 + k4)\n",
    "        res[step+1, 1] = res[step, 1] + timestep / 6. * (l1 + 2 * l2 + 2 * l3 + l4)\n",
    "    return res\n",
    "\n",
    "steps_num = 301; step = 1./steps_num\n",
    "t = np.arange(start = 0, stop = step * steps_num, step = step)\n",
    "solution = Lotka_Volterra_by_RK(initial=(4., 2.), timestep=step, steps=steps_num, \n",
    "                                alpha=20., beta=20., delta=20., gamma=20.)"
   ]
  },
  {
   "cell_type": "code",
   "execution_count": null,
   "id": "a478bac2",
   "metadata": {},
   "outputs": [],
   "source": [
    "def epde_discovery(t, x, y, use_ann = False):\n",
    "    dimensionality = x.ndim - 1\n",
    "    \n",
    "    '''\n",
    "    Подбираем Парето-множество систем дифф. уравнений.\n",
    "    '''\n",
    "    epde_search_obj = epde.EpdeSearch(use_solver = False, dimensionality = dimensionality, \n",
    "                                          boundary = 25, coordinate_tensors = [t,])\n",
    "    \n",
    "    if use_ann:\n",
    "        epde_search_obj.set_preprocessor(default_preprocessor_type='ANN',\n",
    "                                         preprocessor_kwargs={'epochs_max' : 25000})\n",
    "    else:\n",
    "        epde_search_obj.set_preprocessor(default_preprocessor_type='poly',\n",
    "                                         preprocessor_kwargs={'use_smoothing' : True, 'sigma' : 1, \n",
    "                                                              'polynomial_window' : 3, 'poly_order' : 3})\n",
    "    \n",
    "    popsize = 20\n",
    "    epde_search_obj.set_moeadd_params(population_size = popsize, training_epochs=30)\n",
    "\n",
    "    factors_max_number = {'factors_num' : [1, 2], 'probas' : [0.5, 0.5]}\n",
    "    \n",
    "    epde_search_obj.fit(data=[x, y], variable_names=['u', 'v'], max_deriv_order=(1,),\n",
    "                        equation_terms_max_number=5, data_fun_pow = 2,\n",
    "                        equation_factors_max_number=factors_max_number,\n",
    "                        eq_sparsity_interval=(1e-8, 1e-4))       \n",
    "    return epde_search_obj"
   ]
  },
  {
   "cell_type": "code",
   "execution_count": null,
   "id": "a5e2fed9",
   "metadata": {},
   "outputs": [],
   "source": [
    "fig, (ax1, ax2) = plt.subplots(ncols=2, figsize=(10, 5))\n",
    "ax1.plot(t, solution[:, 0], color= 'k', label = 'Prey')\n",
    "ax1.plot(t, solution[:, 1], color= 'r', label = 'Hunters')\n",
    "ax1.set_xlabel('Time')\n",
    "ax1.set_ylabel('Population size')\n",
    "ax1.legend(loc = 'upper right')\n",
    "ax1.grid()\n",
    "\n",
    "ax2.set_xlabel('Prey')\n",
    "ax2.set_ylabel('Hunters')\n",
    "ax2.plot(solution[:, 0], solution[:, 1], color= 'k')\n",
    "ax2.grid()\n",
    "plt.show()"
   ]
  },
  {
   "cell_type": "code",
   "execution_count": null,
   "id": "cbe1acf9",
   "metadata": {},
   "outputs": [],
   "source": [
    "t_max = 150\n",
    "t_train = t[:t_max]; t_test = t[t_max:]\n",
    "\n",
    "x = solution[:t_max, 0]; x_test = solution[t_max:, 0]\n",
    "y = solution[:t_max, 1]; y_test = solution[t_max:, 1]\n",
    "\n",
    "epde_search_obj = epde_discovery(t_train, x, y, False)\n",
    "epde_search_obj.equations(only_print = True, num = 1)  "
   ]
  },
  {
   "cell_type": "code",
   "execution_count": null,
   "id": "8ac04b20",
   "metadata": {},
   "outputs": [],
   "source": [
    "disc_eq = epde_search_obj.get_equations_by_complexity([2.5, 2.5])[0]"
   ]
  },
  {
   "cell_type": "code",
   "execution_count": null,
   "id": "d2fbde3b",
   "metadata": {},
   "outputs": [],
   "source": [
    "pred_u_v = epde_search_obj.predict(system=disc_eq, boundary_conditions=None, mode='mat')"
   ]
  },
  {
   "cell_type": "code",
   "execution_count": null,
   "id": "6f276dab",
   "metadata": {},
   "outputs": [],
   "source": [
    "plt.plot(t_train, x, '+', label = 'preys, odeint')\n",
    "plt.plot(t_train, y, '*', label = \"predators, odeint\")\n",
    "plt.plot(t_train, pred_u_v[:, 0], color = 'b', label='preys, NN')\n",
    "plt.plot(t_train, pred_u_v[:, 1], color = 'r', label='predators, NN')\n",
    "plt.xlabel('Time t, [days]')\n",
    "plt.ylabel('Population')\n",
    "plt.grid()\n",
    "plt.legend(loc='upper right')\n",
    "plt.show()"
   ]
  }
 ],
 "metadata": {
  "kernelspec": {
   "display_name": "Python 3",
   "language": "python",
   "name": "python3"
  },
  "language_info": {
   "codemirror_mode": {
    "name": "ipython",
    "version": 3
   },
   "file_extension": ".py",
   "mimetype": "text/x-python",
   "name": "python",
   "nbconvert_exporter": "python",
   "pygments_lexer": "ipython3",
   "version": "3.8.8"
  }
 },
 "nbformat": 4,
 "nbformat_minor": 5
}
